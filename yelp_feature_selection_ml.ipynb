{
 "cells": [
  {
   "cell_type": "markdown",
   "metadata": {},
   "source": [
    "# Big Data Platforms\n",
    "\n",
    "## Yelp Final Project\n",
    "\n",
    "### Feature Selection\n",
    "###  Casey Ellis\n"
   ]
  },
  {
   "cell_type": "code",
   "execution_count": 1,
   "metadata": {},
   "outputs": [],
   "source": [
    "from pyspark.sql import SparkSession\n",
    "from pyspark.sql import functions as F\n",
    "from pyspark.sql.functions import regexp_extract, create_map, lit\n",
    "\n",
    "from pyspark.ml.feature import PCA, VectorAssembler, ChiSqSelector\n",
    "from pyspark.ml.linalg import Vectors\n",
    "from itertools import chain\n",
    "\n",
    "import matplotlib.pyplot as plt\n",
    "%matplotlib inline\n",
    "\n",
    "import pandas as pd"
   ]
  },
  {
   "cell_type": "code",
   "execution_count": 2,
   "metadata": {
    "scrolled": true
   },
   "outputs": [
    {
     "data": {
      "text/plain": [
       "[('spark.eventLog.enabled', 'true'),\n",
       " ('spark.yarn.jars',\n",
       "  'local:/opt/cloudera/parcels/CDH-6.3.0-1.cdh6.3.0.p0.1279813/lib/spark/jars/*,local:/opt/cloudera/parcels/CDH-6.3.0-1.cdh6.3.0.p0.1279813/lib/spark/hive/*'),\n",
       " ('spark.yarn.appMasterEnv.MKL_NUM_THREADS', '1'),\n",
       " ('spark.sql.queryExecutionListeners',\n",
       "  'com.cloudera.spark.lineage.NavigatorQueryListener'),\n",
       " ('spark.executor.memory', '5g'),\n",
       " ('spark.lineage.log.dir', '/var/log/spark/lineage'),\n",
       " ('spark.org.apache.hadoop.yarn.server.webproxy.amfilter.AmIpFilter.param.PROXY_HOSTS',\n",
       "  'md01.rcc.local,md02.rcc.local'),\n",
       " ('spark.serializer', 'org.apache.spark.serializer.KryoSerializer'),\n",
       " ('spark.executorEnv.PYTHONPATH',\n",
       "  '/opt/cloudera/parcels/CDH/lib/spark/python/lib/py4j-0.10.7-src.zip:/opt/cloudera/parcels/CDH/lib/spark/python/lib/pyspark.zip<CPS>/opt/cloudera/parcels/CDH-6.3.0-1.cdh6.3.0.p0.1279813/lib/spark/python/lib/py4j-0.10.7-src.zip<CPS>/opt/cloudera/parcels/CDH-6.3.0-1.cdh6.3.0.p0.1279813/lib/spark/python/lib/pyspark.zip'),\n",
       " ('spark.yarn.historyServer.address', 'http://hd01.rcc.local:18088'),\n",
       " ('spark.driver.appUIAddress', 'http://md01.rcc.local:4042'),\n",
       " ('spark.ui.proxyBase', '/proxy/application_1619493632612_6157'),\n",
       " ('spark.ui.filters',\n",
       "  'org.apache.hadoop.yarn.server.webproxy.amfilter.AmIpFilter'),\n",
       " ('spark.org.apache.hadoop.yarn.server.webproxy.amfilter.AmIpFilter.param.PROXY_URI_BASES',\n",
       "  'http://md01.rcc.local:8088/proxy/application_1619493632612_6157,http://md02.rcc.local:8088/proxy/application_1619493632612_6157'),\n",
       " ('spark.network.crypto.enabled', 'false'),\n",
       " ('spark.executorEnv.MKL_NUM_THREADS', '1'),\n",
       " ('spark.ui.enabled', 'true'),\n",
       " ('spark.executor.id', 'driver'),\n",
       " ('spark.executor.extraLibraryPath',\n",
       "  '/opt/cloudera/parcels/CDH-6.3.0-1.cdh6.3.0.p0.1279813/lib/hadoop/lib/native'),\n",
       " ('spark.dynamicAllocation.schedulerBacklogTimeout', '1'),\n",
       " ('spark.yarn.config.gatewayPath', '/opt/cloudera/parcels'),\n",
       " ('spark.extraListeners', 'com.cloudera.spark.lineage.NavigatorAppListener'),\n",
       " ('spark.port.maxRetries', '60'),\n",
       " ('spark.sql.warehouse.dir', '/user/hive/warehouse'),\n",
       " ('spark.app.name', 'Spark Updated Conf'),\n",
       " ('spark.sql.catalogImplementation', 'hive'),\n",
       " ('spark.driver.log.persistToDfs.enabled', 'true'),\n",
       " ('spark.yarn.config.replacementPath', '{{HADOOP_COMMON_HOME}}/../../..'),\n",
       " ('spark.executorEnv.OPENBLAS_NUM_THREADS', '1'),\n",
       " ('spark.driver.extraLibraryPath',\n",
       "  '/opt/cloudera/parcels/CDH-6.3.0-1.cdh6.3.0.p0.1279813/lib/hadoop/lib/native'),\n",
       " ('spark.ui.killEnabled', 'true'),\n",
       " ('spark.driver.port', '40928'),\n",
       " ('spark.cores.max', '4'),\n",
       " ('spark.eventLog.dir', 'hdfs://nameservice1/user/spark/applicationHistory'),\n",
       " ('spark.dynamicAllocation.executorIdleTimeout', '60'),\n",
       " ('spark.executor.cores', '4'),\n",
       " ('spark.io.encryption.enabled', 'false'),\n",
       " ('spark.authenticate', 'false'),\n",
       " ('spark.app.id', 'application_1619493632612_6157'),\n",
       " ('spark.driver.memory', '8g'),\n",
       " ('spark.serializer.objectStreamReset', '100'),\n",
       " ('spark.submit.deployMode', 'client'),\n",
       " ('spark.org.apache.hadoop.yarn.server.webproxy.amfilter.AmIpFilter.param.RM_HA_URLS',\n",
       "  'md01.rcc.local:8088,md02.rcc.local:8088'),\n",
       " ('spark.shuffle.service.enabled', 'true'),\n",
       " ('spark.yarn.historyServer.allowTracking', 'true'),\n",
       " ('spark.yarn.appMasterEnv.OPENBLAS_NUM_THREADS', '1'),\n",
       " ('spark.shuffle.service.port', '7337'),\n",
       " ('spark.lineage.enabled', 'true'),\n",
       " ('spark.master', 'yarn'),\n",
       " ('spark.driver.host', 'md01.rcc.local'),\n",
       " ('spark.rdd.compress', 'True'),\n",
       " ('spark.yarn.am.extraLibraryPath',\n",
       "  '/opt/cloudera/parcels/CDH-6.3.0-1.cdh6.3.0.p0.1279813/lib/hadoop/lib/native'),\n",
       " ('spark.dynamicAllocation.minExecutors', '0'),\n",
       " ('spark.yarn.isPython', 'true'),\n",
       " ('spark.dynamicAllocation.enabled', 'true'),\n",
       " ('spark.ui.showConsoleProgress', 'true'),\n",
       " ('spark.driver.log.dfsDir', '/user/spark/driverLogs')]"
      ]
     },
     "execution_count": 2,
     "metadata": {},
     "output_type": "execute_result"
    }
   ],
   "source": [
    "#create Spark session\n",
    "spark = SparkSession.builder.appName('YelpReviews').getOrCreate()\n",
    "\n",
    "#change configuration settings on Spark \n",
    "conf = spark.sparkContext._conf.setAll([('spark.executor.memory', '5g'), ('spark.app.name', 'Spark Updated Conf'), ('spark.executor.cores', '4'), ('spark.cores.max', '4'), ('spark.driver.memory','8g')])\n",
    "\n",
    "#print spark configuration settings\n",
    "spark.sparkContext.getConf().getAll()"
   ]
  },
  {
   "cell_type": "code",
   "execution_count": 3,
   "metadata": {},
   "outputs": [
    {
     "name": "stdout",
     "output_type": "stream",
     "text": [
      "WARNING: log4j.properties is not found. HADOOP_CONF_DIR may be incomplete.\n",
      "Java HotSpot(TM) 64-Bit Server VM warning: ignoring option MaxPermSize=512M; support was removed in 8.0\n",
      "Found 5 items\n",
      "-rw-r--r--   3 kfgbah kfgbah  124380583 2021-07-28 12:53 /user/kfgbah/Yelp/yelp_academic_dataset_business.json\n",
      "-rw-r--r--   3 kfgbah kfgbah  398272056 2021-07-28 12:50 /user/kfgbah/Yelp/yelp_academic_dataset_checkin.json\n",
      "-rw-r--r--   3 kfgbah kfgbah 6936678061 2021-07-28 12:55 /user/kfgbah/Yelp/yelp_academic_dataset_review.json\n",
      "-rw-r--r--   3 kfgbah kfgbah  230307244 2021-07-28 12:52 /user/kfgbah/Yelp/yelp_academic_dataset_tip.json\n",
      "-rw-r--r--   3 kfgbah kfgbah 3684505303 2021-07-28 13:05 /user/kfgbah/Yelp/yelp_academic_dataset_user.json\n"
     ]
    }
   ],
   "source": [
    "!hdfs dfs -ls /user/kfgbah/Yelp/"
   ]
  },
  {
   "cell_type": "markdown",
   "metadata": {},
   "source": [
    "### Import Data\n",
    "Getting the review and business data"
   ]
  },
  {
   "cell_type": "code",
   "execution_count": 4,
   "metadata": {
    "scrolled": true
   },
   "outputs": [
    {
     "name": "stdout",
     "output_type": "stream",
     "text": [
      "CPU times: user 4.75 ms, sys: 4.55 ms, total: 9.3 ms\n",
      "Wall time: 19.9 s\n"
     ]
    }
   ],
   "source": [
    "%time df_rev = spark.read.json(\"/user/kfgbah/Yelp/yelp_academic_dataset_review.json\")"
   ]
  },
  {
   "cell_type": "code",
   "execution_count": 5,
   "metadata": {},
   "outputs": [
    {
     "name": "stdout",
     "output_type": "stream",
     "text": [
      "root\n",
      " |-- business_id: string (nullable = true)\n",
      " |-- cool: long (nullable = true)\n",
      " |-- date: string (nullable = true)\n",
      " |-- funny: long (nullable = true)\n",
      " |-- review_id: string (nullable = true)\n",
      " |-- stars: double (nullable = true)\n",
      " |-- text: string (nullable = true)\n",
      " |-- useful: long (nullable = true)\n",
      " |-- user_id: string (nullable = true)\n",
      "\n"
     ]
    }
   ],
   "source": [
    "df_rev.printSchema()"
   ]
  },
  {
   "cell_type": "code",
   "execution_count": 6,
   "metadata": {},
   "outputs": [
    {
     "name": "stdout",
     "output_type": "stream",
     "text": [
      "+------+\n",
      "|useful|\n",
      "+------+\n",
      "|    26|\n",
      "|    29|\n",
      "|    65|\n",
      "|   191|\n",
      "|   222|\n",
      "|    19|\n",
      "|    54|\n",
      "|     0|\n",
      "|   167|\n",
      "|   112|\n",
      "|   113|\n",
      "|   155|\n",
      "|    22|\n",
      "|   198|\n",
      "|   130|\n",
      "|   196|\n",
      "|     7|\n",
      "|    77|\n",
      "|    34|\n",
      "|   184|\n",
      "+------+\n",
      "only showing top 20 rows\n",
      "\n"
     ]
    }
   ],
   "source": [
    "df_rev.select('useful').distinct().show()"
   ]
  },
  {
   "cell_type": "code",
   "execution_count": 7,
   "metadata": {},
   "outputs": [
    {
     "data": {
      "text/plain": [
       "[Row(business_id='buF9druCkbuXLX526sGELQ', cool=1, date='2014-10-11 03:34:02', funny=1, review_id='lWC-xP3rd6obsecCYsGZRg', stars=4.0, text=\"Apparently Prides Osteria had a rough summer as evidenced by the almost empty dining room at 6:30 on a Friday night. However new blood in the kitchen seems to have revitalized the food from other customers recent visits. Waitstaff was warm but unobtrusive. By 8 pm or so when we left the bar was full and the dining room was much more lively than it had been. Perhaps Beverly residents prefer a later seating. \\n\\nAfter reading the mixed reviews of late I was a little tentative over our choice but luckily there was nothing to worry about in the food department. We started with the fried dough, burrata and prosciutto which were all lovely. Then although they don't offer half portions of pasta we each ordered the entree size and split them. We chose the tagliatelle bolognese and a four cheese filled pasta in a creamy sauce with bacon, asparagus and grana frita. Both were very good. We split a secondi which was the special Berkshire pork secreto, which was described as a pork skirt steak with garlic potato purée and romanesco broccoli (incorrectly described as a romanesco sauce). Some tables received bread before the meal but for some reason we did not. \\n\\nManagement also seems capable for when the tenants in the apartment above began playing basketball she intervened and also comped the tables a dessert. We ordered the apple dumpling with gelato and it was also quite tasty. Portions are not huge which I particularly like because I prefer to order courses. If you are someone who orders just a meal you may leave hungry depending on you appetite. Dining room was mostly younger crowd while the bar was definitely the over 40 set. Would recommend that the naysayers return to see the improvement although I personally don't know the former glory to be able to compare. Easy access to downtown Salem without the crowds on this month of October.\", useful=3, user_id='ak0TdVmGKo4pwqdJSTLwWw')]"
      ]
     },
     "execution_count": 7,
     "metadata": {},
     "output_type": "execute_result"
    }
   ],
   "source": [
    "df_rev.head(1)"
   ]
  },
  {
   "cell_type": "code",
   "execution_count": 8,
   "metadata": {},
   "outputs": [
    {
     "name": "stdout",
     "output_type": "stream",
     "text": [
      "CPU times: user 2.92 ms, sys: 983 µs, total: 3.9 ms\n",
      "Wall time: 1.13 s\n"
     ]
    }
   ],
   "source": [
    "%time df_bus = spark.read.json(\"/user/kfgbah/Yelp/yelp_academic_dataset_business.json\")"
   ]
  },
  {
   "cell_type": "code",
   "execution_count": 9,
   "metadata": {},
   "outputs": [
    {
     "name": "stdout",
     "output_type": "stream",
     "text": [
      "root\n",
      " |-- address: string (nullable = true)\n",
      " |-- attributes: struct (nullable = true)\n",
      " |    |-- AcceptsInsurance: string (nullable = true)\n",
      " |    |-- AgesAllowed: string (nullable = true)\n",
      " |    |-- Alcohol: string (nullable = true)\n",
      " |    |-- Ambience: string (nullable = true)\n",
      " |    |-- BYOB: string (nullable = true)\n",
      " |    |-- BYOBCorkage: string (nullable = true)\n",
      " |    |-- BestNights: string (nullable = true)\n",
      " |    |-- BikeParking: string (nullable = true)\n",
      " |    |-- BusinessAcceptsBitcoin: string (nullable = true)\n",
      " |    |-- BusinessAcceptsCreditCards: string (nullable = true)\n",
      " |    |-- BusinessParking: string (nullable = true)\n",
      " |    |-- ByAppointmentOnly: string (nullable = true)\n",
      " |    |-- Caters: string (nullable = true)\n",
      " |    |-- CoatCheck: string (nullable = true)\n",
      " |    |-- Corkage: string (nullable = true)\n",
      " |    |-- DietaryRestrictions: string (nullable = true)\n",
      " |    |-- DogsAllowed: string (nullable = true)\n",
      " |    |-- DriveThru: string (nullable = true)\n",
      " |    |-- GoodForDancing: string (nullable = true)\n",
      " |    |-- GoodForKids: string (nullable = true)\n",
      " |    |-- GoodForMeal: string (nullable = true)\n",
      " |    |-- HairSpecializesIn: string (nullable = true)\n",
      " |    |-- HappyHour: string (nullable = true)\n",
      " |    |-- HasTV: string (nullable = true)\n",
      " |    |-- Music: string (nullable = true)\n",
      " |    |-- NoiseLevel: string (nullable = true)\n",
      " |    |-- Open24Hours: string (nullable = true)\n",
      " |    |-- OutdoorSeating: string (nullable = true)\n",
      " |    |-- RestaurantsAttire: string (nullable = true)\n",
      " |    |-- RestaurantsCounterService: string (nullable = true)\n",
      " |    |-- RestaurantsDelivery: string (nullable = true)\n",
      " |    |-- RestaurantsGoodForGroups: string (nullable = true)\n",
      " |    |-- RestaurantsPriceRange2: string (nullable = true)\n",
      " |    |-- RestaurantsReservations: string (nullable = true)\n",
      " |    |-- RestaurantsTableService: string (nullable = true)\n",
      " |    |-- RestaurantsTakeOut: string (nullable = true)\n",
      " |    |-- Smoking: string (nullable = true)\n",
      " |    |-- WheelchairAccessible: string (nullable = true)\n",
      " |    |-- WiFi: string (nullable = true)\n",
      " |-- business_id: string (nullable = true)\n",
      " |-- categories: string (nullable = true)\n",
      " |-- city: string (nullable = true)\n",
      " |-- hours: struct (nullable = true)\n",
      " |    |-- Friday: string (nullable = true)\n",
      " |    |-- Monday: string (nullable = true)\n",
      " |    |-- Saturday: string (nullable = true)\n",
      " |    |-- Sunday: string (nullable = true)\n",
      " |    |-- Thursday: string (nullable = true)\n",
      " |    |-- Tuesday: string (nullable = true)\n",
      " |    |-- Wednesday: string (nullable = true)\n",
      " |-- is_open: long (nullable = true)\n",
      " |-- latitude: double (nullable = true)\n",
      " |-- longitude: double (nullable = true)\n",
      " |-- name: string (nullable = true)\n",
      " |-- postal_code: string (nullable = true)\n",
      " |-- review_count: long (nullable = true)\n",
      " |-- stars: double (nullable = true)\n",
      " |-- state: string (nullable = true)\n",
      "\n"
     ]
    }
   ],
   "source": [
    "df_bus.printSchema()"
   ]
  },
  {
   "cell_type": "code",
   "execution_count": 10,
   "metadata": {},
   "outputs": [
    {
     "data": {
      "text/plain": [
       "Row(address='921 Pearl St', attributes=Row(AcceptsInsurance=None, AgesAllowed=None, Alcohol=\"'beer_and_wine'\", Ambience=\"{'touristy': False, 'hipster': False, 'romantic': False, 'divey': False, 'intimate': False, 'trendy': False, 'upscale': False, 'classy': False, 'casual': True}\", BYOB=None, BYOBCorkage=None, BestNights=None, BikeParking='True', BusinessAcceptsBitcoin='False', BusinessAcceptsCreditCards='True', BusinessParking=\"{'garage': False, 'street': True, 'validated': False, 'lot': False, 'valet': False}\", ByAppointmentOnly=None, Caters='True', CoatCheck=None, Corkage=None, DietaryRestrictions=None, DogsAllowed='False', DriveThru=None, GoodForDancing=None, GoodForKids=None, GoodForMeal=\"{'dessert': False, 'latenight': False, 'lunch': False, 'dinner': False, 'brunch': False, 'breakfast': False}\", HairSpecializesIn=None, HappyHour='True', HasTV='True', Music=None, NoiseLevel=\"u'average'\", Open24Hours=None, OutdoorSeating='True', RestaurantsAttire=\"'casual'\", RestaurantsCounterService=None, RestaurantsDelivery='None', RestaurantsGoodForGroups='True', RestaurantsPriceRange2='2', RestaurantsReservations='False', RestaurantsTableService='True', RestaurantsTakeOut='True', Smoking=None, WheelchairAccessible='True', WiFi=\"u'free'\"), business_id='6iYb2HFDywm3zjuRg0shjw', categories='Gastropubs, Food, Beer Gardens, Restaurants, Bars, American (Traditional), Beer Bar, Nightlife, Breweries', city='Boulder', hours=Row(Friday='11:0-23:0', Monday='11:0-23:0', Saturday='11:0-23:0', Sunday='11:0-23:0', Thursday='11:0-23:0', Tuesday='11:0-23:0', Wednesday='11:0-23:0'), is_open=1, latitude=40.0175444, longitude=-105.2833481, name='Oskar Blues Taproom', postal_code='80302', review_count=86, stars=4.0, state='CO')"
      ]
     },
     "execution_count": 10,
     "metadata": {},
     "output_type": "execute_result"
    }
   ],
   "source": [
    "df_bus.head()"
   ]
  },
  {
   "cell_type": "markdown",
   "metadata": {},
   "source": [
    "### Data processing\n",
    "Selecting only restaurant, flattening the attribues, narrowing the criteria for what we would consider when predicting the ratings, and representing the values numerically "
   ]
  },
  {
   "cell_type": "code",
   "execution_count": 11,
   "metadata": {
    "scrolled": true
   },
   "outputs": [
    {
     "data": {
      "text/plain": [
       "Row(address='921 Pearl St', attributes=Row(AcceptsInsurance=None, AgesAllowed=None, Alcohol=\"'beer_and_wine'\", Ambience=\"{'touristy': False, 'hipster': False, 'romantic': False, 'divey': False, 'intimate': False, 'trendy': False, 'upscale': False, 'classy': False, 'casual': True}\", BYOB=None, BYOBCorkage=None, BestNights=None, BikeParking='True', BusinessAcceptsBitcoin='False', BusinessAcceptsCreditCards='True', BusinessParking=\"{'garage': False, 'street': True, 'validated': False, 'lot': False, 'valet': False}\", ByAppointmentOnly=None, Caters='True', CoatCheck=None, Corkage=None, DietaryRestrictions=None, DogsAllowed='False', DriveThru=None, GoodForDancing=None, GoodForKids=None, GoodForMeal=\"{'dessert': False, 'latenight': False, 'lunch': False, 'dinner': False, 'brunch': False, 'breakfast': False}\", HairSpecializesIn=None, HappyHour='True', HasTV='True', Music=None, NoiseLevel=\"u'average'\", Open24Hours=None, OutdoorSeating='True', RestaurantsAttire=\"'casual'\", RestaurantsCounterService=None, RestaurantsDelivery='None', RestaurantsGoodForGroups='True', RestaurantsPriceRange2='2', RestaurantsReservations='False', RestaurantsTableService='True', RestaurantsTakeOut='True', Smoking=None, WheelchairAccessible='True', WiFi=\"u'free'\"), business_id='6iYb2HFDywm3zjuRg0shjw', categories='Gastropubs, Food, Beer Gardens, Restaurants, Bars, American (Traditional), Beer Bar, Nightlife, Breweries', city='Boulder', hours=Row(Friday='11:0-23:0', Monday='11:0-23:0', Saturday='11:0-23:0', Sunday='11:0-23:0', Thursday='11:0-23:0', Tuesday='11:0-23:0', Wednesday='11:0-23:0'), is_open=1, latitude=40.0175444, longitude=-105.2833481, name='Oskar Blues Taproom', postal_code='80302', review_count=86, stars=4.0, state='CO')"
      ]
     },
     "execution_count": 11,
     "metadata": {},
     "output_type": "execute_result"
    }
   ],
   "source": [
    "df_bus = df_bus.where(df_bus.categories.like('%Restaurant%'))\n",
    "df_bus.head()"
   ]
  },
  {
   "cell_type": "code",
   "execution_count": 12,
   "metadata": {},
   "outputs": [],
   "source": [
    "df_bus_att = df_bus.select('business_id', 'stars', 'attributes.*');"
   ]
  },
  {
   "cell_type": "markdown",
   "metadata": {},
   "source": [
    "For attributes that are a dictionary, I am expxloding them out so each entry has a column"
   ]
  },
  {
   "cell_type": "code",
   "execution_count": 13,
   "metadata": {},
   "outputs": [],
   "source": [
    "df_bus_att=df_bus_att.withColumn(\"touristy\", regexp_extract(\"Ambience\", \"(?<=\\'touristy\\': )\\w+(?=(,|}))\", 0))\\\n",
    "    .withColumn(\"hipster\", regexp_extract(\"Ambience\", \"(?<=\\'hipster\\': )\\w+(?=(,|}))\", 0))\\\n",
    "    .withColumn(\"romantic\", regexp_extract(\"Ambience\", \"(?<=\\'romantic\\': )\\w+(?=(,|}))\", 0))\\\n",
    "    .withColumn(\"divey\", regexp_extract(\"Ambience\", \"(?<=\\'divey\\': )\\w+(?=(,|}))\", 0))\\\n",
    "    .withColumn(\"intimate\", regexp_extract(\"Ambience\", \"(?<=\\'intimate\\': )\\w+(?=(,|}))\", 0))\\\n",
    "    .withColumn(\"trendy\", regexp_extract(\"Ambience\", \"(?<=\\'trendy\\': )\\w+(?=(,|}))\", 0))\\\n",
    "    .withColumn(\"upscale\", regexp_extract(\"Ambience\", \"(?<=\\'upscale\\': )\\w+(?=(,|}))\", 0))\\\n",
    "    .withColumn(\"classy\", regexp_extract(\"Ambience\", \"(?<=\\'classy\\': )\\w+(?=(,|}))\", 0))\\\n",
    "    .withColumn(\"casual\", regexp_extract(\"Ambience\", \"(?<=\\'casual\\': )\\w+(?=(,|}))\", 0))\\"
   ]
  },
  {
   "cell_type": "code",
   "execution_count": 14,
   "metadata": {},
   "outputs": [],
   "source": [
    "df_bus_att=df_bus_att.withColumn(\"garage\", regexp_extract(\"BusinessParking\", \"(?<=\\'garage\\': )\\w+(?=(,|}))\", 0))\\\n",
    "    .withColumn(\"street\", regexp_extract(\"BusinessParking\", \"(?<=\\'street\\': )\\w+(?=(,|}))\", 0))\\\n",
    "    .withColumn(\"validated\", regexp_extract(\"BusinessParking\", \"(?<=\\'validated\\': )\\w+(?=(,|}))\", 0))\\\n",
    "    .withColumn(\"lot\", regexp_extract(\"BusinessParking\", \"(?<=\\'lot\\': )\\w+(?=(,|}))\", 0))\\\n",
    "    .withColumn(\"valet\", regexp_extract(\"BusinessParking\", \"(?<=\\'valet\\': )\\w+(?=(,|}))\", 0))"
   ]
  },
  {
   "cell_type": "code",
   "execution_count": 15,
   "metadata": {},
   "outputs": [],
   "source": [
    "df_bus_att=df_bus_att.withColumn(\"dairy_free\", regexp_extract(\"DietaryRestrictions\", \"(?<=\\'dairy-free\\': )\\w+(?=(,|}))\", 0))\\\n",
    "    .withColumn(\"gluten_free\", regexp_extract(\"DietaryRestrictions\", \"(?<=\\'gluten-free\\': )\\w+(?=(,|}))\", 0))\\\n",
    "    .withColumn(\"vegan\", regexp_extract(\"DietaryRestrictions\", \"(?<=\\'vegan\\': )\\w+(?=(,|}))\", 0))\\\n",
    "    .withColumn(\"kosher\", regexp_extract(\"DietaryRestrictions\", \"(?<=\\'kosher\\': )\\w+(?=(,|}))\", 0))\\\n",
    "    .withColumn(\"halal\", regexp_extract(\"DietaryRestrictions\", \"(?<=\\'halal\\': )\\w+(?=(,|}))\", 0))\\\n",
    "    .withColumn(\"soy_free\", regexp_extract(\"DietaryRestrictions\", \"(?<=\\'soy-free\\': )\\w+(?=(,|}))\", 0))\\\n",
    "    .withColumn(\"vegetarian\", regexp_extract(\"DietaryRestrictions\", \"(?<=\\'vegetarian\\': )\\w+(?=(,|}))\", 0))\\"
   ]
  },
  {
   "cell_type": "code",
   "execution_count": 16,
   "metadata": {},
   "outputs": [],
   "source": [
    "df_bus_att=df_bus_att.withColumn(\"dessert\", regexp_extract(\"GoodForMeal\", \"(?<=\\'dessert\\': )\\w+(?=(,|}))\", 0))\\\n",
    "    .withColumn(\"latenight\", regexp_extract(\"GoodForMeal\", \"(?<=\\'latenight\\': )\\w+(?=(,|}))\", 0))\\\n",
    "    .withColumn(\"lunch\", regexp_extract(\"GoodForMeal\", \"(?<=\\'lunch\\': )\\w+(?=(,|}))\", 0))\\\n",
    "    .withColumn(\"dinner\", regexp_extract(\"GoodForMeal\", \"(?<=\\'dinner\\': )\\w+(?=(,|}))\", 0))\\\n",
    "    .withColumn(\"brunch\", regexp_extract(\"GoodForMeal\", \"(?<=\\'brunch\\': )\\w+(?=(,|}))\", 0))\\\n",
    "    .withColumn(\"breakfast\", regexp_extract(\"GoodForMeal\", \"(?<=\\'breakfast\\': )\\w+(?=(,|}))\", 0))\\"
   ]
  },
  {
   "cell_type": "code",
   "execution_count": 17,
   "metadata": {},
   "outputs": [],
   "source": [
    "df_bus_att=df_bus_att.withColumn(\"dj\", regexp_extract(\"Music\", \"(?<=\\'dj\\': )\\w+(?=(,|}))\", 0))\\\n",
    "    .withColumn(\"background_music\", regexp_extract(\"Music\", \"(?<=\\'background_music\\': )\\w+(?=(,|}))\", 0))\\\n",
    "    .withColumn(\"no_music\", regexp_extract(\"Music\", \"(?<=\\'no_music\\': )\\w+(?=(,|}))\", 0))\\\n",
    "    .withColumn(\"jukebox\", regexp_extract(\"Music\", \"(?<=\\'jukebox\\': )\\w+(?=(,|}))\", 0))\\\n",
    "    .withColumn(\"live\", regexp_extract(\"Music\", \"(?<=\\'live\\': )\\w+(?=(,|}))\", 0))\\\n",
    "    .withColumn(\"video\", regexp_extract(\"Music\", \"(?<=\\'video\\': )\\w+(?=(,|}))\", 0))\\\n",
    "    .withColumn(\"karaoke\", regexp_extract(\"Music\", \"(?<=\\'karaoke\\': )\\w+(?=(,|}))\", 0))\\"
   ]
  },
  {
   "cell_type": "code",
   "execution_count": 18,
   "metadata": {
    "scrolled": true
   },
   "outputs": [
    {
     "data": {
      "text/plain": [
       "Row(business_id='6iYb2HFDywm3zjuRg0shjw', stars=4.0, AcceptsInsurance=None, AgesAllowed=None, Alcohol=\"'beer_and_wine'\", Ambience=\"{'touristy': False, 'hipster': False, 'romantic': False, 'divey': False, 'intimate': False, 'trendy': False, 'upscale': False, 'classy': False, 'casual': True}\", BYOB=None, BYOBCorkage=None, BestNights=None, BikeParking='True', BusinessAcceptsBitcoin='False', BusinessAcceptsCreditCards='True', BusinessParking=\"{'garage': False, 'street': True, 'validated': False, 'lot': False, 'valet': False}\", ByAppointmentOnly=None, Caters='True', CoatCheck=None, Corkage=None, DietaryRestrictions=None, DogsAllowed='False', DriveThru=None, GoodForDancing=None, GoodForKids=None, GoodForMeal=\"{'dessert': False, 'latenight': False, 'lunch': False, 'dinner': False, 'brunch': False, 'breakfast': False}\", HairSpecializesIn=None, HappyHour='True', HasTV='True', Music=None, NoiseLevel=\"u'average'\", Open24Hours=None, OutdoorSeating='True', RestaurantsAttire=\"'casual'\", RestaurantsCounterService=None, RestaurantsDelivery='None', RestaurantsGoodForGroups='True', RestaurantsPriceRange2='2', RestaurantsReservations='False', RestaurantsTableService='True', RestaurantsTakeOut='True', Smoking=None, WheelchairAccessible='True', WiFi=\"u'free'\", touristy='False', hipster='False', romantic='False', divey='False', intimate='False', trendy='False', upscale='False', classy='False', casual='True', garage='False', street='True', validated='False', lot='False', valet='False', dairy_free=None, gluten_free=None, vegan=None, kosher=None, halal=None, soy_free=None, vegetarian=None, dessert='False', latenight='False', lunch='False', dinner='False', brunch='False', breakfast='False', dj=None, background_music=None, no_music=None, jukebox=None, live=None, video=None, karaoke=None)"
      ]
     },
     "execution_count": 18,
     "metadata": {},
     "output_type": "execute_result"
    }
   ],
   "source": [
    "df_bus_att.head()"
   ]
  },
  {
   "cell_type": "code",
   "execution_count": 19,
   "metadata": {
    "scrolled": false
   },
   "outputs": [
    {
     "name": "stdout",
     "output_type": "stream",
     "text": [
      "root\n",
      " |-- business_id: string (nullable = true)\n",
      " |-- stars: double (nullable = true)\n",
      " |-- AgesAllowed: string (nullable = true)\n",
      " |-- Alcohol: string (nullable = true)\n",
      " |-- BYOB: string (nullable = true)\n",
      " |-- BYOBCorkage: string (nullable = true)\n",
      " |-- BikeParking: string (nullable = true)\n",
      " |-- BusinessAcceptsBitcoin: string (nullable = true)\n",
      " |-- BusinessAcceptsCreditCards: string (nullable = true)\n",
      " |-- ByAppointmentOnly: string (nullable = true)\n",
      " |-- Caters: string (nullable = true)\n",
      " |-- CoatCheck: string (nullable = true)\n",
      " |-- Corkage: string (nullable = true)\n",
      " |-- DogsAllowed: string (nullable = true)\n",
      " |-- DriveThru: string (nullable = true)\n",
      " |-- GoodForDancing: string (nullable = true)\n",
      " |-- GoodForKids: string (nullable = true)\n",
      " |-- HappyHour: string (nullable = true)\n",
      " |-- HasTV: string (nullable = true)\n",
      " |-- NoiseLevel: string (nullable = true)\n",
      " |-- Open24Hours: string (nullable = true)\n",
      " |-- OutdoorSeating: string (nullable = true)\n",
      " |-- RestaurantsAttire: string (nullable = true)\n",
      " |-- RestaurantsCounterService: string (nullable = true)\n",
      " |-- RestaurantsDelivery: string (nullable = true)\n",
      " |-- RestaurantsGoodForGroups: string (nullable = true)\n",
      " |-- RestaurantsPriceRange2: string (nullable = true)\n",
      " |-- RestaurantsReservations: string (nullable = true)\n",
      " |-- RestaurantsTableService: string (nullable = true)\n",
      " |-- RestaurantsTakeOut: string (nullable = true)\n",
      " |-- Smoking: string (nullable = true)\n",
      " |-- WheelchairAccessible: string (nullable = true)\n",
      " |-- WiFi: string (nullable = true)\n",
      " |-- touristy: string (nullable = true)\n",
      " |-- hipster: string (nullable = true)\n",
      " |-- romantic: string (nullable = true)\n",
      " |-- divey: string (nullable = true)\n",
      " |-- intimate: string (nullable = true)\n",
      " |-- trendy: string (nullable = true)\n",
      " |-- upscale: string (nullable = true)\n",
      " |-- classy: string (nullable = true)\n",
      " |-- casual: string (nullable = true)\n",
      " |-- garage: string (nullable = true)\n",
      " |-- street: string (nullable = true)\n",
      " |-- validated: string (nullable = true)\n",
      " |-- lot: string (nullable = true)\n",
      " |-- valet: string (nullable = true)\n",
      " |-- dairy_free: string (nullable = true)\n",
      " |-- gluten_free: string (nullable = true)\n",
      " |-- vegan: string (nullable = true)\n",
      " |-- kosher: string (nullable = true)\n",
      " |-- halal: string (nullable = true)\n",
      " |-- soy_free: string (nullable = true)\n",
      " |-- vegetarian: string (nullable = true)\n",
      " |-- dessert: string (nullable = true)\n",
      " |-- latenight: string (nullable = true)\n",
      " |-- lunch: string (nullable = true)\n",
      " |-- dinner: string (nullable = true)\n",
      " |-- brunch: string (nullable = true)\n",
      " |-- breakfast: string (nullable = true)\n",
      " |-- dj: string (nullable = true)\n",
      " |-- background_music: string (nullable = true)\n",
      " |-- no_music: string (nullable = true)\n",
      " |-- jukebox: string (nullable = true)\n",
      " |-- live: string (nullable = true)\n",
      " |-- video: string (nullable = true)\n",
      " |-- karaoke: string (nullable = true)\n",
      "\n"
     ]
    }
   ],
   "source": [
    "df_bus_att = df_bus_att.drop('AcceptsInsurance', 'HairSpecializesIn', 'Ambience','BestNights', 'BusinessParking', \\\n",
    "                'DietaryRestrictions', 'GoodForMeal', 'Music')\n",
    "df_bus_att.printSchema()"
   ]
  },
  {
   "cell_type": "markdown",
   "metadata": {},
   "source": [
    "For attributes with multiple values, I am using a dictionary to replace the values with ints"
   ]
  },
  {
   "cell_type": "code",
   "execution_count": 20,
   "metadata": {},
   "outputs": [],
   "source": [
    "wDic={'null': None , 'no':3, 'u\\'no\\'':3, 'paid':1, 'u\\'paid\\'':1, 'free': 2, 'u\\'free\\'':2}\n",
    "mapping_expr = create_map([lit(x) for x in chain(*wDic.items())])\n",
    "df_bus_att = df_bus_att.withColumn('WifiInt', mapping_expr[df_bus_att['WiFi']])"
   ]
  },
  {
   "cell_type": "code",
   "execution_count": 21,
   "metadata": {
    "scrolled": true
   },
   "outputs": [],
   "source": [
    "smDic={'null': None , 'no':3, 'u\\'no\\'':3, 'outdoor':1, 'u\\'outdoor\\'':1, 'yes': 2, 'u\\'yes\\'':2}\n",
    "mapping_expr = create_map([lit(x) for x in chain(*smDic.items())])\n",
    "df_bus_att = df_bus_att.withColumn('SmokingInt', mapping_expr[df_bus_att['Smoking']])"
   ]
  },
  {
   "cell_type": "code",
   "execution_count": 22,
   "metadata": {
    "scrolled": true
   },
   "outputs": [],
   "source": [
    "prDic={'null': None, '1':1, '2':2, '3':3, '4':4}\n",
    "mapping_expr = create_map([lit(x) for x in chain(*prDic.items())])\n",
    "df_bus_att = df_bus_att.withColumn('RestaurantsPriceRange', mapping_expr[df_bus_att['RestaurantsPriceRange2']])"
   ]
  },
  {
   "cell_type": "code",
   "execution_count": 23,
   "metadata": {
    "scrolled": true
   },
   "outputs": [],
   "source": [
    "atDic={'null': None , 'casual':3, 'u\\'casual\\'':3, 'dressy':1, 'u\\'dressy\\'':1, 'formal': 2, 'u\\'formal\\'':2}\n",
    "mapping_expr = create_map([lit(x) for x in chain(*atDic.items())])\n",
    "df_bus_att = df_bus_att.withColumn('RestaurantsAttireInt', mapping_expr[df_bus_att['RestaurantsAttire']])"
   ]
  },
  {
   "cell_type": "code",
   "execution_count": 24,
   "metadata": {},
   "outputs": [],
   "source": [
    "nlDic={'null': None , 'quiet':4, 'u\\'quiet\\'':4, 'average':1, 'u\\'average\\'':1,\\\n",
    "     'loud': 2, 'u\\'loud\\'':2, 'very_loud': 3, 'u\\'very_loud\\'':3}\n",
    "mapping_expr = create_map([lit(x) for x in chain(*nlDic.items())])\n",
    "df_bus_att = df_bus_att.withColumn('NoiseLevelInt', mapping_expr[df_bus_att['NoiseLevel']])"
   ]
  },
  {
   "cell_type": "code",
   "execution_count": 25,
   "metadata": {
    "scrolled": true
   },
   "outputs": [],
   "source": [
    "bycDic={'null': None , 'no':3, 'u\\'no\\'':3, 'yes_free':1, 'u\\'yes_free\\'':1, 'yes_corkage': 2, 'u\\'yes_corkage\\'':2}\n",
    "mapping_expr = create_map([lit(x) for x in chain(*bycDic.items())])\n",
    "df_bus_att = df_bus_att.withColumn('BYOBCorkInt', mapping_expr[df_bus_att['BYOBCorkage']])"
   ]
  },
  {
   "cell_type": "code",
   "execution_count": 26,
   "metadata": {},
   "outputs": [],
   "source": [
    "aaDic={'null': None ,  'u\\'allages\\'':4,  'u\\'18plus\\'':1, 'u\\'19plus\\'':2,  'u\\'21plus\\'':3}\n",
    "mapping_expr = create_map([lit(x) for x in chain(*aaDic.items())])\n",
    "df_bus_att = df_bus_att.withColumn('AgesAllowedInt', mapping_expr[df_bus_att['AgesAllowed']])"
   ]
  },
  {
   "cell_type": "code",
   "execution_count": 27,
   "metadata": {},
   "outputs": [],
   "source": [
    "aDic={'null': None , 'none':3, 'u\\'none\\'':3, 'beer_and_wine':1, 'u\\'beer_and_wine\\'':1, \\\n",
    "      'full_bar': 2, 'u\\'full_bar\\'':2}\n",
    "mapping_expr = create_map([lit(x) for x in chain(*aDic.items())])\n",
    "df_bus_att = df_bus_att.withColumn('alcoholInt', mapping_expr[df_bus_att['alcohol']])"
   ]
  },
  {
   "cell_type": "code",
   "execution_count": 28,
   "metadata": {
    "scrolled": false
   },
   "outputs": [
    {
     "name": "stdout",
     "output_type": "stream",
     "text": [
      "root\n",
      " |-- business_id: string (nullable = true)\n",
      " |-- stars: double (nullable = true)\n",
      " |-- BYOB: string (nullable = true)\n",
      " |-- BikeParking: string (nullable = true)\n",
      " |-- BusinessAcceptsBitcoin: string (nullable = true)\n",
      " |-- BusinessAcceptsCreditCards: string (nullable = true)\n",
      " |-- ByAppointmentOnly: string (nullable = true)\n",
      " |-- Caters: string (nullable = true)\n",
      " |-- CoatCheck: string (nullable = true)\n",
      " |-- Corkage: string (nullable = true)\n",
      " |-- DogsAllowed: string (nullable = true)\n",
      " |-- DriveThru: string (nullable = true)\n",
      " |-- GoodForDancing: string (nullable = true)\n",
      " |-- GoodForKids: string (nullable = true)\n",
      " |-- HappyHour: string (nullable = true)\n",
      " |-- HasTV: string (nullable = true)\n",
      " |-- Open24Hours: string (nullable = true)\n",
      " |-- OutdoorSeating: string (nullable = true)\n",
      " |-- RestaurantsCounterService: string (nullable = true)\n",
      " |-- RestaurantsDelivery: string (nullable = true)\n",
      " |-- RestaurantsGoodForGroups: string (nullable = true)\n",
      " |-- RestaurantsReservations: string (nullable = true)\n",
      " |-- RestaurantsTableService: string (nullable = true)\n",
      " |-- RestaurantsTakeOut: string (nullable = true)\n",
      " |-- WheelchairAccessible: string (nullable = true)\n",
      " |-- touristy: string (nullable = true)\n",
      " |-- hipster: string (nullable = true)\n",
      " |-- romantic: string (nullable = true)\n",
      " |-- divey: string (nullable = true)\n",
      " |-- intimate: string (nullable = true)\n",
      " |-- trendy: string (nullable = true)\n",
      " |-- upscale: string (nullable = true)\n",
      " |-- classy: string (nullable = true)\n",
      " |-- casual: string (nullable = true)\n",
      " |-- garage: string (nullable = true)\n",
      " |-- street: string (nullable = true)\n",
      " |-- validated: string (nullable = true)\n",
      " |-- lot: string (nullable = true)\n",
      " |-- valet: string (nullable = true)\n",
      " |-- dairy_free: string (nullable = true)\n",
      " |-- gluten_free: string (nullable = true)\n",
      " |-- vegan: string (nullable = true)\n",
      " |-- kosher: string (nullable = true)\n",
      " |-- halal: string (nullable = true)\n",
      " |-- soy_free: string (nullable = true)\n",
      " |-- vegetarian: string (nullable = true)\n",
      " |-- dessert: string (nullable = true)\n",
      " |-- latenight: string (nullable = true)\n",
      " |-- lunch: string (nullable = true)\n",
      " |-- dinner: string (nullable = true)\n",
      " |-- brunch: string (nullable = true)\n",
      " |-- breakfast: string (nullable = true)\n",
      " |-- dj: string (nullable = true)\n",
      " |-- background_music: string (nullable = true)\n",
      " |-- no_music: string (nullable = true)\n",
      " |-- jukebox: string (nullable = true)\n",
      " |-- live: string (nullable = true)\n",
      " |-- video: string (nullable = true)\n",
      " |-- karaoke: string (nullable = true)\n",
      " |-- WifiInt: integer (nullable = true)\n",
      " |-- SmokingInt: integer (nullable = true)\n",
      " |-- RestaurantsPriceRange: integer (nullable = true)\n",
      " |-- RestaurantsAttireInt: integer (nullable = true)\n",
      " |-- NoiseLevelInt: integer (nullable = true)\n",
      " |-- BYOBCorkInt: integer (nullable = true)\n",
      " |-- AgesAllowedInt: integer (nullable = true)\n",
      " |-- alcoholInt: integer (nullable = true)\n",
      "\n"
     ]
    }
   ],
   "source": [
    "df_bus_att = df_bus_att.drop('WiFi', 'Smoking', 'RestaurantsPriceRange2', 'RestaurantsAttire', 'NoiseLevel', 'BYOBCorkage'\\\n",
    "               ,'AgesAllowed', 'alcohol')\n",
    "df_bus_att.printSchema()"
   ]
  },
  {
   "cell_type": "markdown",
   "metadata": {},
   "source": [
    "The last group not as Int are the True/False columns"
   ]
  },
  {
   "cell_type": "code",
   "execution_count": 29,
   "metadata": {},
   "outputs": [],
   "source": [
    "tfDic={'null':None, 'False':1, 'True':2}\n",
    "mapping_expr = create_map([lit(x) for x in chain(*tfDic.items())])"
   ]
  },
  {
   "cell_type": "code",
   "execution_count": 30,
   "metadata": {},
   "outputs": [],
   "source": [
    "tfCols = ('BYOB', 'BikeParking', 'BusinessAcceptsBitcoin', 'BusinessAcceptsCreditCards', 'ByAppointmentOnly', \\\n",
    "'Caters', 'CoatCheck', 'Corkage', 'DogsAllowed',  'DriveThru', 'GoodForDancing', 'GoodForKids', 'HappyHour', 'HasTV', \\\n",
    "'Open24Hours', 'OutdoorSeating', 'RestaurantsCounterService', 'RestaurantsDelivery', 'RestaurantsGoodForGroups', \\\n",
    "'RestaurantsReservations', 'RestaurantsTableService', 'RestaurantsTakeOut', 'WheelchairAccessible', \\\n",
    "'touristy', 'hipster', 'romantic','divey', 'intimate', 'trendy', 'upscale', 'classy', 'casual', \\\n",
    "'garage', 'street', 'validated', 'lot', 'valet', 'dairy_free', 'gluten_free', 'vegan', \\\n",
    "'kosher', 'halal', 'soy_free', 'vegetarian', 'dessert', 'latenight', 'lunch', 'dinner', \\\n",
    "'brunch', 'breakfast', 'dj', 'background_music', 'no_music', 'jukebox', 'live', 'video', 'karaoke')"
   ]
  },
  {
   "cell_type": "code",
   "execution_count": 31,
   "metadata": {},
   "outputs": [],
   "source": [
    "for c in tfCols:\n",
    "    df_bus_att = df_bus_att.withColumn(c, mapping_expr[df_bus_att[c]])"
   ]
  },
  {
   "cell_type": "code",
   "execution_count": 32,
   "metadata": {
    "scrolled": true
   },
   "outputs": [
    {
     "name": "stdout",
     "output_type": "stream",
     "text": [
      "+----+\n",
      "|live|\n",
      "+----+\n",
      "|null|\n",
      "|   1|\n",
      "|   2|\n",
      "+----+\n",
      "\n"
     ]
    }
   ],
   "source": [
    "df_bus_att.select('live').distinct().show()"
   ]
  },
  {
   "cell_type": "code",
   "execution_count": 33,
   "metadata": {
    "scrolled": false
   },
   "outputs": [
    {
     "name": "stdout",
     "output_type": "stream",
     "text": [
      "root\n",
      " |-- business_id: string (nullable = true)\n",
      " |-- stars: double (nullable = true)\n",
      " |-- BYOB: integer (nullable = true)\n",
      " |-- BikeParking: integer (nullable = true)\n",
      " |-- BusinessAcceptsBitcoin: integer (nullable = true)\n",
      " |-- BusinessAcceptsCreditCards: integer (nullable = true)\n",
      " |-- ByAppointmentOnly: integer (nullable = true)\n",
      " |-- Caters: integer (nullable = true)\n",
      " |-- CoatCheck: integer (nullable = true)\n",
      " |-- Corkage: integer (nullable = true)\n",
      " |-- DogsAllowed: integer (nullable = true)\n",
      " |-- DriveThru: integer (nullable = true)\n",
      " |-- GoodForDancing: integer (nullable = true)\n",
      " |-- GoodForKids: integer (nullable = true)\n",
      " |-- HappyHour: integer (nullable = true)\n",
      " |-- HasTV: integer (nullable = true)\n",
      " |-- Open24Hours: integer (nullable = true)\n",
      " |-- OutdoorSeating: integer (nullable = true)\n",
      " |-- RestaurantsCounterService: integer (nullable = true)\n",
      " |-- RestaurantsDelivery: integer (nullable = true)\n",
      " |-- RestaurantsGoodForGroups: integer (nullable = true)\n",
      " |-- RestaurantsReservations: integer (nullable = true)\n",
      " |-- RestaurantsTableService: integer (nullable = true)\n",
      " |-- RestaurantsTakeOut: integer (nullable = true)\n",
      " |-- WheelchairAccessible: integer (nullable = true)\n",
      " |-- touristy: integer (nullable = true)\n",
      " |-- hipster: integer (nullable = true)\n",
      " |-- romantic: integer (nullable = true)\n",
      " |-- divey: integer (nullable = true)\n",
      " |-- intimate: integer (nullable = true)\n",
      " |-- trendy: integer (nullable = true)\n",
      " |-- upscale: integer (nullable = true)\n",
      " |-- classy: integer (nullable = true)\n",
      " |-- casual: integer (nullable = true)\n",
      " |-- garage: integer (nullable = true)\n",
      " |-- street: integer (nullable = true)\n",
      " |-- validated: integer (nullable = true)\n",
      " |-- lot: integer (nullable = true)\n",
      " |-- valet: integer (nullable = true)\n",
      " |-- dairy_free: integer (nullable = true)\n",
      " |-- gluten_free: integer (nullable = true)\n",
      " |-- vegan: integer (nullable = true)\n",
      " |-- kosher: integer (nullable = true)\n",
      " |-- halal: integer (nullable = true)\n",
      " |-- soy_free: integer (nullable = true)\n",
      " |-- vegetarian: integer (nullable = true)\n",
      " |-- dessert: integer (nullable = true)\n",
      " |-- latenight: integer (nullable = true)\n",
      " |-- lunch: integer (nullable = true)\n",
      " |-- dinner: integer (nullable = true)\n",
      " |-- brunch: integer (nullable = true)\n",
      " |-- breakfast: integer (nullable = true)\n",
      " |-- dj: integer (nullable = true)\n",
      " |-- background_music: integer (nullable = true)\n",
      " |-- no_music: integer (nullable = true)\n",
      " |-- jukebox: integer (nullable = true)\n",
      " |-- live: integer (nullable = true)\n",
      " |-- video: integer (nullable = true)\n",
      " |-- karaoke: integer (nullable = true)\n",
      " |-- WifiInt: integer (nullable = true)\n",
      " |-- SmokingInt: integer (nullable = true)\n",
      " |-- RestaurantsPriceRange: integer (nullable = true)\n",
      " |-- RestaurantsAttireInt: integer (nullable = true)\n",
      " |-- NoiseLevelInt: integer (nullable = true)\n",
      " |-- BYOBCorkInt: integer (nullable = true)\n",
      " |-- AgesAllowedInt: integer (nullable = true)\n",
      " |-- alcoholInt: integer (nullable = true)\n",
      "\n"
     ]
    }
   ],
   "source": [
    "df_bus_att.printSchema()"
   ]
  },
  {
   "cell_type": "markdown",
   "metadata": {},
   "source": [
    "counting the nulls"
   ]
  },
  {
   "cell_type": "code",
   "execution_count": 34,
   "metadata": {},
   "outputs": [
    {
     "name": "stdout",
     "output_type": "stream",
     "text": [
      "+-----------+-----+-----+-----------+----------------------+--------------------------+-----------------+------+---------+-------+-----------+---------+--------------+-----------+---------+-----+-----------+--------------+-------------------------+-------------------+------------------------+-----------------------+-----------------------+------------------+--------------------+--------+-------+--------+-----+--------+------+-------+------+------+------+------+---------+----+-----+----------+-----------+-----+------+-----+--------+----------+-------+---------+-----+------+------+---------+-----+----------------+--------+-------+-----+-----+-------+-------+----------+---------------------+--------------------+-------------+-----------+--------------+----------+------+------+\n",
      "|business_id|stars| BYOB|BikeParking|BusinessAcceptsBitcoin|BusinessAcceptsCreditCards|ByAppointmentOnly|Caters|CoatCheck|Corkage|DogsAllowed|DriveThru|GoodForDancing|GoodForKids|HappyHour|HasTV|Open24Hours|OutdoorSeating|RestaurantsCounterService|RestaurantsDelivery|RestaurantsGoodForGroups|RestaurantsReservations|RestaurantsTableService|RestaurantsTakeOut|WheelchairAccessible|touristy|hipster|romantic|divey|intimate|trendy|upscale|classy|casual|garage|street|validated| lot|valet|dairy_free|gluten_free|vegan|kosher|halal|soy_free|vegetarian|dessert|latenight|lunch|dinner|brunch|breakfast|   dj|background_music|no_music|jukebox| live|video|karaoke|WifiInt|SmokingInt|RestaurantsPriceRange|RestaurantsAttireInt|NoiseLevelInt|BYOBCorkInt|AgesAllowedInt|alcoholInt|t_rows|t_cols|\n",
      "+-----------+-----+-----+-----------+----------------------+--------------------------+-----------------+------+---------+-------+-----------+---------+--------------+-----------+---------+-----+-----------+--------------+-------------------------+-------------------+------------------------+-----------------------+-----------------------+------------------+--------------------+--------+-------+--------+-----+--------+------+-------+------+------+------+------+---------+----+-----+----------+-----------+-----+------+-----+--------+----------+-------+---------+-----+------+------+---------+-----+----------------+--------+-------+-----+-----+-------+-------+----------+---------------------+--------------------+-------------+-----------+--------------+----------+------+------+\n",
      "|          0|    0|47440|      15761|                 44615|                      9661|            47259| 16261|    46802|  46910|      39308|    46181|         47075|       8745|    37557| 9262|      50761|          8699|                    50753|               6475|                    8248|                   7272|                  31604|              4114|               37686|   12253|  13174|   11848|16051|   12509| 13399|  11744| 12065| 11133|  6519|  6740|     6399|6441| 5487|     50729|      50729|50729| 50729|50729|   50729|     50729|  25310|    24966|24062| 23074| 24999|    23950|45887|           45802|   45965|  46303|45919|45799|  46527|  22858|     47449|                 5921|               27289|        20025|      50787|         50774|     18980| 50793|    67|\n",
      "+-----------+-----+-----+-----------+----------------------+--------------------------+-----------------+------+---------+-------+-----------+---------+--------------+-----------+---------+-----+-----------+--------------+-------------------------+-------------------+------------------------+-----------------------+-----------------------+------------------+--------------------+--------+-------+--------+-----+--------+------+-------+------+------+------+------+---------+----+-----+----------+-----------+-----+------+-----+--------+----------+-------+---------+-----+------+------+---------+-----+----------------+--------+-------+-----+-----+-------+-------+----------+---------------------+--------------------+-------------+-----------+--------------+----------+------+------+\n",
      "\n"
     ]
    }
   ],
   "source": [
    "df_bus_att.agg(*[F.count(F.when(F.isnull(c), c)).alias(c) for c in df_bus_att.columns], F.count(F.lit(1)).alias(\"t_rows\"))\\\n",
    "   .withColumn(\"t_cols\", F.lit(len(df_bus_att.columns))).show()\n"
   ]
  },
  {
   "cell_type": "markdown",
   "metadata": {},
   "source": [
    "|business_id|stars| BYOB|BikeParking|BusinessAcceptsBitcoin|BusinessAcceptsCreditCards|ByAppointmentOnly|Caters|CoatCheck|Corkage|DogsAllowed|DriveThru|GoodForDancing|GoodForKids|HappyHour|HasTV|Open24Hours|OutdoorSeating|RestaurantsCounterService|RestaurantsDelivery|RestaurantsGoodForGroups|RestaurantsReservations|RestaurantsTableService|RestaurantsTakeOut|WheelchairAccessible|touristy|hipster|romantic|divey|intimate|trendy|upscale|classy|casual|garage|street|validated|  lot|valet|dairy_free|gluten_free|vegan|kosher|halal|soy_free|vegetarian|dessert|latenight|lunch|dinner|brunch|breakfast|   dj|background_music|no_music|jukebox| live|video|karaoke|WifiInt|SmokingInt|RestaurantsPriceRange|RestaurantsAttireInt|NoiseLevelInt|BYOBCorkInt|AgesAllowedInt|alcoholInt|t_rows|t_cols|\n",
    "|-----------|-----|-----|-----------|----------------------|--------------------------|-----------------|------|---------|-------|-----------|---------|--------------|-----------|---------|-----|-----------|--------------|-------------------------|-------------------|------------------------|-----------------------|-----------------------|------------------|--------------------|--------|-------|--------|-----|--------|------|-------|------|------|------|------|---------|-----|-----|----------|-----------|-----|------|-----|--------|----------|-------|---------|-----|------|------|---------|-----|----------------|--------|-------|-----|-----|-------|-------|----------|---------------------|--------------------|-------------|-----------|--------------|----------|------|------|\n",
    "|          0|    0|47440|      15761|                 44615|                      9661|            47259| 16261|    46802|  46910|      39308|    46181|         47075|       8745|    37557| 9262|      50761|          8699|                    50753|               6475|                    8248|                   7272|                  31604|              4114|               37686|   12253|  13174|   11848|16051|   12509| 13399|  11744| 12065| 11133|  6519|  6740|     6399|6441| 5487|     50729|      50729|50729| 50729|50729|   50729|     50729|  25310|    24966|24062| 23074| 24999|    23950|45887|           45802|   45965|  46303|45919|45799|  46527|  22858|     47449|                 5921|               27289|        20025|      50787|         50774|     18980| 50793|    67|\n"
   ]
  },
  {
   "cell_type": "markdown",
   "metadata": {},
   "source": [
    "Dropping features that are completely or mostly empty (>90% empty)\n"
   ]
  },
  {
   "cell_type": "code",
   "execution_count": 123,
   "metadata": {},
   "outputs": [
    {
     "name": "stdout",
     "output_type": "stream",
     "text": [
      "root\n",
      " |-- business_id: string (nullable = true)\n",
      " |-- stars: double (nullable = true)\n",
      " |-- BYOB: integer (nullable = true)\n",
      " |-- BikeParking: integer (nullable = true)\n",
      " |-- BusinessAcceptsBitcoin: integer (nullable = true)\n",
      " |-- BusinessAcceptsCreditCards: integer (nullable = true)\n",
      " |-- Caters: integer (nullable = true)\n",
      " |-- DogsAllowed: integer (nullable = true)\n",
      " |-- GoodForDancing: integer (nullable = true)\n",
      " |-- GoodForKids: integer (nullable = true)\n",
      " |-- HappyHour: integer (nullable = true)\n",
      " |-- HasTV: integer (nullable = true)\n",
      " |-- OutdoorSeating: integer (nullable = true)\n",
      " |-- RestaurantsDelivery: integer (nullable = true)\n",
      " |-- RestaurantsGoodForGroups: integer (nullable = true)\n",
      " |-- RestaurantsReservations: integer (nullable = true)\n",
      " |-- RestaurantsTableService: integer (nullable = true)\n",
      " |-- RestaurantsTakeOut: integer (nullable = true)\n",
      " |-- WheelchairAccessible: integer (nullable = true)\n",
      " |-- touristy: integer (nullable = true)\n",
      " |-- hipster: integer (nullable = true)\n",
      " |-- romantic: integer (nullable = true)\n",
      " |-- divey: integer (nullable = true)\n",
      " |-- intimate: integer (nullable = true)\n",
      " |-- trendy: integer (nullable = true)\n",
      " |-- upscale: integer (nullable = true)\n",
      " |-- classy: integer (nullable = true)\n",
      " |-- casual: integer (nullable = true)\n",
      " |-- garage: integer (nullable = true)\n",
      " |-- street: integer (nullable = true)\n",
      " |-- validated: integer (nullable = true)\n",
      " |-- lot: integer (nullable = true)\n",
      " |-- valet: integer (nullable = true)\n",
      " |-- halal: integer (nullable = true)\n",
      " |-- soy_free: integer (nullable = true)\n",
      " |-- dessert: integer (nullable = true)\n",
      " |-- latenight: integer (nullable = true)\n",
      " |-- lunch: integer (nullable = true)\n",
      " |-- dinner: integer (nullable = true)\n",
      " |-- brunch: integer (nullable = true)\n",
      " |-- breakfast: integer (nullable = true)\n",
      " |-- dj: integer (nullable = true)\n",
      " |-- karaoke: integer (nullable = true)\n",
      " |-- WifiInt: integer (nullable = true)\n",
      " |-- SmokingInt: integer (nullable = true)\n",
      " |-- RestaurantsPriceRange: integer (nullable = true)\n",
      " |-- RestaurantsAttireInt: integer (nullable = true)\n",
      " |-- NoiseLevelInt: integer (nullable = true)\n",
      " |-- alcoholInt: integer (nullable = true)\n",
      "\n"
     ]
    }
   ],
   "source": [
    "df_bus_att = df_bus_att.drop('ByAppointmentOnly', 'CoatCheck', 'Corkage','DriveThru', 'GoodForDancing ', \\\n",
    "                'Open24Hours', 'RestaurantsCounterService', 'dairy_free', 'gluten_free', 'vegan', 'kosher', 'halal'\\\n",
    "                            'soy_free', 'vegetarian', 'background_music', 'no_music','jukebox','live','video','karaoke'\\\n",
    "                            'SmokingInt', 'BYOBCorkInt', 'AgesAllowedInt')\n",
    "df_bus_att.printSchema()"
   ]
  },
  {
   "cell_type": "markdown",
   "metadata": {},
   "source": [
    "### Feature Selection\n",
    "Determining the features most important to star rating"
   ]
  },
  {
   "cell_type": "markdown",
   "metadata": {},
   "source": [
    "First the columns have to be assembled into a single features array"
   ]
  },
  {
   "cell_type": "code",
   "execution_count": 124,
   "metadata": {},
   "outputs": [
    {
     "name": "stdout",
     "output_type": "stream",
     "text": [
      "+-----+\n",
      "|stars|\n",
      "+-----+\n",
      "|  3.5|\n",
      "|  4.5|\n",
      "|  2.5|\n",
      "|  1.0|\n",
      "|  4.0|\n",
      "|  3.0|\n",
      "|  2.0|\n",
      "|  1.5|\n",
      "|  5.0|\n",
      "+-----+\n",
      "\n"
     ]
    }
   ],
   "source": [
    "df_bus_att.select('stars').distinct().show()"
   ]
  },
  {
   "cell_type": "code",
   "execution_count": 125,
   "metadata": {
    "scrolled": true
   },
   "outputs": [],
   "source": [
    "cols=df_bus_att.columns[2:]"
   ]
  },
  {
   "cell_type": "code",
   "execution_count": 126,
   "metadata": {},
   "outputs": [],
   "source": [
    "assembler = VectorAssembler(inputCols=cols,outputCol=\"features\", handleInvalid=\"keep\")"
   ]
  },
  {
   "cell_type": "code",
   "execution_count": 127,
   "metadata": {},
   "outputs": [],
   "source": [
    "df2 = df_bus_att.na.fill(-1)"
   ]
  },
  {
   "cell_type": "code",
   "execution_count": 128,
   "metadata": {},
   "outputs": [
    {
     "data": {
      "text/plain": [
       "Row(business_id='6iYb2HFDywm3zjuRg0shjw', stars=4.0, BYOB=-1, BikeParking=2, BusinessAcceptsBitcoin=1, BusinessAcceptsCreditCards=2, Caters=2, DogsAllowed=1, GoodForDancing=-1, GoodForKids=-1, HappyHour=2, HasTV=2, OutdoorSeating=2, RestaurantsDelivery=-1, RestaurantsGoodForGroups=2, RestaurantsReservations=1, RestaurantsTableService=2, RestaurantsTakeOut=2, WheelchairAccessible=2, touristy=1, hipster=1, romantic=1, divey=1, intimate=1, trendy=1, upscale=1, classy=1, casual=2, garage=1, street=2, validated=1, lot=1, valet=1, halal=-1, soy_free=-1, dessert=1, latenight=1, lunch=1, dinner=1, brunch=1, breakfast=1, dj=-1, karaoke=-1, WifiInt=2, SmokingInt=-1, RestaurantsPriceRange=2, RestaurantsAttireInt=-1, NoiseLevelInt=1, alcoholInt=-1)"
      ]
     },
     "execution_count": 128,
     "metadata": {},
     "output_type": "execute_result"
    }
   ],
   "source": [
    "df2.head()"
   ]
  },
  {
   "cell_type": "code",
   "execution_count": 129,
   "metadata": {
    "scrolled": true
   },
   "outputs": [],
   "source": [
    "df2 = assembler.transform(df2)"
   ]
  },
  {
   "cell_type": "code",
   "execution_count": 130,
   "metadata": {
    "scrolled": true
   },
   "outputs": [
    {
     "data": {
      "text/plain": [
       "Row(business_id='6iYb2HFDywm3zjuRg0shjw', stars=4.0, BYOB=-1, BikeParking=2, BusinessAcceptsBitcoin=1, BusinessAcceptsCreditCards=2, Caters=2, DogsAllowed=1, GoodForDancing=-1, GoodForKids=-1, HappyHour=2, HasTV=2, OutdoorSeating=2, RestaurantsDelivery=-1, RestaurantsGoodForGroups=2, RestaurantsReservations=1, RestaurantsTableService=2, RestaurantsTakeOut=2, WheelchairAccessible=2, touristy=1, hipster=1, romantic=1, divey=1, intimate=1, trendy=1, upscale=1, classy=1, casual=2, garage=1, street=2, validated=1, lot=1, valet=1, halal=-1, soy_free=-1, dessert=1, latenight=1, lunch=1, dinner=1, brunch=1, breakfast=1, dj=-1, karaoke=-1, WifiInt=2, SmokingInt=-1, RestaurantsPriceRange=2, RestaurantsAttireInt=-1, NoiseLevelInt=1, alcoholInt=-1, features=DenseVector([-1.0, 2.0, 1.0, 2.0, 2.0, 1.0, -1.0, -1.0, 2.0, 2.0, 2.0, -1.0, 2.0, 1.0, 2.0, 2.0, 2.0, 1.0, 1.0, 1.0, 1.0, 1.0, 1.0, 1.0, 1.0, 2.0, 1.0, 2.0, 1.0, 1.0, 1.0, -1.0, -1.0, 1.0, 1.0, 1.0, 1.0, 1.0, 1.0, -1.0, -1.0, 2.0, -1.0, 2.0, -1.0, 1.0, -1.0]))"
      ]
     },
     "execution_count": 130,
     "metadata": {},
     "output_type": "execute_result"
    }
   ],
   "source": [
    "df2.head()"
   ]
  },
  {
   "cell_type": "code",
   "execution_count": 131,
   "metadata": {
    "scrolled": true
   },
   "outputs": [
    {
     "name": "stdout",
     "output_type": "stream",
     "text": [
      "root\n",
      " |-- business_id: string (nullable = true)\n",
      " |-- stars: double (nullable = false)\n",
      " |-- BYOB: integer (nullable = true)\n",
      " |-- BikeParking: integer (nullable = true)\n",
      " |-- BusinessAcceptsBitcoin: integer (nullable = true)\n",
      " |-- BusinessAcceptsCreditCards: integer (nullable = true)\n",
      " |-- Caters: integer (nullable = true)\n",
      " |-- DogsAllowed: integer (nullable = true)\n",
      " |-- GoodForDancing: integer (nullable = true)\n",
      " |-- GoodForKids: integer (nullable = true)\n",
      " |-- HappyHour: integer (nullable = true)\n",
      " |-- HasTV: integer (nullable = true)\n",
      " |-- OutdoorSeating: integer (nullable = true)\n",
      " |-- RestaurantsDelivery: integer (nullable = true)\n",
      " |-- RestaurantsGoodForGroups: integer (nullable = true)\n",
      " |-- RestaurantsReservations: integer (nullable = true)\n",
      " |-- RestaurantsTableService: integer (nullable = true)\n",
      " |-- RestaurantsTakeOut: integer (nullable = true)\n",
      " |-- WheelchairAccessible: integer (nullable = true)\n",
      " |-- touristy: integer (nullable = true)\n",
      " |-- hipster: integer (nullable = true)\n",
      " |-- romantic: integer (nullable = true)\n",
      " |-- divey: integer (nullable = true)\n",
      " |-- intimate: integer (nullable = true)\n",
      " |-- trendy: integer (nullable = true)\n",
      " |-- upscale: integer (nullable = true)\n",
      " |-- classy: integer (nullable = true)\n",
      " |-- casual: integer (nullable = true)\n",
      " |-- garage: integer (nullable = true)\n",
      " |-- street: integer (nullable = true)\n",
      " |-- validated: integer (nullable = true)\n",
      " |-- lot: integer (nullable = true)\n",
      " |-- valet: integer (nullable = true)\n",
      " |-- halal: integer (nullable = true)\n",
      " |-- soy_free: integer (nullable = true)\n",
      " |-- dessert: integer (nullable = true)\n",
      " |-- latenight: integer (nullable = true)\n",
      " |-- lunch: integer (nullable = true)\n",
      " |-- dinner: integer (nullable = true)\n",
      " |-- brunch: integer (nullable = true)\n",
      " |-- breakfast: integer (nullable = true)\n",
      " |-- dj: integer (nullable = true)\n",
      " |-- karaoke: integer (nullable = true)\n",
      " |-- WifiInt: integer (nullable = true)\n",
      " |-- SmokingInt: integer (nullable = true)\n",
      " |-- RestaurantsPriceRange: integer (nullable = true)\n",
      " |-- RestaurantsAttireInt: integer (nullable = true)\n",
      " |-- NoiseLevelInt: integer (nullable = true)\n",
      " |-- alcoholInt: integer (nullable = true)\n",
      " |-- features: vector (nullable = true)\n",
      "\n"
     ]
    }
   ],
   "source": [
    "df2.printSchema()"
   ]
  },
  {
   "cell_type": "code",
   "execution_count": 132,
   "metadata": {},
   "outputs": [],
   "source": [
    "feature_list = df2.columns[2:]"
   ]
  },
  {
   "cell_type": "code",
   "execution_count": 133,
   "metadata": {},
   "outputs": [],
   "source": [
    "df3 = df2.select('business_id', 'stars', 'features')"
   ]
  },
  {
   "cell_type": "markdown",
   "metadata": {},
   "source": [
    "#### PCA"
   ]
  },
  {
   "cell_type": "code",
   "execution_count": 134,
   "metadata": {},
   "outputs": [],
   "source": [
    "pca = PCA(k=10, inputCol=\"features\", outputCol=\"pcaFeatures\")\n",
    "pca_model = pca.fit(df3)"
   ]
  },
  {
   "cell_type": "code",
   "execution_count": 135,
   "metadata": {},
   "outputs": [],
   "source": [
    "df4 = pca_model.transform(df3)"
   ]
  },
  {
   "cell_type": "code",
   "execution_count": 136,
   "metadata": {},
   "outputs": [
    {
     "name": "stdout",
     "output_type": "stream",
     "text": [
      "+--------------------+-----+--------------------+--------------------+\n",
      "|         business_id|stars|            features|         pcaFeatures|\n",
      "+--------------------+-----+--------------------+--------------------+\n",
      "|6iYb2HFDywm3zjuRg...|  4.0|[-1.0,2.0,1.0,2.0...|[-6.6204479100703...|\n",
      "|tCbdrRPZA0oiIYSmH...|  4.0|[-1.0,1.0,-1.0,2....|[-6.9528192414899...|\n",
      "|D4JtQNTI4X3Kcbzac...|  3.5|[-1.0,2.0,-1.0,-1...|[-7.9009367539266...|\n",
      "|jFYIsSb7r1QeESVUn...|  4.5|[-1.0,-1.0,-1.0,-...|[6.13589255424044...|\n",
      "|HPA_qyMEddpAEtFof...|  4.0|[-1.0,2.0,1.0,2.0...|[-5.8559668864877...|\n",
      "|ufCxltuh56FF4-ZFZ...|  4.5|[-1.0,2.0,-1.0,2....|[1.86459126622371...|\n",
      "|GfWJ19Js7wX9rwaHQ...|  3.0|[-1.0,2.0,-1.0,2....|[0.46585749112283...|\n",
      "|dmbbf3AqeG61_QHRZ...|  3.5|[-1.0,1.0,-1.0,2....|[-3.8317718578874...|\n",
      "|ynTjh_FdhbG5hY69H...|  3.5|[-1.0,2.0,1.0,2.0...|[-4.1263204196821...|\n",
      "|hcRxdDg7DYryCxCoI...|  2.5|[-1.0,2.0,-1.0,2....|[-5.4051175193457...|\n",
      "|jGennaZUr2MsJyRhi...|  3.5|[-1.0,1.0,1.0,2.0...|[-7.6416943698171...|\n",
      "|QciD6FbNklaJvUbLE...|  4.0|[1.0,2.0,-1.0,-1....|[-7.2031909680013...|\n",
      "|iPD8BBvea6YldQZPH...|  4.5|[-1.0,2.0,-1.0,2....|[-4.9866557394618...|\n",
      "|jx91IMdGOmLOo8h_F...|  3.5|[-1.0,2.0,-1.0,2....|[-6.9885573811034...|\n",
      "|Xw8tuI30T-xihpzwB...|  5.0|[-1.0,2.0,-1.0,2....|[-2.3656201388185...|\n",
      "|NRPemqVb4qpWFF0Av...|  4.5|[-1.0,1.0,-1.0,2....|[-8.0845049501335...|\n",
      "|TRToVIbaVtu1KOE8D...|  3.5|[-1.0,2.0,1.0,2.0...|[-6.1743016608674...|\n",
      "|Xi2GGNzOiUS8r6WCF...|  4.0|[-1.0,-1.0,-1.0,-...|[1.05984635698002...|\n",
      "|5PsApTz-WqhF_-8mf...|  3.5|[-1.0,2.0,1.0,2.0...|[-6.4792500879927...|\n",
      "|w4qVflIAbdklzG3mn...|  1.0|[-1.0,-1.0,-1.0,-...|[1.45648411383811...|\n",
      "+--------------------+-----+--------------------+--------------------+\n",
      "only showing top 20 rows\n",
      "\n"
     ]
    }
   ],
   "source": [
    "df4.show()"
   ]
  },
  {
   "cell_type": "code",
   "execution_count": 137,
   "metadata": {},
   "outputs": [
    {
     "data": {
      "text/plain": [
       "DenseVector([0.2906, 0.1191, 0.075, 0.0599, 0.0456, 0.0394, 0.0355, 0.0342, 0.0308, 0.0265])"
      ]
     },
     "execution_count": 137,
     "metadata": {},
     "output_type": "execute_result"
    }
   ],
   "source": [
    "pca_model.explainedVariance"
   ]
  },
  {
   "cell_type": "markdown",
   "metadata": {},
   "source": [
    "#### Chisqaure selector"
   ]
  },
  {
   "cell_type": "code",
   "execution_count": 138,
   "metadata": {
    "scrolled": true
   },
   "outputs": [],
   "source": [
    "selector = ChiSqSelector(numTopFeatures=10, outputCol=\"chisqFeatures\",  featuresCol='features', labelCol='stars')\n",
    "\n",
    "chisq_model = selector.fit(df4)"
   ]
  },
  {
   "cell_type": "code",
   "execution_count": 139,
   "metadata": {},
   "outputs": [],
   "source": [
    "df5 = chisq_model.transform(df4)"
   ]
  },
  {
   "cell_type": "code",
   "execution_count": 140,
   "metadata": {},
   "outputs": [
    {
     "name": "stdout",
     "output_type": "stream",
     "text": [
      "+--------------------+-----+--------------------+--------------------+--------------------+\n",
      "|         business_id|stars|            features|         pcaFeatures|       chisqFeatures|\n",
      "+--------------------+-----+--------------------+--------------------+--------------------+\n",
      "|6iYb2HFDywm3zjuRg...|  4.0|[-1.0,2.0,1.0,2.0...|[-6.6204479100703...|[-1.0,2.0,1.0,2.0...|\n",
      "|tCbdrRPZA0oiIYSmH...|  4.0|[-1.0,1.0,-1.0,2....|[-6.9528192414899...|[-1.0,1.0,-1.0,2....|\n",
      "|D4JtQNTI4X3Kcbzac...|  3.5|[-1.0,2.0,-1.0,-1...|[-7.9009367539266...|[-1.0,2.0,-1.0,-1...|\n",
      "|jFYIsSb7r1QeESVUn...|  4.5|[-1.0,-1.0,-1.0,-...|[6.13589255424044...|[-1.0,-1.0,-1.0,-...|\n",
      "|HPA_qyMEddpAEtFof...|  4.0|[-1.0,2.0,1.0,2.0...|[-5.8559668864877...|[-1.0,2.0,1.0,2.0...|\n",
      "|ufCxltuh56FF4-ZFZ...|  4.5|[-1.0,2.0,-1.0,2....|[1.86459126622371...|[-1.0,2.0,-1.0,2....|\n",
      "|GfWJ19Js7wX9rwaHQ...|  3.0|[-1.0,2.0,-1.0,2....|[0.46585749112283...|[-1.0,2.0,-1.0,2....|\n",
      "|dmbbf3AqeG61_QHRZ...|  3.5|[-1.0,1.0,-1.0,2....|[-3.8317718578874...|[-1.0,1.0,-1.0,2....|\n",
      "|ynTjh_FdhbG5hY69H...|  3.5|[-1.0,2.0,1.0,2.0...|[-4.1263204196821...|[-1.0,2.0,1.0,2.0...|\n",
      "|hcRxdDg7DYryCxCoI...|  2.5|[-1.0,2.0,-1.0,2....|[-5.4051175193457...|[-1.0,2.0,-1.0,2....|\n",
      "|jGennaZUr2MsJyRhi...|  3.5|[-1.0,1.0,1.0,2.0...|[-7.6416943698171...|[-1.0,1.0,1.0,2.0...|\n",
      "|QciD6FbNklaJvUbLE...|  4.0|[1.0,2.0,-1.0,-1....|[-7.2031909680013...|[1.0,2.0,-1.0,-1....|\n",
      "|iPD8BBvea6YldQZPH...|  4.5|[-1.0,2.0,-1.0,2....|[-4.9866557394618...|[-1.0,2.0,-1.0,2....|\n",
      "|jx91IMdGOmLOo8h_F...|  3.5|[-1.0,2.0,-1.0,2....|[-6.9885573811034...|[-1.0,2.0,-1.0,2....|\n",
      "|Xw8tuI30T-xihpzwB...|  5.0|[-1.0,2.0,-1.0,2....|[-2.3656201388185...|[-1.0,2.0,-1.0,2....|\n",
      "|NRPemqVb4qpWFF0Av...|  4.5|[-1.0,1.0,-1.0,2....|[-8.0845049501335...|[-1.0,1.0,-1.0,2....|\n",
      "|TRToVIbaVtu1KOE8D...|  3.5|[-1.0,2.0,1.0,2.0...|[-6.1743016608674...|[-1.0,2.0,1.0,2.0...|\n",
      "|Xi2GGNzOiUS8r6WCF...|  4.0|[-1.0,-1.0,-1.0,-...|[1.05984635698002...|[-1.0,-1.0,-1.0,-...|\n",
      "|5PsApTz-WqhF_-8mf...|  3.5|[-1.0,2.0,1.0,2.0...|[-6.4792500879927...|[-1.0,2.0,1.0,2.0...|\n",
      "|w4qVflIAbdklzG3mn...|  1.0|[-1.0,-1.0,-1.0,-...|[1.45648411383811...|[-1.0,-1.0,-1.0,-...|\n",
      "+--------------------+-----+--------------------+--------------------+--------------------+\n",
      "only showing top 20 rows\n",
      "\n"
     ]
    }
   ],
   "source": [
    "df5.show()"
   ]
  },
  {
   "cell_type": "markdown",
   "metadata": {},
   "source": [
    "### Logistic Regression on Business Data"
   ]
  },
  {
   "cell_type": "code",
   "execution_count": 141,
   "metadata": {},
   "outputs": [],
   "source": [
    "#spark ML imports\n",
    "from pyspark.ml import Pipeline\n",
    "from pyspark.ml.classification import LogisticRegression\n",
    "from pyspark.ml.feature import HashingTF, Tokenizer, StringIndexer, CountVectorizer, IDF\n",
    "from pyspark.ml.feature import StopWordsRemover\n",
    "from pyspark.ml.tuning import CrossValidator, ParamGridBuilder\n",
    "from pyspark.ml.evaluation import BinaryClassificationEvaluator, MulticlassClassificationEvaluator"
   ]
  },
  {
   "cell_type": "code",
   "execution_count": 142,
   "metadata": {},
   "outputs": [],
   "source": [
    "##### Maps a sequence of terms to their term frequencies using the hashing trick. \n",
    "indexer = StringIndexer(inputCol=\"stars\", outputCol=\"label\")\n",
    "\n",
    "lrData = indexer.fit(df5).transform(df5)\n"
   ]
  },
  {
   "cell_type": "code",
   "execution_count": 143,
   "metadata": {},
   "outputs": [
    {
     "name": "stdout",
     "output_type": "stream",
     "text": [
      "+--------------------+-----+--------------------+--------------------+--------------------+-----+\n",
      "|         business_id|stars|            features|         pcaFeatures|       chisqFeatures|label|\n",
      "+--------------------+-----+--------------------+--------------------+--------------------+-----+\n",
      "|--_nBudPOb1lNRgKf...|  4.0|[-1.0,2.0,-1.0,2....|[-6.2264073946108...|[-1.0,2.0,-1.0,2....|  0.0|\n",
      "|-0A60UZl9nbdq2WWy...|  3.0|[-1.0,2.0,-1.0,2....|[-3.9657447383481...|[-1.0,2.0,-1.0,2....|  2.0|\n",
      "|-0Gbsd7ztvTyFpl7j...|  4.0|[-1.0,2.0,-1.0,2....|[-4.2442370251164...|[-1.0,2.0,-1.0,2....|  0.0|\n",
      "|-0JXXCMUpe29dQ-f6...|  4.5|[-1.0,2.0,-1.0,2....|[-5.3380644873783...|[-1.0,2.0,-1.0,2....|  3.0|\n",
      "|-0T2mO5-vM_cBN2cS...|  3.5|[-1.0,2.0,-1.0,-1...|[-4.8405825295643...|[-1.0,2.0,-1.0,-1...|  1.0|\n",
      "|-0aOWWsqmzgF18V3P...|  3.5|[-1.0,2.0,-1.0,-1...|[-8.0628966553284...|[-1.0,2.0,-1.0,-1...|  1.0|\n",
      "|-0iqnv7MjKrgh7Q7b...|  4.0|[-1.0,2.0,-1.0,2....|[-8.1241265826978...|[-1.0,2.0,-1.0,2....|  0.0|\n",
      "|-0p-JeIeAY_u6NEEU...|  3.0|[-1.0,2.0,-1.0,2....|[-6.1909340938322...|[-1.0,2.0,-1.0,2....|  2.0|\n",
      "|-0xezDAvKicBZpVx9...|  1.5|[-1.0,-1.0,-1.0,-...|[4.25464314108123...|[-1.0,-1.0,-1.0,-...|  7.0|\n",
      "|-1ShItlulHnBsoOQW...|  4.0|[-1.0,2.0,-1.0,2....|[-5.1156389054436...|[-1.0,2.0,-1.0,2....|  0.0|\n",
      "+--------------------+-----+--------------------+--------------------+--------------------+-----+\n",
      "only showing top 10 rows\n",
      "\n"
     ]
    }
   ],
   "source": [
    "train_bus_pca, test_bus_pca = lrData.randomSplit([.8,.2],seed=1234)\n",
    "train_bus_pca.show(10, truncate = True)"
   ]
  },
  {
   "cell_type": "code",
   "execution_count": 144,
   "metadata": {},
   "outputs": [],
   "source": [
    "from pyspark.ml.classification import LogisticRegression\n",
    "\n",
    "lgr = LogisticRegression(maxIter=20,featuresCol='features',labelCol='label')\n",
    "lgrmh = lgr.fit(train_bus_pca)\n",
    "predictions = lgrmh.transform(test_bus_pca)\n"
   ]
  },
  {
   "cell_type": "code",
   "execution_count": 145,
   "metadata": {},
   "outputs": [
    {
     "name": "stdout",
     "output_type": "stream",
     "text": [
      "0.30480919003115264\n",
      "0.25800814949597994\n"
     ]
    }
   ],
   "source": [
    "#evaluate the model\n",
    "from pyspark.ml.evaluation import MulticlassClassificationEvaluator\n",
    "\n",
    "evaluator = MulticlassClassificationEvaluator(labelCol=\"label\", predictionCol=\"prediction\")\n",
    "\n",
    "print(evaluator.evaluate(predictions, {evaluator.metricName: \"accuracy\"}))\n",
    "print(evaluator.evaluate(predictions, {evaluator.metricName: \"f1\"}))"
   ]
  },
  {
   "cell_type": "markdown",
   "metadata": {},
   "source": [
    "filled with 0, \n",
    "\n",
    "- 0.307535046728972\n",
    "- 0.2784520817853614\n"
   ]
  },
  {
   "cell_type": "markdown",
   "metadata": {},
   "source": [
    "### pcaFeatures"
   ]
  },
  {
   "cell_type": "code",
   "execution_count": 146,
   "metadata": {},
   "outputs": [],
   "source": [
    "from pyspark.ml.classification import LogisticRegression\n",
    "\n",
    "lgr = LogisticRegression(maxIter=20,featuresCol='pcaFeatures',labelCol='label')\n",
    "lgrmh = lgr.fit(train_bus_pca)\n",
    "predictions = lgrmh.transform(test_bus_pca)\n"
   ]
  },
  {
   "cell_type": "code",
   "execution_count": 147,
   "metadata": {},
   "outputs": [
    {
     "name": "stdout",
     "output_type": "stream",
     "text": [
      "0.29779984423676015\n",
      "0.24611866372254018\n"
     ]
    }
   ],
   "source": [
    "#evaluate the model\n",
    "from pyspark.ml.evaluation import MulticlassClassificationEvaluator\n",
    "\n",
    "evaluator = MulticlassClassificationEvaluator(labelCol=\"label\", predictionCol=\"prediction\")\n",
    "\n",
    "print(evaluator.evaluate(predictions, {evaluator.metricName: \"accuracy\"}))\n",
    "print(evaluator.evaluate(predictions, {evaluator.metricName: \"f1\"}))"
   ]
  },
  {
   "cell_type": "markdown",
   "metadata": {},
   "source": [
    "At n=5: \n",
    "- 0.2867017133956386\n",
    "- 0.23029947643500562\n",
    "\n",
    "n=10\n",
    "- 0.2980919003115265\n",
    "- 0.2536746398543806\n"
   ]
  },
  {
   "cell_type": "markdown",
   "metadata": {},
   "source": [
    "### chisqFeatures"
   ]
  },
  {
   "cell_type": "code",
   "execution_count": 148,
   "metadata": {},
   "outputs": [],
   "source": [
    "from pyspark.ml.classification import LogisticRegression\n",
    "\n",
    "lgr = LogisticRegression(maxIter=20,featuresCol='chisqFeatures',labelCol='label')\n",
    "lgrmh = lgr.fit(train_bus_pca)\n",
    "predictions = lgrmh.transform(test_bus_pca)\n"
   ]
  },
  {
   "cell_type": "code",
   "execution_count": 149,
   "metadata": {},
   "outputs": [
    {
     "name": "stdout",
     "output_type": "stream",
     "text": [
      "0.2939057632398754\n",
      "0.21789885636942466\n"
     ]
    }
   ],
   "source": [
    "#evaluate the model\n",
    "from pyspark.ml.evaluation import MulticlassClassificationEvaluator\n",
    "\n",
    "evaluator = MulticlassClassificationEvaluator(labelCol=\"label\", predictionCol=\"prediction\")\n",
    "\n",
    "print(evaluator.evaluate(predictions, {evaluator.metricName: \"accuracy\"}))\n",
    "print(evaluator.evaluate(predictions, {evaluator.metricName: \"f1\"}))"
   ]
  },
  {
   "cell_type": "markdown",
   "metadata": {},
   "source": [
    "At n=5: \n",
    "- 0.2716121495327103\n",
    "- 0.17906193797468042\n",
    "\n",
    "n=10\n",
    "- 0.2884540498442368\n",
    "- 0.21657518943196669"
   ]
  },
  {
   "cell_type": "markdown",
   "metadata": {},
   "source": [
    "### Random Forest"
   ]
  },
  {
   "cell_type": "code",
   "execution_count": 150,
   "metadata": {},
   "outputs": [
    {
     "name": "stdout",
     "output_type": "stream",
     "text": [
      "CPU times: user 89.4 ms, sys: 34.3 ms, total: 124 ms\n",
      "Wall time: 18.7 s\n"
     ]
    }
   ],
   "source": [
    "%%time\n",
    "from pyspark.ml.classification import RandomForestClassifier\n",
    "\n",
    "# Set parameters for the Random Forest.\n",
    "rfc = RandomForestClassifier(maxDepth=5, numTrees=15, impurity=\"gini\", labelCol=\"label\", predictionCol=\"prediction\")\n",
    "\n",
    "# Fit the model to the data.\n",
    "rfcm = rfc.fit(train_bus_pca)\n",
    "\n",
    "# Given a dataset, predict each point's label, and show the results.\n",
    "predictions = rfcm.transform(test_bus_pca)"
   ]
  },
  {
   "cell_type": "code",
   "execution_count": 151,
   "metadata": {
    "scrolled": false
   },
   "outputs": [
    {
     "name": "stdout",
     "output_type": "stream",
     "text": [
      "0.30802180685358255\n",
      "0.22551717332475849\n"
     ]
    }
   ],
   "source": [
    "#print evaluation metrics\n",
    "\n",
    "print(evaluator.evaluate(predictions, {evaluator.metricName: \"accuracy\"}))\n",
    "print(evaluator.evaluate(predictions, {evaluator.metricName: \"f1\"}))"
   ]
  },
  {
   "cell_type": "markdown",
   "metadata": {},
   "source": [
    "at 15 trees \n",
    "- 0.30636682242990654\n",
    "- 0.22512885083054684\n"
   ]
  },
  {
   "cell_type": "code",
   "execution_count": 152,
   "metadata": {},
   "outputs": [],
   "source": [
    "from pyspark.ml.tuning import ParamGridBuilder\n",
    "import numpy as np\n",
    "paramGrid = ParamGridBuilder() \\\n",
    "    .addGrid(rf.numTrees, [int(x) for x in np.linspace(start = 10, stop = 50, num = 3)]) \\\n",
    "    .addGrid(rf.maxDepth, [int(x) for x in np.linspace(start = 5, stop = 25, num = 3)]) \\\n",
    "    .build()"
   ]
  },
  {
   "cell_type": "code",
   "execution_count": 153,
   "metadata": {},
   "outputs": [],
   "source": [
    "from pyspark.ml.tuning import CrossValidator\n",
    "from pyspark.ml.evaluation import RegressionEvaluator\n",
    "crossval = CrossValidator(estimator=rfc,\n",
    "                          estimatorParamMaps=paramGrid,\n",
    "                          evaluator=RegressionEvaluator(),\n",
    "                          numFolds=3)"
   ]
  },
  {
   "cell_type": "code",
   "execution_count": 154,
   "metadata": {},
   "outputs": [],
   "source": [
    "cvModel = crossval.fit(train_bus_pca)"
   ]
  },
  {
   "cell_type": "code",
   "execution_count": 155,
   "metadata": {},
   "outputs": [],
   "source": [
    "predictions = cvModel.transform(testData)"
   ]
  },
  {
   "cell_type": "code",
   "execution_count": 156,
   "metadata": {},
   "outputs": [
    {
     "data": {
      "image/png": "[encoded data removed]",
      "text/plain": [
       "<Figure size 432x288 with 1 Axes>"
      ]
     },
     "metadata": {},
     "output_type": "display_data"
    }
   ],
   "source": [
    "import matplotlib.pyplot as plt\n",
    "evaluator = RegressionEvaluator(labelCol=\"label\", predictionCol=\"prediction\", metricName=\"rmse\")\n",
    "rmse = evaluator.evaluate(predictions)\n",
    "rfPred = cvModel.transform(lrData)\n",
    "rfResult = rfPred.toPandas()\n",
    "plt.plot(rfResult.label, rfResult.prediction, 'bo')\n",
    "plt.xlabel('Stars')\n",
    "plt.ylabel('Prediction')\n",
    "plt.suptitle(\"Model Performance RMSE: %f\" % rmse)\n",
    "plt.show()"
   ]
  },
  {
   "cell_type": "code",
   "execution_count": 157,
   "metadata": {},
   "outputs": [
    {
     "name": "stdout",
     "output_type": "stream",
     "text": [
      "0.3100138531565407\n",
      "0.2251087032065377\n"
     ]
    }
   ],
   "source": [
    "evaluator = MulticlassClassificationEvaluator(labelCol=\"label\", predictionCol=\"prediction\")\n",
    "print(evaluator.evaluate(predictions, {evaluator.metricName: \"accuracy\"}))\n",
    "print(evaluator.evaluate(predictions, {evaluator.metricName: \"f1\"}))"
   ]
  },
  {
   "cell_type": "code",
   "execution_count": 158,
   "metadata": {},
   "outputs": [],
   "source": [
    "bestPipeline = cvModel.bestModel\n",
    "bestModel = bestPipeline"
   ]
  },
  {
   "cell_type": "code",
   "execution_count": 159,
   "metadata": {},
   "outputs": [
    {
     "data": {
      "text/plain": [
       "Text(0.5,1,'Feature Importances')"
      ]
     },
     "execution_count": 159,
     "metadata": {},
     "output_type": "execute_result"
    },
    {
     "data": {
      "image/png": "[encoded data removed]",
      "text/plain": [
       "<Figure size 1440x288 with 1 Axes>"
      ]
     },
     "metadata": {},
     "output_type": "display_data"
    }
   ],
   "source": [
    "importances = bestModel.featureImportances\n",
    "x_values = list(range(len(importances)))\n",
    "plt.figure(figsize=(20,4))\n",
    "plt.bar(x_values, importances, orientation = 'vertical')\n",
    "plt.xticks(x_values, feature_list, rotation=40)\n",
    "plt.ylabel('Importance')\n",
    "plt.xlabel('Feature')\n",
    "plt.title('Feature Importances')"
   ]
  },
  {
   "cell_type": "code",
   "execution_count": 160,
   "metadata": {},
   "outputs": [
    {
     "name": "stdout",
     "output_type": "stream",
     "text": [
      "numTrees -  15\n",
      "maxDepth -  5\n"
     ]
    }
   ],
   "source": [
    "print('numTrees - ', bestModel.getNumTrees)\n",
    "print('maxDepth - ', bestModel.getOrDefault('maxDepth'))"
   ]
  },
  {
   "cell_type": "markdown",
   "metadata": {},
   "source": [
    "### Logistic regression on review data"
   ]
  },
  {
   "cell_type": "code",
   "execution_count": 161,
   "metadata": {},
   "outputs": [
    {
     "name": "stdout",
     "output_type": "stream",
     "text": [
      "root\n",
      " |-- business_id: string (nullable = true)\n",
      " |-- cool: long (nullable = true)\n",
      " |-- date: string (nullable = true)\n",
      " |-- funny: long (nullable = true)\n",
      " |-- review_id: string (nullable = true)\n",
      " |-- stars: double (nullable = true)\n",
      " |-- text: string (nullable = true)\n",
      " |-- useful: long (nullable = true)\n",
      " |-- user_id: string (nullable = true)\n",
      "\n"
     ]
    }
   ],
   "source": [
    "df_rev.printSchema()"
   ]
  },
  {
   "cell_type": "code",
   "execution_count": null,
   "metadata": {},
   "outputs": [],
   "source": [
    "df_rev.count()"
   ]
  },
  {
   "cell_type": "code",
   "execution_count": null,
   "metadata": {},
   "outputs": [],
   "source": [
    "df_rev_clean=df_rev.select(\"stars\",\"text\").dropna()"
   ]
  },
  {
   "cell_type": "code",
   "execution_count": null,
   "metadata": {},
   "outputs": [],
   "source": [
    "df_rev_clean.count()"
   ]
  },
  {
   "cell_type": "code",
   "execution_count": null,
   "metadata": {},
   "outputs": [],
   "source": [
    "from pyspark.sql.types import TimestampType\n",
    "from pyspark.sql.functions import unix_timestamp\n",
    "#df2=df1.withColumn(\"date\", unix_timestamp('date','MM/dd/yyyy').cast('timestamp'))\n",
    "df_rev=df_rev.withColumn(\"date\", unix_timestamp('date','yyyy-MM-dd HH:mm:ss').cast('timestamp'))"
   ]
  },
  {
   "cell_type": "code",
   "execution_count": null,
   "metadata": {},
   "outputs": [],
   "source": [
    "%%time\n",
    "from pyspark.sql.functions import month, year\n",
    "df_rev = df_rev.withColumn('Year', year(df_rev['date']))\n",
    "df_rev = df_rev.withColumn('Month', month(df_rev['date']))"
   ]
  },
  {
   "cell_type": "code",
   "execution_count": null,
   "metadata": {},
   "outputs": [],
   "source": [
    "df_rev.printSchema()"
   ]
  },
  {
   "cell_type": "code",
   "execution_count": null,
   "metadata": {},
   "outputs": [],
   "source": [
    "###\n",
    "rev_time = df_rev.groupBy('Year', 'Month').count().orderBy([\"Year\", \"Month\"], ascending=[1, 1]).dropna()\n",
    "p_rev_time = rev_time.toPandas()\n",
    "p_rev_time.plot(y=\"count\", figsize=(15,4), style=\"-\")"
   ]
  },
  {
   "cell_type": "code",
   "execution_count": null,
   "metadata": {},
   "outputs": [],
   "source": [
    "p_df = p_rev_time.pivot(index='Month', columns='Year', values='count')\n",
    "p_df"
   ]
  },
  {
   "cell_type": "code",
   "execution_count": null,
   "metadata": {},
   "outputs": [],
   "source": [
    "p_df.plot(figsize=(12,6))"
   ]
  },
  {
   "cell_type": "code",
   "execution_count": null,
   "metadata": {},
   "outputs": [],
   "source": [
    "#import sparknlp\n",
    "#sparknlp.start()\n",
    "\n",
    "#from sparknlp.base import *\n",
    "#from sparknlp.annotator import *\n",
    "#from sparknlp.pretrained import PretrainedPipeline\n"
   ]
  },
  {
   "cell_type": "code",
   "execution_count": null,
   "metadata": {},
   "outputs": [],
   "source": [
    "# Import modules\n",
    "from pyspark.sql import SparkSession\n",
    "from pyspark.sql import functions as F\n",
    "from pyspark.ml import Pipeline\n",
    "import matplotlib.pyplot as plt\n",
    "import pandas as pd\n",
    "import os\n",
    "import shutil\n",
    "import sh\n",
    "%matplotlib inline"
   ]
  },
  {
   "cell_type": "code",
   "execution_count": null,
   "metadata": {},
   "outputs": [],
   "source": [
    "#Maps a sequence of terms to their term frequencies using the hashing trick. \n",
    "indexer = StringIndexer(inputCol=\"stars\", outputCol=\"label\")\n",
    "tokenizer = Tokenizer(inputCol=\"text\", outputCol=\"tokens\")\n",
    "remover = StopWordsRemover(inputCol=\"tokens\", outputCol=\"filtered\")\n",
    "hashingTF = HashingTF(inputCol=\"filtered\", outputCol=\"rawFeatures\", numFeatures=20)\n",
    "idf = IDF(inputCol=\"rawFeatures\", outputCol=\"features\")\n",
    "\n",
    "\n",
    "#A Pipeline chains multiple Transformers and Estimators together to specify an ML workflow\n",
    "pipeline = Pipeline(stages=[indexer,tokenizer, remover,hashingTF,idf])\n",
    "lr_df = pipeline.fit(df_rev).transform(df_rev)\n",
    "lr_df.select(\"label\", \"features\").show(5, truncate=False)"
   ]
  },
  {
   "cell_type": "code",
   "execution_count": null,
   "metadata": {},
   "outputs": [],
   "source": [
    "train_df, test_df = lr_df.randomSplit([.8,.2],seed=1234)\n",
    "train_df.show(10, truncate = True)"
   ]
  },
  {
   "cell_type": "code",
   "execution_count": null,
   "metadata": {},
   "outputs": [],
   "source": []
  },
  {
   "cell_type": "code",
   "execution_count": null,
   "metadata": {},
   "outputs": [],
   "source": [
    "from pyspark.ml.classification import LogisticRegression\n",
    "# set parameters for logistic regression\n",
    "lgr = LogisticRegression(maxIter=20,featuresCol='features',labelCol='label')\n",
    "\n",
    "#fit the model to the data\n",
    "lgrmh = lgr.fit(train_df)\n",
    "\n",
    "#given a dataset, predict each point's label, and show the results\n",
    "predictions = lgrmh.transform(test_df)"
   ]
  },
  {
   "cell_type": "code",
   "execution_count": null,
   "metadata": {},
   "outputs": [],
   "source": [
    "#evaluate the model\n",
    "from pyspark.ml.evaluation import MulticlassClassificationEvaluator\n",
    "\n",
    "#print evaluation metrics\n",
    "evaluator = MulticlassClassificationEvaluator(labelCol=\"label\", predictionCol=\"prediction\")\n",
    "\n",
    "print(evaluator.evaluate(predictions, {evaluator.metricName: \"accuracy\"}))\n",
    "print(evaluator.evaluate(predictions, {evaluator.metricName: \"f1\"}))"
   ]
  },
  {
   "cell_type": "code",
   "execution_count": null,
   "metadata": {},
   "outputs": [],
   "source": [
    "lr_df.select('filtered').show(truncate=False)"
   ]
  },
  {
   "cell_type": "code",
   "execution_count": null,
   "metadata": {},
   "outputs": [],
   "source": []
  },
  {
   "cell_type": "code",
   "execution_count": null,
   "metadata": {},
   "outputs": [],
   "source": []
  },
  {
   "cell_type": "code",
   "execution_count": null,
   "metadata": {},
   "outputs": [],
   "source": []
  },
  {
   "cell_type": "code",
   "execution_count": null,
   "metadata": {},
   "outputs": [],
   "source": []
  },
  {
   "cell_type": "code",
   "execution_count": null,
   "metadata": {},
   "outputs": [],
   "source": []
  }
 ],
 "metadata": {
  "kernelspec": {
   "display_name": "pySpark",
   "language": "python",
   "name": "pyspark"
  },
  "language_info": {
   "codemirror_mode": {
    "name": "ipython",
    "version": 3
   },
   "file_extension": ".py",
   "mimetype": "text/x-python",
   "name": "python",
   "nbconvert_exporter": "python",
   "pygments_lexer": "ipython3",
   "version": "3.6.8"
  }
 },
 "nbformat": 4,
 "nbformat_minor": 2
}
