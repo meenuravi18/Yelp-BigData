{
 "cells": [
  {
   "cell_type": "code",
   "execution_count": 1,
   "metadata": {},
   "outputs": [],
   "source": [
    "from pyspark.sql import SparkSession\n",
    "from pyspark.sql import functions as F\n",
    "import matplotlib.pyplot as plt\n",
    "%matplotlib inline\n",
    "from pyspark.ml.feature import HashingTF, IDF, Tokenizer\n",
    "from pyspark.ml.feature import StopWordsRemover\n",
    "import re\n",
    "from pyspark.sql.functions import udf, explode, col\n",
    "from pyspark.sql.types import ArrayType,StringType,IntegerType\n",
    "import nltk\n",
    "from nltk.stem.wordnet import WordNetLemmatizer\n",
    "from nltk.corpus import stopwords\n",
    "from nltk import pos_tag\n",
    "from pyspark.ml.classification import LogisticRegression, NaiveBayes\n",
    "from pyspark.ml import Pipeline\n",
    "from pyspark.ml.evaluation import MulticlassClassificationEvaluator"
   ]
  },
  {
   "cell_type": "markdown",
   "metadata": {},
   "source": [
    "Lemmatization function from : https://stackoverflow.com/questions/59850159/nltk-wordnet-lemmatization-with-pos-tag-on-pyspark-dataframe"
   ]
  },
  {
   "cell_type": "code",
   "execution_count": 2,
   "metadata": {},
   "outputs": [
    {
     "data": {
      "text/plain": [
       "[('spark.eventLog.enabled', 'true'),\n",
       " ('spark.yarn.jars',\n",
       "  'local:/opt/cloudera/parcels/CDH-6.3.0-1.cdh6.3.0.p0.1279813/lib/spark/jars/*,local:/opt/cloudera/parcels/CDH-6.3.0-1.cdh6.3.0.p0.1279813/lib/spark/hive/*'),\n",
       " ('spark.yarn.appMasterEnv.MKL_NUM_THREADS', '1'),\n",
       " ('spark.sql.queryExecutionListeners',\n",
       "  'com.cloudera.spark.lineage.NavigatorQueryListener'),\n",
       " ('spark.executor.memory', '5g'),\n",
       " ('spark.lineage.log.dir', '/var/log/spark/lineage'),\n",
       " ('spark.org.apache.hadoop.yarn.server.webproxy.amfilter.AmIpFilter.param.PROXY_HOSTS',\n",
       "  'md01.rcc.local,md02.rcc.local'),\n",
       " ('spark.serializer', 'org.apache.spark.serializer.KryoSerializer'),\n",
       " ('spark.executorEnv.PYTHONPATH',\n",
       "  '/opt/cloudera/parcels/CDH/lib/spark/python/lib/py4j-0.10.7-src.zip:/opt/cloudera/parcels/CDH/lib/spark/python/lib/pyspark.zip<CPS>/opt/cloudera/parcels/CDH-6.3.0-1.cdh6.3.0.p0.1279813/lib/spark/python/lib/py4j-0.10.7-src.zip<CPS>/opt/cloudera/parcels/CDH-6.3.0-1.cdh6.3.0.p0.1279813/lib/spark/python/lib/pyspark.zip'),\n",
       " ('spark.yarn.historyServer.address', 'http://hd01.rcc.local:18088'),\n",
       " ('spark.ui.filters',\n",
       "  'org.apache.hadoop.yarn.server.webproxy.amfilter.AmIpFilter'),\n",
       " ('spark.network.crypto.enabled', 'false'),\n",
       " ('spark.executorEnv.MKL_NUM_THREADS', '1'),\n",
       " ('spark.ui.enabled', 'true'),\n",
       " ('spark.executor.id', 'driver'),\n",
       " ('spark.executor.extraLibraryPath',\n",
       "  '/opt/cloudera/parcels/CDH-6.3.0-1.cdh6.3.0.p0.1279813/lib/hadoop/lib/native'),\n",
       " ('spark.dynamicAllocation.schedulerBacklogTimeout', '1'),\n",
       " ('spark.driver.port', '35297'),\n",
       " ('spark.yarn.config.gatewayPath', '/opt/cloudera/parcels'),\n",
       " ('spark.extraListeners', 'com.cloudera.spark.lineage.NavigatorAppListener'),\n",
       " ('spark.port.maxRetries', '60'),\n",
       " ('spark.sql.warehouse.dir', '/user/hive/warehouse'),\n",
       " ('spark.app.name', 'Spark Updated Conf'),\n",
       " ('spark.sql.catalogImplementation', 'hive'),\n",
       " ('spark.org.apache.hadoop.yarn.server.webproxy.amfilter.AmIpFilter.param.PROXY_URI_BASES',\n",
       "  'http://md01.rcc.local:8088/proxy/application_1619493632612_6304,http://md02.rcc.local:8088/proxy/application_1619493632612_6304'),\n",
       " ('spark.driver.log.persistToDfs.enabled', 'true'),\n",
       " ('spark.yarn.config.replacementPath', '{{HADOOP_COMMON_HOME}}/../../..'),\n",
       " ('spark.executorEnv.OPENBLAS_NUM_THREADS', '1'),\n",
       " ('spark.driver.extraLibraryPath',\n",
       "  '/opt/cloudera/parcels/CDH-6.3.0-1.cdh6.3.0.p0.1279813/lib/hadoop/lib/native'),\n",
       " ('spark.ui.killEnabled', 'true'),\n",
       " ('spark.cores.max', '4'),\n",
       " ('spark.eventLog.dir', 'hdfs://nameservice1/user/spark/applicationHistory'),\n",
       " ('spark.dynamicAllocation.executorIdleTimeout', '60'),\n",
       " ('spark.executor.cores', '4'),\n",
       " ('spark.io.encryption.enabled', 'false'),\n",
       " ('spark.authenticate', 'false'),\n",
       " ('spark.ui.proxyBase', '/proxy/application_1619493632612_6304'),\n",
       " ('spark.driver.memory', '8g'),\n",
       " ('spark.serializer.objectStreamReset', '100'),\n",
       " ('spark.submit.deployMode', 'client'),\n",
       " ('spark.org.apache.hadoop.yarn.server.webproxy.amfilter.AmIpFilter.param.RM_HA_URLS',\n",
       "  'md01.rcc.local:8088,md02.rcc.local:8088'),\n",
       " ('spark.shuffle.service.enabled', 'true'),\n",
       " ('spark.app.id', 'application_1619493632612_6304'),\n",
       " ('spark.yarn.historyServer.allowTracking', 'true'),\n",
       " ('spark.driver.appUIAddress', 'http://md01.rcc.local:4046'),\n",
       " ('spark.yarn.appMasterEnv.OPENBLAS_NUM_THREADS', '1'),\n",
       " ('spark.shuffle.service.port', '7337'),\n",
       " ('spark.lineage.enabled', 'true'),\n",
       " ('spark.master', 'yarn'),\n",
       " ('spark.driver.host', 'md01.rcc.local'),\n",
       " ('spark.rdd.compress', 'True'),\n",
       " ('spark.yarn.am.extraLibraryPath',\n",
       "  '/opt/cloudera/parcels/CDH-6.3.0-1.cdh6.3.0.p0.1279813/lib/hadoop/lib/native'),\n",
       " ('spark.dynamicAllocation.minExecutors', '0'),\n",
       " ('spark.yarn.isPython', 'true'),\n",
       " ('spark.dynamicAllocation.enabled', 'true'),\n",
       " ('spark.ui.showConsoleProgress', 'true'),\n",
       " ('spark.driver.log.dfsDir', '/user/spark/driverLogs')]"
      ]
     },
     "execution_count": 2,
     "metadata": {},
     "output_type": "execute_result"
    }
   ],
   "source": [
    "#create Spark session\n",
    "spark = SparkSession.builder.appName('YelpReview').getOrCreate()\n",
    "\n",
    "#change configuration settings on Spark \n",
    "conf = spark.sparkContext._conf.setAll([('spark.executor.memory', '5g'), ('spark.app.name', 'Spark Updated Conf'), ('spark.executor.cores', '4'), ('spark.cores.max', '4'), ('spark.driver.memory','8g')])\n",
    "\n",
    "#print spark configuration settings\n",
    "spark.sparkContext.getConf().getAll()"
   ]
  },
  {
   "cell_type": "markdown",
   "metadata": {},
   "source": [
    "## Read Data"
   ]
  },
  {
   "cell_type": "code",
   "execution_count": 3,
   "metadata": {},
   "outputs": [
    {
     "name": "stdout",
     "output_type": "stream",
     "text": [
      "root\n",
      " |-- address: string (nullable = true)\n",
      " |-- attributes: struct (nullable = true)\n",
      " |    |-- AcceptsInsurance: string (nullable = true)\n",
      " |    |-- AgesAllowed: string (nullable = true)\n",
      " |    |-- Alcohol: string (nullable = true)\n",
      " |    |-- Ambience: string (nullable = true)\n",
      " |    |-- BYOB: string (nullable = true)\n",
      " |    |-- BYOBCorkage: string (nullable = true)\n",
      " |    |-- BestNights: string (nullable = true)\n",
      " |    |-- BikeParking: string (nullable = true)\n",
      " |    |-- BusinessAcceptsBitcoin: string (nullable = true)\n",
      " |    |-- BusinessAcceptsCreditCards: string (nullable = true)\n",
      " |    |-- BusinessParking: string (nullable = true)\n",
      " |    |-- ByAppointmentOnly: string (nullable = true)\n",
      " |    |-- Caters: string (nullable = true)\n",
      " |    |-- CoatCheck: string (nullable = true)\n",
      " |    |-- Corkage: string (nullable = true)\n",
      " |    |-- DietaryRestrictions: string (nullable = true)\n",
      " |    |-- DogsAllowed: string (nullable = true)\n",
      " |    |-- DriveThru: string (nullable = true)\n",
      " |    |-- GoodForDancing: string (nullable = true)\n",
      " |    |-- GoodForKids: string (nullable = true)\n",
      " |    |-- GoodForMeal: string (nullable = true)\n",
      " |    |-- HairSpecializesIn: string (nullable = true)\n",
      " |    |-- HappyHour: string (nullable = true)\n",
      " |    |-- HasTV: string (nullable = true)\n",
      " |    |-- Music: string (nullable = true)\n",
      " |    |-- NoiseLevel: string (nullable = true)\n",
      " |    |-- Open24Hours: string (nullable = true)\n",
      " |    |-- OutdoorSeating: string (nullable = true)\n",
      " |    |-- RestaurantsAttire: string (nullable = true)\n",
      " |    |-- RestaurantsCounterService: string (nullable = true)\n",
      " |    |-- RestaurantsDelivery: string (nullable = true)\n",
      " |    |-- RestaurantsGoodForGroups: string (nullable = true)\n",
      " |    |-- RestaurantsPriceRange2: string (nullable = true)\n",
      " |    |-- RestaurantsReservations: string (nullable = true)\n",
      " |    |-- RestaurantsTableService: string (nullable = true)\n",
      " |    |-- RestaurantsTakeOut: string (nullable = true)\n",
      " |    |-- Smoking: string (nullable = true)\n",
      " |    |-- WheelchairAccessible: string (nullable = true)\n",
      " |    |-- WiFi: string (nullable = true)\n",
      " |-- business_id: string (nullable = true)\n",
      " |-- categories: string (nullable = true)\n",
      " |-- city: string (nullable = true)\n",
      " |-- hours: struct (nullable = true)\n",
      " |    |-- Friday: string (nullable = true)\n",
      " |    |-- Monday: string (nullable = true)\n",
      " |    |-- Saturday: string (nullable = true)\n",
      " |    |-- Sunday: string (nullable = true)\n",
      " |    |-- Thursday: string (nullable = true)\n",
      " |    |-- Tuesday: string (nullable = true)\n",
      " |    |-- Wednesday: string (nullable = true)\n",
      " |-- is_open: long (nullable = true)\n",
      " |-- latitude: double (nullable = true)\n",
      " |-- longitude: double (nullable = true)\n",
      " |-- name: string (nullable = true)\n",
      " |-- postal_code: string (nullable = true)\n",
      " |-- review_count: long (nullable = true)\n",
      " |-- stars: double (nullable = true)\n",
      " |-- state: string (nullable = true)\n",
      "\n"
     ]
    }
   ],
   "source": [
    "business = spark.read \\\n",
    "    .option(\"quote\", \"\\\"\")  \\\n",
    "    .option(\"escape\", \"\\\"\") \\\n",
    "    .option(\"ignoreLeadingWhiteSpace\",True) \\\n",
    "    .json(\"/user/ravim/yelp/yelp_academic_dataset_business.json\")\n",
    "\n",
    "business.printSchema()\n"
   ]
  },
  {
   "cell_type": "code",
   "execution_count": 4,
   "metadata": {},
   "outputs": [
    {
     "name": "stdout",
     "output_type": "stream",
     "text": [
      "root\n",
      " |-- business_id: string (nullable = true)\n",
      " |-- cool: long (nullable = true)\n",
      " |-- date: string (nullable = true)\n",
      " |-- funny: long (nullable = true)\n",
      " |-- review_id: string (nullable = true)\n",
      " |-- review_stars: double (nullable = true)\n",
      " |-- text: string (nullable = true)\n",
      " |-- useful: long (nullable = true)\n",
      " |-- user_id: string (nullable = true)\n",
      "\n"
     ]
    }
   ],
   "source": [
    "review = spark.read \\\n",
    "    .option(\"quote\", \"\\\"\")  \\\n",
    "    .option(\"escape\", \"\\\"\") \\\n",
    "    .option(\"ignoreLeadingWhiteSpace\",True) \\\n",
    "    .json(\"/user/ravim/yelp/yelp_academic_dataset_review.json\")\n",
    "review= review.withColumnRenamed(\"stars\", \"review_stars\")\n",
    "review.printSchema()"
   ]
  },
  {
   "cell_type": "markdown",
   "metadata": {},
   "source": [
    "### Creation of Dataset using Joins"
   ]
  },
  {
   "cell_type": "code",
   "execution_count": 5,
   "metadata": {},
   "outputs": [],
   "source": [
    "business_reviews=business.join(review, [\"business_id\"], 'left')"
   ]
  },
  {
   "cell_type": "code",
   "execution_count": 6,
   "metadata": {},
   "outputs": [],
   "source": [
    "business_reviews_restaurants=business_reviews.filter(business_reviews.categories.contains('Restaurant'))"
   ]
  },
  {
   "cell_type": "markdown",
   "metadata": {},
   "source": [
    "### EDA Sample"
   ]
  },
  {
   "cell_type": "code",
   "execution_count": 7,
   "metadata": {},
   "outputs": [
    {
     "name": "stdout",
     "output_type": "stream",
     "text": [
      "+----------+-----+------+\n",
      "|      city|state| count|\n",
      "+----------+-----+------+\n",
      "|    Austin|   TX|807873|\n",
      "|  Portland|   OR|752134|\n",
      "|   Atlanta|   GA|600333|\n",
      "|    Boston|   MA|532632|\n",
      "|   Orlando|   FL|451805|\n",
      "| Vancouver|   BC|305517|\n",
      "|  Columbus|   OH|205332|\n",
      "| Cambridge|   MA|159363|\n",
      "|   Boulder|   CO| 74041|\n",
      "|Somerville|   MA| 72704|\n",
      "+----------+-----+------+\n",
      "only showing top 10 rows\n",
      "\n"
     ]
    }
   ],
   "source": [
    "business_reviews_restaurants.groupby( 'city',\"state\").count().orderBy([\"count\"], ascending=[0]).show(10)"
   ]
  },
  {
   "cell_type": "markdown",
   "metadata": {},
   "source": [
    "#### Change stars==5.0 for 5 star restaurants"
   ]
  },
  {
   "cell_type": "code",
   "execution_count": 8,
   "metadata": {},
   "outputs": [],
   "source": [
    "rest_stars=business_reviews_restaurants.filter(business_reviews_restaurants.stars=='1.0').\\\n",
    "                                 groupBy('name','stars').count().sort(\"count\").orderBy([\"count\"], \\\n",
    "                                                                                       ascending=[0]).limit(10)\n",
    "rest_stars_df=rest_stars.toPandas()"
   ]
  },
  {
   "cell_type": "code",
   "execution_count": 9,
   "metadata": {},
   "outputs": [],
   "source": [
    "rest_stars_df=rest_stars_df.sort_values(by=['count'])"
   ]
  },
  {
   "cell_type": "code",
   "execution_count": 10,
   "metadata": {},
   "outputs": [
    {
     "data": {
      "image/png": "[encoded data removed]",
      "text/plain": [
       "<Figure size 720x720 with 1 Axes>"
      ]
     },
     "metadata": {},
     "output_type": "display_data"
    }
   ],
   "source": [
    "plt.figure(figsize=(10,10))\n",
    "plt.barh(rest_stars_df['name'].tolist(),rest_stars_df['count'].tolist())\n",
    "plt.title('Restaurants with 5 Stars')\n",
    "plt.ylabel('Restaurants')\n",
    "plt.xlabel('Count')\n",
    "\n",
    "plt.show()"
   ]
  },
  {
   "cell_type": "markdown",
   "metadata": {},
   "source": [
    "### Filtering"
   ]
  },
  {
   "cell_type": "code",
   "execution_count": 11,
   "metadata": {},
   "outputs": [],
   "source": [
    "business_reviews_filtered=business_reviews_restaurants.filter(business_reviews_restaurants.name.contains(\"Pizza Hut\")).filter\\\n",
    "(business_reviews_restaurants.state.contains('MA'))"
   ]
  },
  {
   "cell_type": "code",
   "execution_count": 12,
   "metadata": {},
   "outputs": [],
   "source": [
    "business_reviews_filtered = business_reviews_filtered.distinct()"
   ]
  },
  {
   "cell_type": "code",
   "execution_count": 13,
   "metadata": {},
   "outputs": [
    {
     "data": {
      "text/plain": [
       "256"
      ]
     },
     "execution_count": 13,
     "metadata": {},
     "output_type": "execute_result"
    }
   ],
   "source": [
    "business_reviews_filtered.count()"
   ]
  },
  {
   "cell_type": "code",
   "execution_count": 14,
   "metadata": {},
   "outputs": [],
   "source": [
    "business_reviews_cols=business_reviews_filtered.select('stars','text')"
   ]
  },
  {
   "cell_type": "code",
   "execution_count": 15,
   "metadata": {},
   "outputs": [
    {
     "name": "stdout",
     "output_type": "stream",
     "text": [
      "+-----+--------------------------------------------------------------------------------------------------------------------------------------------------------------------------------------------------------------------------------------------------------------------------------------------------------------------------------------------------------------------------------------------------------------------------------------------------------------------------------------------------------------------------------------------------------------------------------------------------------------------------------------------------------------------------------------------------------------------------------------------------------------------------------------------------------------------------------------------------------------------------------------------------------------------------------------------------------------------------------------------------------------------------------------------------+------+\n",
      "|stars|text                                                                                                                                                                                                                                                                                                                                                                                                                                                                                                                                                                                                                                                                                                                                                                                                                                                                                                                                                                                                                                              |Target|\n",
      "+-----+--------------------------------------------------------------------------------------------------------------------------------------------------------------------------------------------------------------------------------------------------------------------------------------------------------------------------------------------------------------------------------------------------------------------------------------------------------------------------------------------------------------------------------------------------------------------------------------------------------------------------------------------------------------------------------------------------------------------------------------------------------------------------------------------------------------------------------------------------------------------------------------------------------------------------------------------------------------------------------------------------------------------------------------------------+------+\n",
      "|1.5  |Honestly I usually like pizza hut food but particularly not from this store. One - they took really long to deliver and my food was cold - fine. Then, They did not put bbq sauce on one of my pizzas I've created - all I tasted was plain cheese. Also they did not slice any of the pizzas. What got me the most is their customer service. We've called to complain and talk to the manager about the number of issues with our order, and the man simply replied \"Ok? What do you want me to do about it?\". Thank you the the excellent workers at pizza hut for showing customer appreciation. Also, messing up one order more ways than any drive thru fast food chain would.                                                                                                                                                                                                                                                                                                                                                              |0     |\n",
      "|1.5  |I've see many negative reviews on here for this location. I think I must be lucky the last few times I I've been here. The staff in the kitchen don't really pay attention or greet you when you walk up to the counter, so you can feel little puzzled when they walked past by you without saying anything. After experiencing this a few times, I just have to assume that's not part of their job description as they are too occupied preparing the orders. However, the cashiers there have always been attentive and friendly with me. Last night, Manuela was on duty and she greeted me with a warm smile when I picked up my online order. \n",
      "\n",
      "As far as the food goes; it is always on point. I always select the garlic buttery crust for my pizza and they never messed it up compared to the Everett location. Speaking of location, this Pizza Hut location in Revere can be challenging to get to, if you're not too familiar with the area, because of weird traffic intersection. I wish they consider relocating to another spot.|0     |\n",
      "|1.5  |Service is really bad, Cashier is so rude and treating people like shit. \n",
      "Don't eat here                                                                                                                                                                                                                                                                                                                                                                                                                                                                                                                                                                                                                                                                                                                                                                                                                                                                                                                                                          |0     |\n",
      "|1.5  |Great pizza ! HORRIBLE costumer service so RUDE!!!! Not friendly couldn't even tell me what deals they have                                                                                                                                                                                                                                                                                                                                                                                                                                                                                                                                                                                                                                                                                                                                                                                                                                                                                                                                       |0     |\n",
      "|1.5  |I always was told as a restaurant manager and in life don't call me with a problem call me with a solution. I am short staffed because \"my driver had a car problem\" is not an excuse. And why would you call me to tell me that. after I order, to offer me a refund... ordered and paid??? Wouldn't you just close online sales? That's called being a supervisor. Needless to say I was think twice from ordering from here again or Pizza Hut in general...                                                                                                                                                                                                                                                                                                                                                                                                                                                                                                                                                                                   |0     |\n",
      "+-----+--------------------------------------------------------------------------------------------------------------------------------------------------------------------------------------------------------------------------------------------------------------------------------------------------------------------------------------------------------------------------------------------------------------------------------------------------------------------------------------------------------------------------------------------------------------------------------------------------------------------------------------------------------------------------------------------------------------------------------------------------------------------------------------------------------------------------------------------------------------------------------------------------------------------------------------------------------------------------------------------------------------------------------------------------+------+\n",
      "only showing top 5 rows\n",
      "\n"
     ]
    }
   ],
   "source": [
    "def pos_or_neg(stars):\n",
    "    if stars >= 3.0: return 1\n",
    "    else: return 0\n",
    "label_stars=udf(pos_or_neg)\n",
    "\n",
    "reviews_labeled = business_reviews_cols.withColumn(\"Target\", label_stars(\"stars\"))\n",
    "reviews_labeled.show(5,truncate=False)"
   ]
  },
  {
   "cell_type": "markdown",
   "metadata": {},
   "source": [
    "### Cleaning Reviews"
   ]
  },
  {
   "cell_type": "code",
   "execution_count": 16,
   "metadata": {},
   "outputs": [],
   "source": [
    "def remove_non_ascii(data_str):\n",
    "    stripped = (c for c in data_str if 0 < ord(c) < 127)\n",
    "    return ''.join(stripped)\n",
    "\n",
    "remove = udf(remove_non_ascii, StringType())"
   ]
  },
  {
   "cell_type": "code",
   "execution_count": 17,
   "metadata": {},
   "outputs": [],
   "source": [
    "reviews_labeled = reviews_labeled.select('stars','Target','text',remove('text').\\\n",
    "            alias('text_cleaned'))"
   ]
  },
  {
   "cell_type": "code",
   "execution_count": 18,
   "metadata": {},
   "outputs": [
    {
     "name": "stdout",
     "output_type": "stream",
     "text": [
      "+-----+------+--------------------+--------------------+\n",
      "|stars|Target|                text|        text_cleaned|\n",
      "+-----+------+--------------------+--------------------+\n",
      "|  1.5|     0|Honestly I usuall...|Honestly I usuall...|\n",
      "|  1.5|     0|I've see many neg...|I've see many neg...|\n",
      "|  1.5|     0|Service is really...|Service is really...|\n",
      "|  1.5|     0|Great pizza ! HOR...|Great pizza ! HOR...|\n",
      "|  1.5|     0|So after my last ...|So after my last ...|\n",
      "+-----+------+--------------------+--------------------+\n",
      "only showing top 5 rows\n",
      "\n"
     ]
    }
   ],
   "source": [
    "reviews_labeled.show(5)"
   ]
  },
  {
   "cell_type": "code",
   "execution_count": 19,
   "metadata": {},
   "outputs": [],
   "source": [
    "#### Common stop words found in yelp data"
   ]
  },
  {
   "cell_type": "code",
   "execution_count": 20,
   "metadata": {},
   "outputs": [],
   "source": [
    "remove_Words= [ \"\",'ourselves', 'hers', 'between', 'again', 'there', 'about', 'once', \n",
    "                       'during',  'very', 'having', 'with', 'they',  'some', \n",
    "                       'yours', 'such', 'into',  'most', 'itself', 'other',  \n",
    "                       'from',  'each', 'wasn', 'themselves', 'until', 'below', 'these', 'your', \n",
    "                       'through', 'were',  'more', 'himself', 'this', 'down', 'should',\n",
    "                       'their', 'while', 'above', 'both',  'ours', 'when', \n",
    "                       'before', 'them', 'same',  'been', 'have', 'will',  'does', 'yourselves', 'then',\n",
    "                       'that', 'because', 'what', 'over', 'under', \n",
    "                       'herself',  'just', 'where',  'only', 'myself', 'which', 'those', 'after', \n",
    "                       'whom',  'being',  'theirs',  'against',  'doing',  'further',\n",
    "                       'was', 'here', 'stars','gave','take']"
   ]
  },
  {
   "cell_type": "code",
   "execution_count": 21,
   "metadata": {},
   "outputs": [],
   "source": [
    "stringsplit = udf(lambda line: [w for w in re.split(\"[^A-Za-z]\", line.strip().lower()) if w not in remove_Words \\\n",
    "                                and len(w)>3], ArrayType(StringType()))"
   ]
  },
  {
   "cell_type": "code",
   "execution_count": 22,
   "metadata": {},
   "outputs": [],
   "source": [
    "reviews_labeled = reviews_labeled.withColumn(\"remove_extra\",stringsplit(reviews_labeled[\"text_cleaned\"]))"
   ]
  },
  {
   "cell_type": "code",
   "execution_count": 23,
   "metadata": {},
   "outputs": [
    {
     "name": "stdout",
     "output_type": "stream",
     "text": [
      "+-----+------+--------------------+--------------------+--------------------+\n",
      "|stars|Target|                text|        text_cleaned|        remove_extra|\n",
      "+-----+------+--------------------+--------------------+--------------------+\n",
      "|  1.5|     0|Honestly I usuall...|Honestly I usuall...|[honestly, usuall...|\n",
      "|  1.5|     0|I've see many neg...|I've see many neg...|[many, negative, ...|\n",
      "|  1.5|     0|Service is really...|Service is really...|[service, really,...|\n",
      "|  1.5|     0|Great pizza ! HOR...|Great pizza ! HOR...|[great, pizza, ho...|\n",
      "|  1.5|     0|I always was told...|I always was told...|[always, told, re...|\n",
      "+-----+------+--------------------+--------------------+--------------------+\n",
      "only showing top 5 rows\n",
      "\n"
     ]
    }
   ],
   "source": [
    "reviews_labeled.show(5)"
   ]
  },
  {
   "cell_type": "code",
   "execution_count": 24,
   "metadata": {},
   "outputs": [],
   "source": [
    "def pos_tagging(text):\n",
    "    cleaned_str = ' '\n",
    "\n",
    "    adjs = ['JJ', 'JJR', 'JJS']\n",
    "    verbs = ['VB', 'VBD', 'VBG', 'VBN', 'VBP', 'VBZ']\n",
    "    nltk_tags = adjs + verbs\n",
    "\n",
    "    tagged = pos_tag(text)\n",
    "    for word in tagged:\n",
    "        if word[1] in nltk_tags:\n",
    "            cleaned_str += word[0] + ' '\n",
    "    return cleaned_str\n",
    "pos_tagged = udf(pos_tagging)"
   ]
  },
  {
   "cell_type": "code",
   "execution_count": 25,
   "metadata": {},
   "outputs": [],
   "source": [
    "reviews_labeled=reviews_labeled.withColumn(\"pos_tagging\", pos_tagged(\"remove_extra\"))"
   ]
  },
  {
   "cell_type": "code",
   "execution_count": 26,
   "metadata": {},
   "outputs": [
    {
     "name": "stdout",
     "output_type": "stream",
     "text": [
      "+-----+------+--------------------+--------------------+--------------------+--------------------+\n",
      "|stars|Target|                text|        text_cleaned|        remove_extra|         pos_tagging|\n",
      "+-----+------+--------------------+--------------------+--------------------+--------------------+\n",
      "|  1.5|     0|So after my last ...|So after my last ...|[last, review, ba...| last bashed staf...|\n",
      "|  1.5|     0|Came here and the...|Came here and the...|[came, guys, look...| came guys high d...|\n",
      "|  1.5|     0|I didn't expect a...|I didn't expect a...|[didn, expect, an...| expect phenomena...|\n",
      "|  1.5|     0|I would typically...|I would typically...|[would, typically...| give good know c...|\n",
      "|  1.5|     0|Honestly I usuall...|Honestly I usuall...|[honestly, usuall...| pizza took long ...|\n",
      "+-----+------+--------------------+--------------------+--------------------+--------------------+\n",
      "only showing top 5 rows\n",
      "\n"
     ]
    }
   ],
   "source": [
    "reviews_labeled.show(5)"
   ]
  },
  {
   "cell_type": "code",
   "execution_count": 27,
   "metadata": {},
   "outputs": [],
   "source": [
    "reviews_labeled=reviews_labeled.select(\"stars\",\"text\",'Target','pos_tagging')"
   ]
  },
  {
   "cell_type": "markdown",
   "metadata": {},
   "source": [
    "### Tokenization"
   ]
  },
  {
   "cell_type": "code",
   "execution_count": 28,
   "metadata": {},
   "outputs": [],
   "source": [
    "tokenizer = Tokenizer(inputCol=\"pos_tagging\", outputCol=\"words\")\n",
    "wordsDataFrame = tokenizer.transform(reviews_labeled)\n"
   ]
  },
  {
   "cell_type": "markdown",
   "metadata": {},
   "source": [
    "### Stop words remover"
   ]
  },
  {
   "cell_type": "code",
   "execution_count": 29,
   "metadata": {},
   "outputs": [
    {
     "name": "stdout",
     "output_type": "stream",
     "text": [
      "+--------------------+------+--------------------+\n",
      "|                text|Target|            filtered|\n",
      "+--------------------+------+--------------------+\n",
      "|If I could zero I...|     0|[, zero, open, te...|\n",
      "|This is a small P...|     0|[, small, geared,...|\n",
      "|Yeah I'm not wait...|     0|  [, waiting, pizza]|\n",
      "|Wtf the staff her...|     0|[, fucking, rude,...|\n",
      "|Walked in and wal...|     0|[, walked, walked...|\n",
      "+--------------------+------+--------------------+\n",
      "only showing top 5 rows\n",
      "\n"
     ]
    }
   ],
   "source": [
    "remover = StopWordsRemover(inputCol=\"words\", outputCol=\"filtered\")\n",
    "wordsDataFrameUpdated = remover.transform(wordsDataFrame).select(\"text\",\"Target\",\"filtered\")\n",
    "wordsDataFrameUpdated.show(5)\n"
   ]
  },
  {
   "cell_type": "code",
   "execution_count": 30,
   "metadata": {},
   "outputs": [
    {
     "name": "stdout",
     "output_type": "stream",
     "text": [
      "+--------------------+------+--------------------+--------------------+\n",
      "|                text|Target|            filtered|   filtered_combined|\n",
      "+--------------------+------+--------------------+--------------------+\n",
      "|If I could zero I...|     0|[, zero, open, te...| zero open tell c...|\n",
      "|This is a small P...|     0|[, small, geared,...| small geared bou...|\n",
      "|Yeah I'm not wait...|     0|  [, waiting, pizza]|       waiting pizza|\n",
      "|Wtf the staff her...|     0|[, fucking, rude,...| fucking rude mak...|\n",
      "|Walked in and wal...|     0|[, walked, walked...| walked walked wa...|\n",
      "+--------------------+------+--------------------+--------------------+\n",
      "only showing top 5 rows\n",
      "\n"
     ]
    }
   ],
   "source": [
    "join_udf = udf(lambda x: \" \".join(x))\n",
    "pre_lemmatize=wordsDataFrameUpdated.withColumn(\"filtered_combined\", join_udf(col(\"filtered\")))\n",
    "pre_lemmatize.show(5)"
   ]
  },
  {
   "cell_type": "markdown",
   "metadata": {},
   "source": [
    "### Lemmatization"
   ]
  },
  {
   "cell_type": "code",
   "execution_count": 31,
   "metadata": {},
   "outputs": [],
   "source": [
    "def lemmatize(data_str):\n",
    "    list_pos = 0\n",
    "    cleaned_str = ''\n",
    "    lmtzr = WordNetLemmatizer()\n",
    "    text = data_str.split()\n",
    "    tagged_words = pos_tag(text)\n",
    "    for word in tagged_words:\n",
    "        if 'v' in word[1].lower():\n",
    "            lemma = lmtzr.lemmatize(word[0], pos='v')\n",
    "        else:\n",
    "            lemma = lmtzr.lemmatize(word[0], pos='n')\n",
    "        if list_pos == 0:\n",
    "            cleaned_str = lemma\n",
    "        else:\n",
    "            cleaned_str = cleaned_str + ' ' + lemma\n",
    "        list_pos += 1\n",
    "    return cleaned_str\n",
    "lemmatization = udf(lemmatize, StringType())"
   ]
  },
  {
   "cell_type": "code",
   "execution_count": 32,
   "metadata": {},
   "outputs": [],
   "source": [
    "lemmatized=pre_lemmatize.withColumn(\"lemmatized\",lemmatization(\"filtered_combined\")).select('text','lemmatized','Target')"
   ]
  },
  {
   "cell_type": "code",
   "execution_count": 33,
   "metadata": {},
   "outputs": [
    {
     "name": "stdout",
     "output_type": "stream",
     "text": [
      "+--------------------+--------------------+------+\n",
      "|                text|          lemmatized|Target|\n",
      "+--------------------+--------------------+------+\n",
      "|So after my last ...|last bash staffed...|     0|\n",
      "|Came here and the...|come guy high dir...|     0|\n",
      "|I didn't expect a...|expect phenomenal...|     0|\n",
      "|I would typically...|give good know ca...|     0|\n",
      "|Honestly I usuall...|pizza take long c...|     0|\n",
      "+--------------------+--------------------+------+\n",
      "only showing top 5 rows\n",
      "\n"
     ]
    }
   ],
   "source": [
    "lemmatized.show(5)"
   ]
  },
  {
   "cell_type": "code",
   "execution_count": 34,
   "metadata": {},
   "outputs": [],
   "source": [
    "model_data=lemmatized.select(\"lemmatized\",'Target')"
   ]
  },
  {
   "cell_type": "markdown",
   "metadata": {},
   "source": [
    "### Model Preparation: Train and Test Split"
   ]
  },
  {
   "cell_type": "code",
   "execution_count": 35,
   "metadata": {},
   "outputs": [
    {
     "name": "stdout",
     "output_type": "stream",
     "text": [
      "+--------------------+------+\n",
      "|          lemmatized|Target|\n",
      "+--------------------+------+\n",
      "|       cashier treat|     0|\n",
      "|come guy high dir...|     0|\n",
      "| fuck rude make wear|     0|\n",
      "|give good know ca...|     0|\n",
      "|give hire appear ...|     0|\n",
      "|good first take d...|     0|\n",
      "|great horrible ru...|     0|\n",
      "|horrible glad ord...|     0|\n",
      "|last bash staffed...|     0|\n",
      "|many negative thi...|     0|\n",
      "+--------------------+------+\n",
      "only showing top 10 rows\n",
      "\n"
     ]
    }
   ],
   "source": [
    "train_df, test_df = model_data.randomSplit([.7,.3],seed=1234)\n",
    "train_df.show(10, truncate = True)"
   ]
  },
  {
   "cell_type": "code",
   "execution_count": 36,
   "metadata": {},
   "outputs": [],
   "source": [
    "train_df = train_df.withColumn(\"Target\", train_df[\"Target\"].cast(IntegerType()))\n",
    "test_df = test_df.withColumn(\"Target\", test_df[\"Target\"].cast(IntegerType()))"
   ]
  },
  {
   "cell_type": "markdown",
   "metadata": {},
   "source": [
    "### Hashing NLP"
   ]
  },
  {
   "cell_type": "code",
   "execution_count": 37,
   "metadata": {},
   "outputs": [],
   "source": [
    "tokenizer = Tokenizer(inputCol=\"lemmatized\", outputCol=\"words\")\n",
    "hashingTF = HashingTF(inputCol=tokenizer.getOutputCol(), outputCol=\"hashing\")\n",
    "idf = IDF(inputCol=hashingTF.getOutputCol(), outputCol=\"features\")"
   ]
  },
  {
   "cell_type": "markdown",
   "metadata": {},
   "source": [
    "### Model: Logistic Regression"
   ]
  },
  {
   "cell_type": "code",
   "execution_count": 38,
   "metadata": {},
   "outputs": [],
   "source": [
    "logreg = LogisticRegression(maxIter=10, regParam=0.01,labelCol=\"Target\",predictionCol=\"prediction\")\n",
    "pipeline = Pipeline(stages=[tokenizer, hashingTF, idf, logreg])\n",
    "model = pipeline.fit(train_df)"
   ]
  },
  {
   "cell_type": "code",
   "execution_count": 39,
   "metadata": {},
   "outputs": [],
   "source": [
    "prediction = model.transform(test_df)"
   ]
  },
  {
   "cell_type": "code",
   "execution_count": 40,
   "metadata": {},
   "outputs": [
    {
     "name": "stdout",
     "output_type": "stream",
     "text": [
      "+------+----------+\n",
      "|Target|prediction|\n",
      "+------+----------+\n",
      "|0     |0.0       |\n",
      "|0     |0.0       |\n",
      "|0     |0.0       |\n",
      "|0     |0.0       |\n",
      "|0     |0.0       |\n",
      "|0     |0.0       |\n",
      "|0     |0.0       |\n",
      "|0     |0.0       |\n",
      "|0     |0.0       |\n",
      "|0     |0.0       |\n",
      "+------+----------+\n",
      "only showing top 10 rows\n",
      "\n"
     ]
    }
   ],
   "source": [
    "prediction.select(\"Target\", \"prediction\").show(10,False)"
   ]
  },
  {
   "cell_type": "code",
   "execution_count": 41,
   "metadata": {},
   "outputs": [
    {
     "data": {
      "text/plain": [
       "0.908695652173913"
      ]
     },
     "execution_count": 41,
     "metadata": {},
     "output_type": "execute_result"
    }
   ],
   "source": [
    "evaluator = MulticlassClassificationEvaluator(labelCol='Target',predictionCol=\"prediction\")\n",
    "evaluator.evaluate(prediction)"
   ]
  },
  {
   "cell_type": "markdown",
   "metadata": {},
   "source": [
    "### Model: Naive Bayes Model"
   ]
  },
  {
   "cell_type": "code",
   "execution_count": 42,
   "metadata": {},
   "outputs": [],
   "source": [
    "nb = NaiveBayes(smoothing=1.0, modelType=\"multinomial\",labelCol=\"Target\")\n",
    "pipeline_nb = Pipeline(stages=[tokenizer, hashingTF, idf, nb])\n",
    "model_nb = pipeline_nb.fit(train_df)"
   ]
  },
  {
   "cell_type": "code",
   "execution_count": 43,
   "metadata": {},
   "outputs": [],
   "source": [
    "prediction_nb = model_nb.transform(test_df)"
   ]
  },
  {
   "cell_type": "code",
   "execution_count": 44,
   "metadata": {},
   "outputs": [
    {
     "name": "stdout",
     "output_type": "stream",
     "text": [
      "+------+----------+\n",
      "|Target|prediction|\n",
      "+------+----------+\n",
      "|0     |0.0       |\n",
      "|0     |0.0       |\n",
      "|0     |0.0       |\n",
      "|0     |0.0       |\n",
      "|0     |0.0       |\n",
      "|0     |0.0       |\n",
      "|0     |0.0       |\n",
      "|0     |0.0       |\n",
      "|0     |0.0       |\n",
      "|0     |0.0       |\n",
      "+------+----------+\n",
      "only showing top 10 rows\n",
      "\n"
     ]
    }
   ],
   "source": [
    "prediction_nb.select(\"Target\", \"prediction\").show(10,False)\n"
   ]
  },
  {
   "cell_type": "code",
   "execution_count": 45,
   "metadata": {},
   "outputs": [
    {
     "data": {
      "text/plain": [
       "0.9256410256410257"
      ]
     },
     "execution_count": 45,
     "metadata": {},
     "output_type": "execute_result"
    }
   ],
   "source": [
    "evaluator_nb = MulticlassClassificationEvaluator(labelCol='Target',predictionCol=\"prediction\")\n",
    "evaluator_nb.evaluate(prediction_nb)"
   ]
  },
  {
   "cell_type": "markdown",
   "metadata": {},
   "source": [
    "### Visuals Prep"
   ]
  },
  {
   "cell_type": "code",
   "execution_count": 46,
   "metadata": {},
   "outputs": [],
   "source": [
    "pos=model_data.filter(model_data.Target=='1')\n",
    "neg=model_data.filter(model_data.Target=='0')"
   ]
  },
  {
   "cell_type": "code",
   "execution_count": 47,
   "metadata": {},
   "outputs": [],
   "source": [
    "positive_words = pos.select('Target', stringsplit('lemmatized').alias('words')).withColumn('word', explode('words'))"
   ]
  },
  {
   "cell_type": "code",
   "execution_count": 48,
   "metadata": {},
   "outputs": [],
   "source": [
    "negative_words = neg.select('Target', stringsplit('lemmatized').alias('words')).withColumn('word', explode('words'))"
   ]
  },
  {
   "cell_type": "code",
   "execution_count": 49,
   "metadata": {},
   "outputs": [],
   "source": [
    "pos_words_count = positive_words.groupby('word').agg(F.count('Target').alias('word_count')).orderBy('word_count', ascending=False)"
   ]
  },
  {
   "cell_type": "code",
   "execution_count": 50,
   "metadata": {},
   "outputs": [],
   "source": [
    "neg_words_count = negative_words.groupby('word').agg(F.count('Target').alias('word_count')).orderBy('word_count', ascending=False)"
   ]
  },
  {
   "cell_type": "code",
   "execution_count": 51,
   "metadata": {},
   "outputs": [],
   "source": [
    "pos_words=pos_words_count.limit(100).toPandas()"
   ]
  },
  {
   "cell_type": "code",
   "execution_count": 52,
   "metadata": {},
   "outputs": [],
   "source": [
    "neg_words=neg_words_count.limit(100).toPandas()"
   ]
  },
  {
   "cell_type": "code",
   "execution_count": 53,
   "metadata": {},
   "outputs": [],
   "source": [
    "columns_titles = [\"word_count\",\"word\"]\n",
    "pos_words=pos_words.reindex(columns=columns_titles)"
   ]
  },
  {
   "cell_type": "code",
   "execution_count": 54,
   "metadata": {},
   "outputs": [],
   "source": [
    "neg_words=neg_words.reindex(columns=columns_titles)"
   ]
  },
  {
   "cell_type": "code",
   "execution_count": 55,
   "metadata": {},
   "outputs": [],
   "source": [
    "pos_words.to_csv(\"pos_words.csv\",index=False,header=True)"
   ]
  },
  {
   "cell_type": "code",
   "execution_count": 56,
   "metadata": {},
   "outputs": [],
   "source": [
    "neg_words.to_csv(\"neg_words.csv\",index=False,header=True)"
   ]
  },
  {
   "cell_type": "markdown",
   "metadata": {},
   "source": [
    "### Trying on LARGE sample"
   ]
  },
  {
   "cell_type": "code",
   "execution_count": 57,
   "metadata": {},
   "outputs": [],
   "source": [
    "business_reviews_filtered=business_reviews_restaurants.filter(business_reviews_restaurants.state.contains('MA'))"
   ]
  },
  {
   "cell_type": "code",
   "execution_count": 58,
   "metadata": {},
   "outputs": [],
   "source": [
    "business_reviews_filtered = business_reviews_filtered.distinct()"
   ]
  },
  {
   "cell_type": "code",
   "execution_count": 59,
   "metadata": {},
   "outputs": [
    {
     "data": {
      "text/plain": [
       "1365575"
      ]
     },
     "execution_count": 59,
     "metadata": {},
     "output_type": "execute_result"
    }
   ],
   "source": [
    "business_reviews_filtered.count()"
   ]
  },
  {
   "cell_type": "code",
   "execution_count": 60,
   "metadata": {},
   "outputs": [],
   "source": [
    "business_reviews_cols=business_reviews_filtered.select('stars','text')"
   ]
  },
  {
   "cell_type": "code",
   "execution_count": 61,
   "metadata": {},
   "outputs": [
    {
     "name": "stdout",
     "output_type": "stream",
     "text": [
      "+-----+-----------------------------------------------------------------------------------------------------------------------------------------------------------------------------------------------------------------------------------------------------------------------------------------------------------------------------------------------------------------------------------------------------------------------------------------------------------------------------------------------------------------------------------------------------------------------------------------------------------------------------------------------------------------------------------------------+------+\n",
      "|stars|text                                                                                                                                                                                                                                                                                                                                                                                                                                                                                                                                                                                                                                                                                           |Target|\n",
      "+-----+-----------------------------------------------------------------------------------------------------------------------------------------------------------------------------------------------------------------------------------------------------------------------------------------------------------------------------------------------------------------------------------------------------------------------------------------------------------------------------------------------------------------------------------------------------------------------------------------------------------------------------------------------------------------------------------------------+------+\n",
      "|4.5  |Five stars as the food is great and the people are friendly. Not a fan of the $1 surcharge I just started getting when asking for light ice in a coffee, never seen that business practice at a coffee shop. I know I'll sound like a Karen but I only started asking for light ice because I kept getting $5 coffees that were filled to the brim with ice - I would finish a large in five sips.\n",
      "\n",
      "Again, love this place, but I'm just perplexed by this business practice.                                                                                                                                                                                                                  |1     |\n",
      "|4.5  |I've loved these guys ever since I moved to JP in December, but I wanted to call out their ever-so-thoughtful approach to reopening in the wake of COVID-19. They renovated their space to make room for an employee entrance, a pick-up window, and an order-in window. And they closed down for two weeks to make sure they could do it right. Staff always have PPE and undergo temperature checks when they come in. \n",
      "\n",
      "It is awesome to see a business take care of its own this way. In addition to their excellent food (Evergreen Avocado Toast, anyone?), their commitment to the health and safety of their staff & customers is truly admirable.                                     |1     |\n",
      "|4.5  |Found this spot on Yelp and decided to give it a try. And I'm glad I did. I ordered the fish and chips, a burger AND avocado toast. All tasted nothing short of amazing. (Not to mention the little cute drawings on the boxes!) Will definitely be returning!                                                                                                                                                                                                                                                                                                                                                                                                                                 |1     |\n",
      "|4.5  |Where to even begin! Let's start at the top.. this is by far the best breakfast joint in JP.. fantastic coffee, perfect eggs (not greasy), delicious treats, to die for cornbeef hash, crisp bacon, amazing sourdough toast.. my husband must have had a blt for lunch every day for a month last year.. now we can't stop getting their fish sandwiches. all of that and they have the best avocado toast on the east coast, seriously, san diego worthy.. it's a clean beautiful space, the outside patio is lovely and a wonderful place to eat outside. They have been on top of takeout, the toast app is fantastically easy to use. I must say this has become my go to restaurant in JP!|1     |\n",
      "|4.5  |I love this place so much ! They have PARKING !!! \n",
      "The food tastes so farm to table. The coffee is wicked strong and good. I always get the pork belly bcuz it's done superbly ... the double smashed burger so good \n",
      "The fries are crispy and the service is always friendly and genuine. \n",
      "Asia is my fav she welcomes every one with a big smile ......                                                                                                                                                                                                                                                                                                                                      |1     |\n",
      "+-----+-----------------------------------------------------------------------------------------------------------------------------------------------------------------------------------------------------------------------------------------------------------------------------------------------------------------------------------------------------------------------------------------------------------------------------------------------------------------------------------------------------------------------------------------------------------------------------------------------------------------------------------------------------------------------------------------------+------+\n",
      "only showing top 5 rows\n",
      "\n"
     ]
    }
   ],
   "source": [
    "reviews_labeled = business_reviews_cols.withColumn(\"Target\", label_stars(\"stars\"))\n",
    "reviews_labeled.show(5,truncate=False)"
   ]
  },
  {
   "cell_type": "markdown",
   "metadata": {},
   "source": [
    "### Cleaning Reviews"
   ]
  },
  {
   "cell_type": "code",
   "execution_count": 62,
   "metadata": {},
   "outputs": [],
   "source": [
    "reviews_labeled = reviews_labeled.select('stars','Target','text',remove('text').\\\n",
    "            alias('text_cleaned'))"
   ]
  },
  {
   "cell_type": "code",
   "execution_count": 63,
   "metadata": {},
   "outputs": [],
   "source": [
    "reviews_labeled = reviews_labeled.withColumn(\"remove_extra\",stringsplit(reviews_labeled[\"text_cleaned\"]))"
   ]
  },
  {
   "cell_type": "code",
   "execution_count": 64,
   "metadata": {},
   "outputs": [],
   "source": [
    "reviews_labeled=reviews_labeled.withColumn(\"pos_tagging\", pos_tagged(\"remove_extra\"))"
   ]
  },
  {
   "cell_type": "code",
   "execution_count": 65,
   "metadata": {},
   "outputs": [],
   "source": [
    "reviews_labeled=reviews_labeled.select(\"stars\",\"text\",'Target','pos_tagging')"
   ]
  },
  {
   "cell_type": "markdown",
   "metadata": {},
   "source": [
    "### Tokenization"
   ]
  },
  {
   "cell_type": "code",
   "execution_count": 66,
   "metadata": {},
   "outputs": [],
   "source": [
    "tokenizer = Tokenizer(inputCol=\"pos_tagging\", outputCol=\"words\")\n",
    "wordsDataFrame = tokenizer.transform(reviews_labeled)"
   ]
  },
  {
   "cell_type": "markdown",
   "metadata": {},
   "source": [
    "### Stop words remover"
   ]
  },
  {
   "cell_type": "code",
   "execution_count": 67,
   "metadata": {},
   "outputs": [],
   "source": [
    "remover = StopWordsRemover(inputCol=\"words\", outputCol=\"filtered\")\n",
    "wordsDataFrameUpdated = remover.transform(wordsDataFrame).select(\"text\",\"Target\",\"filtered\")"
   ]
  },
  {
   "cell_type": "code",
   "execution_count": 68,
   "metadata": {},
   "outputs": [],
   "source": [
    "join_udf = udf(lambda x: \" \".join(x))\n",
    "pre_lemmatize=wordsDataFrameUpdated.withColumn(\"filtered_combined\", join_udf(col(\"filtered\")))"
   ]
  },
  {
   "cell_type": "markdown",
   "metadata": {},
   "source": [
    "### Lemmatization"
   ]
  },
  {
   "cell_type": "code",
   "execution_count": 69,
   "metadata": {},
   "outputs": [],
   "source": [
    "lemmatized=pre_lemmatize.withColumn(\"lemmatized\",lemmatization(\"filtered_combined\")).select('text','lemmatized','Target')"
   ]
  },
  {
   "cell_type": "code",
   "execution_count": 70,
   "metadata": {},
   "outputs": [],
   "source": [
    "model_data=lemmatized.select(\"lemmatized\",'Target')"
   ]
  },
  {
   "cell_type": "markdown",
   "metadata": {},
   "source": [
    "### Model Preparation: Train and Test Split"
   ]
  },
  {
   "cell_type": "code",
   "execution_count": 71,
   "metadata": {},
   "outputs": [],
   "source": [
    "train_df, test_df = model_data.randomSplit([.7,.3],seed=1234)"
   ]
  },
  {
   "cell_type": "code",
   "execution_count": 72,
   "metadata": {},
   "outputs": [],
   "source": [
    "train_df = train_df.withColumn(\"Target\", train_df[\"Target\"].cast(IntegerType()))\n",
    "test_df = test_df.withColumn(\"Target\", test_df[\"Target\"].cast(IntegerType()))"
   ]
  },
  {
   "cell_type": "markdown",
   "metadata": {},
   "source": [
    "### Hashing NLP"
   ]
  },
  {
   "cell_type": "code",
   "execution_count": 73,
   "metadata": {},
   "outputs": [],
   "source": [
    "tokenizer = Tokenizer(inputCol=\"lemmatized\", outputCol=\"words\")\n",
    "hashingTF = HashingTF(inputCol=tokenizer.getOutputCol(), outputCol=\"hashing\")\n",
    "idf = IDF(inputCol=hashingTF.getOutputCol(), outputCol=\"features\")"
   ]
  },
  {
   "cell_type": "markdown",
   "metadata": {},
   "source": [
    "### Model: Logistic Regression"
   ]
  },
  {
   "cell_type": "code",
   "execution_count": 74,
   "metadata": {},
   "outputs": [],
   "source": [
    "logreg = LogisticRegression(maxIter=10, regParam=0.01,labelCol=\"Target\",predictionCol=\"prediction\")\n",
    "pipeline = Pipeline(stages=[tokenizer, hashingTF, idf, logreg])\n",
    "model = pipeline.fit(train_df)"
   ]
  },
  {
   "cell_type": "code",
   "execution_count": 75,
   "metadata": {},
   "outputs": [],
   "source": [
    "prediction = model.transform(test_df)"
   ]
  },
  {
   "cell_type": "code",
   "execution_count": 76,
   "metadata": {},
   "outputs": [
    {
     "name": "stdout",
     "output_type": "stream",
     "text": [
      "+------+----------+\n",
      "|Target|prediction|\n",
      "+------+----------+\n",
      "|1     |1.0       |\n",
      "|1     |1.0       |\n",
      "|1     |1.0       |\n",
      "|1     |1.0       |\n",
      "|1     |1.0       |\n",
      "|1     |1.0       |\n",
      "|1     |1.0       |\n",
      "|1     |1.0       |\n",
      "|1     |1.0       |\n",
      "|1     |1.0       |\n",
      "+------+----------+\n",
      "only showing top 10 rows\n",
      "\n"
     ]
    }
   ],
   "source": [
    "prediction.select(\"Target\", \"prediction\").show(10,False)"
   ]
  },
  {
   "cell_type": "code",
   "execution_count": 77,
   "metadata": {},
   "outputs": [
    {
     "data": {
      "text/plain": [
       "0.9154304935982607"
      ]
     },
     "execution_count": 77,
     "metadata": {},
     "output_type": "execute_result"
    }
   ],
   "source": [
    "evaluator = MulticlassClassificationEvaluator(labelCol='Target',predictionCol=\"prediction\")\n",
    "evaluator.evaluate(prediction)"
   ]
  },
  {
   "cell_type": "markdown",
   "metadata": {},
   "source": [
    "### Model: Naive Bayes Model"
   ]
  },
  {
   "cell_type": "code",
   "execution_count": 78,
   "metadata": {},
   "outputs": [],
   "source": [
    "nb = NaiveBayes(smoothing=1.0, modelType=\"multinomial\",labelCol=\"Target\")\n",
    "pipeline_nb = Pipeline(stages=[tokenizer, hashingTF, idf, nb])\n",
    "model_nb = pipeline_nb.fit(train_df)"
   ]
  },
  {
   "cell_type": "code",
   "execution_count": 79,
   "metadata": {},
   "outputs": [],
   "source": [
    "prediction_nb = model_nb.transform(test_df)"
   ]
  },
  {
   "cell_type": "code",
   "execution_count": 80,
   "metadata": {},
   "outputs": [
    {
     "data": {
      "text/plain": [
       "0.8575762093318139"
      ]
     },
     "execution_count": 80,
     "metadata": {},
     "output_type": "execute_result"
    }
   ],
   "source": [
    "evaluator_nb = MulticlassClassificationEvaluator(labelCol='Target',predictionCol=\"prediction\")\n",
    "evaluator_nb.evaluate(prediction_nb)"
   ]
  },
  {
   "cell_type": "markdown",
   "metadata": {},
   "source": [
    "### Visual Prep"
   ]
  },
  {
   "cell_type": "code",
   "execution_count": 81,
   "metadata": {},
   "outputs": [],
   "source": [
    "pos=model_data.filter(model_data.Target=='1')\n",
    "neg=model_data.filter(model_data.Target=='0')"
   ]
  },
  {
   "cell_type": "code",
   "execution_count": 82,
   "metadata": {},
   "outputs": [],
   "source": [
    "positive_words = pos.select('Target', stringsplit('lemmatized').alias('words')).withColumn('word', explode('words'))"
   ]
  },
  {
   "cell_type": "code",
   "execution_count": 83,
   "metadata": {},
   "outputs": [],
   "source": [
    "negative_words = neg.select('Target', stringsplit('lemmatized').alias('words')).withColumn('word', explode('words'))"
   ]
  },
  {
   "cell_type": "code",
   "execution_count": 84,
   "metadata": {},
   "outputs": [],
   "source": [
    "pos_words_count = positive_words.groupby('word').agg(F.count('Target').alias('word_count')).orderBy('word_count', ascending=False)"
   ]
  },
  {
   "cell_type": "code",
   "execution_count": 85,
   "metadata": {},
   "outputs": [],
   "source": [
    "neg_words_count = negative_words.groupby('word').agg(F.count('Target').alias('word_count')).orderBy('word_count', ascending=False)"
   ]
  },
  {
   "cell_type": "code",
   "execution_count": 86,
   "metadata": {},
   "outputs": [],
   "source": [
    "pos_words=pos_words_count.limit(100).toPandas()"
   ]
  },
  {
   "cell_type": "code",
   "execution_count": 87,
   "metadata": {},
   "outputs": [],
   "source": [
    "neg_words=neg_words_count.limit(100).toPandas()"
   ]
  },
  {
   "cell_type": "code",
   "execution_count": 88,
   "metadata": {},
   "outputs": [],
   "source": [
    "columns_titles = [\"word_count\",\"word\"]\n",
    "pos_words=pos_words.reindex(columns=columns_titles)"
   ]
  },
  {
   "cell_type": "code",
   "execution_count": 89,
   "metadata": {},
   "outputs": [],
   "source": [
    "import numpy as np"
   ]
  },
  {
   "cell_type": "code",
   "execution_count": 90,
   "metadata": {},
   "outputs": [],
   "source": [
    "pos_words['word_count']=(pos_words['word_count']/100).astype(np.int64)"
   ]
  },
  {
   "cell_type": "code",
   "execution_count": 91,
   "metadata": {},
   "outputs": [],
   "source": [
    "neg_words=neg_words.reindex(columns=columns_titles)"
   ]
  },
  {
   "cell_type": "code",
   "execution_count": 92,
   "metadata": {},
   "outputs": [],
   "source": [
    "neg_words['word_count']=(neg_words['word_count']/100).astype(np.int64)"
   ]
  },
  {
   "cell_type": "code",
   "execution_count": 93,
   "metadata": {},
   "outputs": [],
   "source": [
    "pos_words.to_csv(\"pos_words_large.csv\",index=False,header=True)"
   ]
  },
  {
   "cell_type": "code",
   "execution_count": 94,
   "metadata": {},
   "outputs": [],
   "source": [
    "neg_words.to_csv(\"neg_words_large.csv\",index=False,header=True)"
   ]
  },
  {
   "cell_type": "markdown",
   "metadata": {},
   "source": [
    "## Topic Modeling"
   ]
  },
  {
   "cell_type": "code",
   "execution_count": 34,
   "metadata": {},
   "outputs": [],
   "source": [
    "review_business_loc = review.select('business_id', 'user_id',\"text\",'stars')\n",
    "business_loc = business.select('business_id', 'city',\"state\",\"categories\")\n",
    "business_reviews_loc = review_business_loc.join(business_loc, [\"business_id\"], 'left')"
   ]
  },
  {
   "cell_type": "code",
   "execution_count": 35,
   "metadata": {},
   "outputs": [
    {
     "name": "stdout",
     "output_type": "stream",
     "text": [
      "+--------------------+--------------------+--------------------+-----+-----------------+-----+--------------------+\n",
      "|         business_id|             user_id|                text|stars|             city|state|          categories|\n",
      "+--------------------+--------------------+--------------------+-----+-----------------+-----+--------------------+\n",
      "|buF9druCkbuXLX526...|ak0TdVmGKo4pwqdJS...|Apparently Prides...|  4.0|          Beverly|   MA|Restaurants, Wine...|\n",
      "|RA4V8pr014UyUbDvI...|YoVfDbnISlW0f7abN...|This store is pre...|  4.0|       Framingham|   MA|Department Stores...|\n",
      "|_sS2LBIGNT5NQb6PD...|eC5evKn1TWDyHCyQA...|I called WVM on t...|  5.0|         Portland|   OR|Home Services, Pa...|\n",
      "|0AzLzHfOJgL7ROwhd...|SFQ1jcnGguO0LYWnb...|I've stayed at ma...|  2.0|          Orlando|   FL|Hotels, Hotels & ...|\n",
      "|8zehGz9jnxPqXtOc7...|0kA0PAJ8QFMeveQWH...|The food is alway...|  4.0|          Boulder|   CO| Restaurants, French|\n",
      "|xGXzsc-hzam-VArK6...|RNm_RWkcd02Li2mKP...|This place used t...|  1.0|       Somerville|   MA|Restaurants, Bars...|\n",
      "|EXOsmAB1s71WePlQk...|Q8c91v7luItVB0cMF...|The setting is pe...|  2.0|           Boston|   MA|         Restaurants|\n",
      "|DbXHNl890xSXNiyRc...|XGkAG92TQ3MQUKGX9...|Probably one of t...|  5.0|      Winter Park|   FL|Butcher, Brazilia...|\n",
      "|mD-A9KOWADXvfrZfw...|LWUnzwK0ILquLLZcH...|I am definitely a...|  4.0|Altamonte Springs|   FL|Outdoor Gear, Spo...|\n",
      "|EEHhKSxUvJkoPSzeG...|99RsBrARhhx60UnAC...|I work in the Pru...|  5.0|           Boston|   MA|Sandwiches, Seafo...|\n",
      "+--------------------+--------------------+--------------------+-----+-----------------+-----+--------------------+\n",
      "only showing top 10 rows\n",
      "\n"
     ]
    }
   ],
   "source": [
    "business_reviews_loc.show(10)"
   ]
  },
  {
   "cell_type": "code",
   "execution_count": 36,
   "metadata": {},
   "outputs": [
    {
     "data": {
      "text/plain": [
       "8635403"
      ]
     },
     "execution_count": 36,
     "metadata": {},
     "output_type": "execute_result"
    }
   ],
   "source": [
    "business_reviews_loc.count()"
   ]
  },
  {
   "cell_type": "markdown",
   "metadata": {},
   "source": [
    "#### Filter for Boston Restaurants"
   ]
  },
  {
   "cell_type": "code",
   "execution_count": 37,
   "metadata": {},
   "outputs": [
    {
     "data": {
      "text/plain": [
       "1378952"
      ]
     },
     "execution_count": 37,
     "metadata": {},
     "output_type": "execute_result"
    }
   ],
   "source": [
    "df = business_reviews_loc.filter(business_reviews_loc.categories.like(\"Restaurant%\"))\n",
    "df.count()"
   ]
  },
  {
   "cell_type": "code",
   "execution_count": 38,
   "metadata": {},
   "outputs": [
    {
     "data": {
      "text/plain": [
       "132168"
      ]
     },
     "execution_count": 38,
     "metadata": {},
     "output_type": "execute_result"
    }
   ],
   "source": [
    "df = df.filter(business_reviews_loc.city ==\"Boston\")\n",
    "df.count()"
   ]
  },
  {
   "cell_type": "code",
   "execution_count": 39,
   "metadata": {},
   "outputs": [
    {
     "data": {
      "text/plain": [
       "43152"
      ]
     },
     "execution_count": 39,
     "metadata": {},
     "output_type": "execute_result"
    }
   ],
   "source": [
    "df_positive = df.filter(df.stars == 5).select(\"text\")\n",
    "df_positive.count()"
   ]
  },
  {
   "cell_type": "code",
   "execution_count": 40,
   "metadata": {},
   "outputs": [
    {
     "data": {
      "text/plain": [
       "14732"
      ]
     },
     "execution_count": 40,
     "metadata": {},
     "output_type": "execute_result"
    }
   ],
   "source": [
    "df_negative = df.filter(df.stars == 1).select(\"text\")\n",
    "df_negative.count()"
   ]
  },
  {
   "cell_type": "code",
   "execution_count": 41,
   "metadata": {},
   "outputs": [
    {
     "name": "stdout",
     "output_type": "stream",
     "text": [
      "+--------------------+\n",
      "|                text|\n",
      "+--------------------+\n",
      "|Over the years, I...|\n",
      "|Wouldn't let some...|\n",
      "|Review is for foo...|\n",
      "|We ordered after ...|\n",
      "|Rating take-out. ...|\n",
      "|This was a really...|\n",
      "|Go to Starbucks i...|\n",
      "|Insofar as this i...|\n",
      "|I wish I had the ...|\n",
      "|This place should...|\n",
      "|Pizza/experience ...|\n",
      "|We went for after...|\n",
      "|I just ordered on...|\n",
      "|Had takeout last ...|\n",
      "|Overrated pizza. ...|\n",
      "|Was here this pas...|\n",
      "|I end up ordering...|\n",
      "|I went there last...|\n",
      "|My girlfriend and...|\n",
      "|This is the most ...|\n",
      "+--------------------+\n",
      "only showing top 20 rows\n",
      "\n"
     ]
    }
   ],
   "source": [
    "df_negative.show()"
   ]
  },
  {
   "cell_type": "markdown",
   "metadata": {},
   "source": [
    "### Topic Modeling - negative reviews"
   ]
  },
  {
   "cell_type": "code",
   "execution_count": 42,
   "metadata": {},
   "outputs": [
    {
     "name": "stdout",
     "output_type": "stream",
     "text": [
      "+--------------------+--------------------+\n",
      "|                text|               words|\n",
      "+--------------------+--------------------+\n",
      "|Over the years, I...|[over, the, years...|\n",
      "|Wouldn't let some...|[wouldn't, let, s...|\n",
      "|Review is for foo...|[review, is, for,...|\n",
      "|We ordered after ...|[we, ordered, aft...|\n",
      "|Rating take-out. ...|[rating, take-out...|\n",
      "+--------------------+--------------------+\n",
      "only showing top 5 rows\n",
      "\n"
     ]
    }
   ],
   "source": [
    "from pyspark.ml.feature import Tokenizer\n",
    "\n",
    "#tokenize words\n",
    "tokenizer = Tokenizer(inputCol=\"text\", outputCol=\"words\")\n",
    "df_negative = tokenizer.transform(df_negative)\n",
    "\n",
    "#drop the redundant source column\n",
    "df_negative.show(5)"
   ]
  },
  {
   "cell_type": "code",
   "execution_count": 43,
   "metadata": {},
   "outputs": [
    {
     "name": "stdout",
     "output_type": "stream",
     "text": [
      "+--------------------+--------------------+\n",
      "|                text|            filtered|\n",
      "+--------------------+--------------------+\n",
      "|Over the years, I...|[years,, burger, ...|\n",
      "|Wouldn't let some...|[let, someone, gr...|\n",
      "|Review is for foo...|[review, food, on...|\n",
      "|We ordered after ...|[ordered, seeing,...|\n",
      "|Rating take-out. ...|[rating, take-out...|\n",
      "+--------------------+--------------------+\n",
      "only showing top 5 rows\n",
      "\n"
     ]
    }
   ],
   "source": [
    "from pyspark.ml.feature import StopWordsRemover\n",
    "\n",
    "#remove stop words\n",
    "remover = StopWordsRemover(inputCol=\"words\", outputCol=\"filtered\")\n",
    "df_negative = remover.transform(df_negative)\n",
    "\n",
    "#drop the redundant source column\n",
    "df_negative= df_negative.drop(\"words\")\n",
    "df_negative.show(5)"
   ]
  },
  {
   "cell_type": "code",
   "execution_count": 44,
   "metadata": {},
   "outputs": [
    {
     "name": "stdout",
     "output_type": "stream",
     "text": [
      "+--------------------+--------------------+--------------------+\n",
      "|                text|            filtered|            features|\n",
      "+--------------------+--------------------+--------------------+\n",
      "|Over the years, I...|[years,, burger, ...|(70685,[0,3,9,11,...|\n",
      "|Wouldn't let some...|[let, someone, gr...|(70685,[119,125,2...|\n",
      "|Review is for foo...|[review, food, on...|(70685,[0,1,2,6,9...|\n",
      "|We ordered after ...|[ordered, seeing,...|(70685,[1,5,8,13,...|\n",
      "|Rating take-out. ...|[rating, take-out...|(70685,[4,8,14,34...|\n",
      "+--------------------+--------------------+--------------------+\n",
      "only showing top 5 rows\n",
      "\n"
     ]
    }
   ],
   "source": [
    "from pyspark.ml.feature import CountVectorizer\n",
    "Vector = CountVectorizer(inputCol=\"filtered\", outputCol=\"features\")\n",
    "model = Vector.fit(df_negative)\n",
    "result = model.transform(df_negative)\n",
    "result.show(5)"
   ]
  },
  {
   "cell_type": "code",
   "execution_count": 45,
   "metadata": {},
   "outputs": [
    {
     "data": {
      "text/plain": [
       "['',\n",
       " 'food',\n",
       " 'place',\n",
       " 'us',\n",
       " 'like',\n",
       " 'one',\n",
       " 'get',\n",
       " 'even',\n",
       " 'ordered',\n",
       " 'never',\n",
       " 'service',\n",
       " 'go',\n",
       " 'came',\n",
       " 'got',\n",
       " 'order',\n",
       " 'back',\n",
       " 'time',\n",
       " 'restaurant',\n",
       " 'asked',\n",
       " 'good',\n",
       " 'said',\n",
       " 'minutes',\n",
       " 'told',\n",
       " '-',\n",
       " 'went',\n",
       " 'people',\n",
       " 'table',\n",
       " 'really',\n",
       " 'waitress',\n",
       " 'come',\n",
       " 'it.',\n",
       " 'took',\n",
       " 'first',\n",
       " 'bad',\n",
       " 'two',\n",
       " 'going',\n",
       " 'another',\n",
       " 'give',\n",
       " 'chicken',\n",
       " 'know',\n",
       " 'ever',\n",
       " 'make',\n",
       " 'worst',\n",
       " 'want',\n",
       " 'also',\n",
       " 'take',\n",
       " 'eat',\n",
       " 'made',\n",
       " 'wait',\n",
       " 'better',\n",
       " 'still',\n",
       " 'much',\n",
       " 'experience',\n",
       " 'way',\n",
       " 'manager',\n",
       " 'bar',\n",
       " 'food.',\n",
       " 'pizza',\n",
       " 'staff',\n",
       " 'waiter',\n",
       " '2',\n",
       " 'around',\n",
       " 'server',\n",
       " 'wanted',\n",
       " 'think',\n",
       " 'say',\n",
       " 'left',\n",
       " 'last',\n",
       " 'waiting',\n",
       " 'called',\n",
       " 'great',\n",
       " 'ask',\n",
       " 'since',\n",
       " 'friend',\n",
       " 'tasted',\n",
       " 'customer',\n",
       " 'next',\n",
       " 'rude',\n",
       " 'menu',\n",
       " 'service.',\n",
       " 'waited',\n",
       " 'long',\n",
       " 'night',\n",
       " 'put',\n",
       " 'see',\n",
       " 'drinks',\n",
       " 'boston',\n",
       " 'half',\n",
       " 'something',\n",
       " 'walked',\n",
       " 'try',\n",
       " 'nothing',\n",
       " 'place.',\n",
       " 'hour',\n",
       " 'meal',\n",
       " 'pretty',\n",
       " 'sure',\n",
       " 'many',\n",
       " 'right',\n",
       " 'finally',\n",
       " 'again.',\n",
       " 'gave',\n",
       " 'here.',\n",
       " 'decided',\n",
       " 'drink',\n",
       " 'back.',\n",
       " 'looked',\n",
       " '3',\n",
       " 'actually',\n",
       " 'little',\n",
       " 'tried',\n",
       " 'friends',\n",
       " 'money',\n",
       " 'check',\n",
       " 'terrible',\n",
       " 'dinner',\n",
       " 'cheese',\n",
       " 'sauce',\n",
       " '10',\n",
       " 'let',\n",
       " 'sat',\n",
       " 'new',\n",
       " 'tell',\n",
       " 'times',\n",
       " 'taste',\n",
       " 'someone',\n",
       " 'us.',\n",
       " 'small',\n",
       " 'nice',\n",
       " 'worth',\n",
       " 'thought',\n",
       " 'pay',\n",
       " 'without',\n",
       " 'well',\n",
       " 'maybe',\n",
       " 'party',\n",
       " 'thing',\n",
       " 'eating',\n",
       " 'cold',\n",
       " '5',\n",
       " 'least',\n",
       " 'food,',\n",
       " 'brought',\n",
       " 'served',\n",
       " 'end',\n",
       " 'tables',\n",
       " 'seated',\n",
       " 'quality',\n",
       " 'water',\n",
       " 'extremely',\n",
       " 'away',\n",
       " 'find',\n",
       " 'tip',\n",
       " 'looking',\n",
       " 'dish',\n",
       " 'call',\n",
       " 'recommend',\n",
       " 'salad',\n",
       " '20',\n",
       " 'horrible',\n",
       " 'bread',\n",
       " 'almost',\n",
       " 'bill',\n",
       " 'coming',\n",
       " 'though',\n",
       " 'good.',\n",
       " 'definitely',\n",
       " 'anything',\n",
       " 'restaurant.',\n",
       " 'fried',\n",
       " 'seemed',\n",
       " 'time.',\n",
       " 'hostess',\n",
       " 'order.',\n",
       " 'there.',\n",
       " 'lobster',\n",
       " 'lunch',\n",
       " 'guy',\n",
       " 'me.',\n",
       " 'need',\n",
       " '&',\n",
       " 'person',\n",
       " 'trying',\n",
       " 'every',\n",
       " 'day',\n",
       " 'completely',\n",
       " 'customers',\n",
       " 'everything',\n",
       " 'getting',\n",
       " 'saw',\n",
       " 'later',\n",
       " 'front',\n",
       " 'look',\n",
       " 'top',\n",
       " '15',\n",
       " 'three',\n",
       " 'poor',\n",
       " '4',\n",
       " 'paid',\n",
       " 'felt',\n",
       " 'always',\n",
       " 'sit',\n",
       " 'arrived',\n",
       " 'used',\n",
       " 'review',\n",
       " 'steak',\n",
       " 'probably',\n",
       " 'out.',\n",
       " 'feel',\n",
       " 'sandwich',\n",
       " 'else',\n",
       " 'enough',\n",
       " 'leave',\n",
       " 'delivery',\n",
       " 'sitting',\n",
       " 'business',\n",
       " 'wrong',\n",
       " '1',\n",
       " 'group',\n",
       " 'fish',\n",
       " 'it,',\n",
       " 'line',\n",
       " 'point',\n",
       " 'hot',\n",
       " 'things',\n",
       " 'star',\n",
       " 'reservation',\n",
       " 'seafood',\n",
       " 'best',\n",
       " 'rice',\n",
       " 'instead',\n",
       " 'open',\n",
       " 'restaurants',\n",
       " 'absolutely',\n",
       " 'dining',\n",
       " 'bartender',\n",
       " 'however,',\n",
       " 'hard',\n",
       " 'table.',\n",
       " 'already',\n",
       " 'big',\n",
       " 'disappointed',\n",
       " 'couple',\n",
       " 'experience.',\n",
       " 'places',\n",
       " 'work',\n",
       " 'literally',\n",
       " 'second',\n",
       " 'outside',\n",
       " 'given',\n",
       " 'old',\n",
       " 'found',\n",
       " 'price',\n",
       " 'plate',\n",
       " 'whole',\n",
       " 'started',\n",
       " '30',\n",
       " 'meat',\n",
       " 'cooked',\n",
       " 'care',\n",
       " 'kitchen',\n",
       " 'understand',\n",
       " 'entire',\n",
       " 'location',\n",
       " 'burger',\n",
       " 'saying',\n",
       " 'all.',\n",
       " 'reviews',\n",
       " 'kind',\n",
       " '.',\n",
       " 'full',\n",
       " 'hours',\n",
       " 'love',\n",
       " 'side',\n",
       " 'waste',\n",
       " 'walk',\n",
       " 'card',\n",
       " 'charged',\n",
       " 'received',\n",
       " 'different',\n",
       " 'clearly',\n",
       " 'phone',\n",
       " 'empty',\n",
       " 'everyone',\n",
       " 'ordering',\n",
       " 'soup',\n",
       " 'less',\n",
       " 'ended',\n",
       " 'fries',\n",
       " 'beer',\n",
       " 'lot',\n",
       " 'comes',\n",
       " 'serve',\n",
       " 'busy',\n",
       " 'making',\n",
       " 'pasta',\n",
       " 'bring',\n",
       " 'room',\n",
       " 'large',\n",
       " 'several',\n",
       " 'stay',\n",
       " 'charge',\n",
       " 'wine',\n",
       " 'minutes.',\n",
       " 'door',\n",
       " 'high',\n",
       " 'years',\n",
       " 'bit',\n",
       " 'name',\n",
       " 'part',\n",
       " 'quite',\n",
       " 'ate',\n",
       " 'owner',\n",
       " 'anyone',\n",
       " 'good,',\n",
       " 'fact',\n",
       " 'area',\n",
       " 'them.',\n",
       " 'up.',\n",
       " 'dishes',\n",
       " 'husband',\n",
       " 'service,',\n",
       " 'super',\n",
       " 'behind',\n",
       " 'asking',\n",
       " 'bad.',\n",
       " 'shrimp',\n",
       " 'night.',\n",
       " 'reason',\n",
       " 'inside',\n",
       " 'extra',\n",
       " 'rather',\n",
       " 'guess',\n",
       " 'awful',\n",
       " 'terrible.',\n",
       " 'coffee',\n",
       " 'street',\n",
       " 'meal.',\n",
       " 'barely',\n",
       " 'fresh',\n",
       " 'mediocre',\n",
       " 'close',\n",
       " 'north',\n",
       " 'use',\n",
       " 'far',\n",
       " 'credit',\n",
       " 'past',\n",
       " 'please',\n",
       " 'italian',\n",
       " 'taking',\n",
       " 'done',\n",
       " 'dry',\n",
       " 'kept',\n",
       " 'boston.',\n",
       " 'must',\n",
       " 'yelp',\n",
       " 'home',\n",
       " 'attitude',\n",
       " 'orders',\n",
       " 'again,',\n",
       " 'avoid',\n",
       " 'time,',\n",
       " 'ok',\n",
       " 'away.',\n",
       " 'start',\n",
       " 'chinese',\n",
       " 'beef',\n",
       " 'believe',\n",
       " 'might',\n",
       " 'heard',\n",
       " 'especially',\n",
       " 'us,',\n",
       " 'family',\n",
       " 'man',\n",
       " 'bland',\n",
       " 'pieces',\n",
       " 'needed',\n",
       " 'glass',\n",
       " 'rest',\n",
       " 'today',\n",
       " 'late',\n",
       " 'menu.',\n",
       " 'may',\n",
       " 'awful.',\n",
       " 'expect',\n",
       " 'counter',\n",
       " 'flavor',\n",
       " 'woman',\n",
       " 'boyfriend',\n",
       " '45',\n",
       " 'decent',\n",
       " 'in.',\n",
       " 'stars',\n",
       " 'free',\n",
       " 'paying',\n",
       " 'keep',\n",
       " 'usually',\n",
       " 'piece',\n",
       " 'huge',\n",
       " 'order,',\n",
       " 'speak',\n",
       " '6',\n",
       " 'that.',\n",
       " 'totally',\n",
       " 'turned',\n",
       " 'pork',\n",
       " 'host',\n",
       " 'either',\n",
       " 'offered',\n",
       " 'disappointed.',\n",
       " 'dirty',\n",
       " 'able',\n",
       " 'says',\n",
       " 'wish',\n",
       " 'seat',\n",
       " 'pick',\n",
       " 'saturday',\n",
       " 'worse',\n",
       " 'me,',\n",
       " 'seems',\n",
       " 'write',\n",
       " 'gone',\n",
       " 'due',\n",
       " 'slow',\n",
       " 'looks',\n",
       " 'across',\n",
       " 'giving',\n",
       " 'chocolate',\n",
       " 'place,',\n",
       " 'change',\n",
       " 'simply',\n",
       " 'rude.',\n",
       " 'prices',\n",
       " 'fine',\n",
       " 'wife',\n",
       " 'cut',\n",
       " 'frozen',\n",
       " ',',\n",
       " 'overpriced',\n",
       " '--',\n",
       " 'walking',\n",
       " 'showed',\n",
       " 'left.',\n",
       " 'special',\n",
       " 'had.',\n",
       " 'supposed',\n",
       " 'placed',\n",
       " 'amount',\n",
       " 'thai',\n",
       " 'hope',\n",
       " 'ready',\n",
       " 'management',\n",
       " 'seem',\n",
       " 'hotel',\n",
       " 'bar.',\n",
       " 'working',\n",
       " 'ice',\n",
       " 'save',\n",
       " 'forgot',\n",
       " 'immediately',\n",
       " 'unless',\n",
       " 'yet',\n",
       " 'lady',\n",
       " 'horrible.',\n",
       " 'somewhere',\n",
       " 'basically',\n",
       " 'table,',\n",
       " 'offer',\n",
       " 'mins',\n",
       " 'dessert',\n",
       " 'problem',\n",
       " 'zero',\n",
       " 'visit',\n",
       " 'week',\n",
       " 'noticed',\n",
       " 'well.',\n",
       " 'pizza.',\n",
       " 'excited',\n",
       " 'treated',\n",
       " 'real',\n",
       " 'return',\n",
       " 'serving',\n",
       " 'here,',\n",
       " 'better.',\n",
       " 'expensive',\n",
       " 'white',\n",
       " 'spent',\n",
       " 'servers',\n",
       " 'bowl',\n",
       " 'breakfast',\n",
       " 'guys',\n",
       " 'mind',\n",
       " 'sent',\n",
       " 'twice',\n",
       " 'show',\n",
       " 'add',\n",
       " 'makes',\n",
       " 'girl',\n",
       " 'happened',\n",
       " 'cold.',\n",
       " 'dinner.',\n",
       " 'four',\n",
       " 'run',\n",
       " 'well,',\n",
       " 'stopped',\n",
       " 'stop',\n",
       " 'help',\n",
       " 'restaurant,',\n",
       " 'red',\n",
       " 'cream',\n",
       " 'disappointing',\n",
       " 'five',\n",
       " 'near',\n",
       " 'appetizer',\n",
       " 'chowder',\n",
       " 'spend',\n",
       " 'refused',\n",
       " 'all,',\n",
       " 'total',\n",
       " 'oh',\n",
       " 'out,',\n",
       " 'you.',\n",
       " 'spicy',\n",
       " 'ever.',\n",
       " 'enjoy',\n",
       " 'said,',\n",
       " 'however',\n",
       " 'there,',\n",
       " 'sushi',\n",
       " 'bill.',\n",
       " 'friendly',\n",
       " 'taken',\n",
       " 'knew',\n",
       " 'that,',\n",
       " 'else.',\n",
       " 'min',\n",
       " 'mean',\n",
       " 'also,',\n",
       " 'upon',\n",
       " 'lack',\n",
       " 'eaten',\n",
       " 'money.',\n",
       " 'down.',\n",
       " 'happy',\n",
       " 'live',\n",
       " 'roll',\n",
       " 'apparently',\n",
       " 'so,',\n",
       " 'although',\n",
       " 'sauce.',\n",
       " 'minute',\n",
       " 'clam',\n",
       " 'despite',\n",
       " 'incredibly',\n",
       " 'customers.',\n",
       " 'finished',\n",
       " 'seen',\n",
       " 'hungry',\n",
       " 'sorry',\n",
       " 'plates',\n",
       " 'honestly',\n",
       " 'drinks.',\n",
       " 'tiny',\n",
       " 'needs',\n",
       " 'read',\n",
       " 'checked',\n",
       " '(i',\n",
       " 'multiple',\n",
       " 'items',\n",
       " 'ok,',\n",
       " 'bite',\n",
       " 'meals',\n",
       " 'employees',\n",
       " 'crab',\n",
       " 'establishment',\n",
       " 'cash',\n",
       " 'overall',\n",
       " 'attention',\n",
       " 'one.',\n",
       " 'threw',\n",
       " 'course',\n",
       " '(which',\n",
       " 'obviously',\n",
       " 'talking',\n",
       " 'ignored',\n",
       " 'friday',\n",
       " 'dont',\n",
       " 'chef',\n",
       " 'talk',\n",
       " 'birthday',\n",
       " 'added',\n",
       " 'proceeded',\n",
       " 'water.',\n",
       " 'was.',\n",
       " 'options',\n",
       " 'minutes,',\n",
       " 'deal',\n",
       " 'short',\n",
       " 'oysters',\n",
       " 'sweet',\n",
       " 'wait.',\n",
       " 'french',\n",
       " 'quickly',\n",
       " 'noodles',\n",
       " 'longer',\n",
       " 'tea',\n",
       " 'based',\n",
       " 'finish',\n",
       " 'informed',\n",
       " 'standing',\n",
       " 'clear',\n",
       " 'disgusting',\n",
       " 'average',\n",
       " 'area.',\n",
       " 'day.',\n",
       " 'within',\n",
       " 'others',\n",
       " 'reservations',\n",
       " 'later,',\n",
       " 'cheap',\n",
       " 'leaving',\n",
       " '(and',\n",
       " 'flavor.',\n",
       " 'on.',\n",
       " 'days',\n",
       " 'south',\n",
       " 'back,',\n",
       " 'except',\n",
       " 'soggy',\n",
       " 'expected',\n",
       " 'in,',\n",
       " 'beyond',\n",
       " 'telling',\n",
       " 'single',\n",
       " 'cook',\n",
       " '8',\n",
       " 'idea',\n",
       " 'bother',\n",
       " 'bottom',\n",
       " 'this.',\n",
       " 'quick',\n",
       " 'main',\n",
       " 'house',\n",
       " 'cake',\n",
       " 'move',\n",
       " 'cup',\n",
       " 'cost',\n",
       " 'great.',\n",
       " 'size',\n",
       " 'set',\n",
       " 'thinking',\n",
       " 'black',\n",
       " 'soon',\n",
       " 'either.',\n",
       " 'raw',\n",
       " 'sad',\n",
       " 'stand',\n",
       " 'delivered',\n",
       " 'running',\n",
       " 'year',\n",
       " 'gets',\n",
       " 'needless',\n",
       " 'negative',\n",
       " 'waiters',\n",
       " 'simple',\n",
       " 'ok.',\n",
       " 'realized',\n",
       " 'mention',\n",
       " 'filled',\n",
       " 'sick',\n",
       " 'driver',\n",
       " 'unfortunately',\n",
       " 'off.',\n",
       " 'fast',\n",
       " 'type',\n",
       " 'game',\n",
       " 'price.',\n",
       " 'store',\n",
       " 'medium',\n",
       " 'disgusting.',\n",
       " 'gotten',\n",
       " 'salty',\n",
       " 'hair',\n",
       " 'okay',\n",
       " 'people.',\n",
       " 'ago',\n",
       " 'leave.',\n",
       " 'night,',\n",
       " 'number',\n",
       " 'wrong.',\n",
       " 'tip.',\n",
       " 'appetizers',\n",
       " 'wings',\n",
       " 'noodle',\n",
       " 'green',\n",
       " 'bottle',\n",
       " 'tastes',\n",
       " 'hand',\n",
       " 'forever',\n",
       " 'way.',\n",
       " 'low',\n",
       " 'too.',\n",
       " 'burnt',\n",
       " 'dollars',\n",
       " 'bar,',\n",
       " 'send',\n",
       " 'portion',\n",
       " 'mistake',\n",
       " 'bathroom',\n",
       " 'takes',\n",
       " 'hate',\n",
       " 'sub',\n",
       " 'sign',\n",
       " 'calamari',\n",
       " 'bad,',\n",
       " 'lost',\n",
       " 'explained',\n",
       " 'atmosphere',\n",
       " 'ramen',\n",
       " 'regular',\n",
       " 'returned',\n",
       " 'hear',\n",
       " 'tourist',\n",
       " 'music',\n",
       " '40',\n",
       " '7',\n",
       " 'say,',\n",
       " 'loud',\n",
       " 'grab',\n",
       " 'staff.',\n",
       " 'ordered.',\n",
       " 'plain',\n",
       " 'refund',\n",
       " 'business.',\n",
       " 'opened',\n",
       " 'buy',\n",
       " 'early',\n",
       " 'plenty',\n",
       " 'kids',\n",
       " 'spoke',\n",
       " 'burrito',\n",
       " 'bland.',\n",
       " 'plus',\n",
       " 'grilled',\n",
       " 'seating',\n",
       " 'scallops',\n",
       " 'warm',\n",
       " 'garlic',\n",
       " 'entrees',\n",
       " 'stood',\n",
       " 'not.',\n",
       " 'drink.',\n",
       " 'excuse',\n",
       " 'disappointing.',\n",
       " 'check.',\n",
       " 'tasteless',\n",
       " 'rude,',\n",
       " 'drinks,',\n",
       " 'sort',\n",
       " 'gross.',\n",
       " 'certainly',\n",
       " 'meal,',\n",
       " 'up,',\n",
       " 'list',\n",
       " 'none',\n",
       " 'end.',\n",
       " 'online',\n",
       " 'closed',\n",
       " 'clean',\n",
       " 'brunch',\n",
       " 'tips',\n",
       " 'delicious',\n",
       " 'sunday',\n",
       " 'bacon',\n",
       " 'cold,',\n",
       " 'oil',\n",
       " 'glasses',\n",
       " 'employee',\n",
       " 'salmon',\n",
       " 'turn',\n",
       " 'hands',\n",
       " 'remember',\n",
       " 'nearly',\n",
       " 'seriously',\n",
       " 'menu,',\n",
       " 'picked',\n",
       " 'treat',\n",
       " 'goes',\n",
       " 'dropped',\n",
       " 'eggs',\n",
       " 'cafe',\n",
       " 'considering',\n",
       " 'off,',\n",
       " 'slice',\n",
       " 'times.',\n",
       " 'best.',\n",
       " 'chance',\n",
       " 'to.',\n",
       " 'salt',\n",
       " 'pad',\n",
       " 'bartenders',\n",
       " 'entree',\n",
       " 'go.',\n",
       " 'egg',\n",
       " 'portions',\n",
       " 'young',\n",
       " '25',\n",
       " 'head',\n",
       " '0',\n",
       " 'issue',\n",
       " 'chips',\n",
       " 'anything.',\n",
       " 'ran',\n",
       " 'eat.',\n",
       " 'middle',\n",
       " 'overcooked',\n",
       " 'butter',\n",
       " 'life.',\n",
       " 'along',\n",
       " 'tonight',\n",
       " 'you,',\n",
       " 'thank',\n",
       " 'feeling',\n",
       " 'per',\n",
       " 'evening',\n",
       " 'chicken.',\n",
       " 'spot',\n",
       " '(the',\n",
       " '\"i',\n",
       " 'sour',\n",
       " 'mentioned',\n",
       " 'unfortunately,',\n",
       " 'manager,',\n",
       " 'mess',\n",
       " 'favorite',\n",
       " 'continued',\n",
       " 'perhaps',\n",
       " 'fine.',\n",
       " 'surprised',\n",
       " 'ten',\n",
       " 'disappointment.',\n",
       " 'dish.',\n",
       " 'location.',\n",
       " 'asian',\n",
       " 'salad.',\n",
       " 'slices',\n",
       " 'highly',\n",
       " 'expecting',\n",
       " 'anywhere',\n",
       " 'stomach',\n",
       " 'upset',\n",
       " 'tomato',\n",
       " 'great,',\n",
       " '20%',\n",
       " 'greasy',\n",
       " 'sandwich.',\n",
       " 'lunch.',\n",
       " 'boston,',\n",
       " 'dumplings',\n",
       " 'eye',\n",
       " '(',\n",
       " 'worked',\n",
       " 'mac',\n",
       " 'experiences',\n",
       " 'complete',\n",
       " 'response',\n",
       " 'amazing',\n",
       " 'girlfriend',\n",
       " 'figured',\n",
       " 'guests',\n",
       " 'greeted',\n",
       " 'this,',\n",
       " 'floor',\n",
       " 'matter',\n",
       " 'forward',\n",
       " 'apologized',\n",
       " 'weird',\n",
       " 'would.',\n",
       " 'waitresses',\n",
       " 'then,',\n",
       " 'throw',\n",
       " 'together',\n",
       " 'hoping',\n",
       " 'ahead',\n",
       " 'known',\n",
       " 'bought',\n",
       " 'tuna',\n",
       " 'broth',\n",
       " 'corner',\n",
       " 'town',\n",
       " 'bread.',\n",
       " 'mixed',\n",
       " 'cashier',\n",
       " 'stuff',\n",
       " 'duck',\n",
       " 'visiting',\n",
       " 'them,',\n",
       " '...',\n",
       " 'prepared',\n",
       " 'face',\n",
       " 'shame',\n",
       " 'crust',\n",
       " 'watched',\n",
       " 'menus',\n",
       " 'now,',\n",
       " 'seated.',\n",
       " 'truly',\n",
       " 'no.',\n",
       " 'general',\n",
       " 'complain',\n",
       " 'life',\n",
       " 'brown',\n",
       " 'hold',\n",
       " 'cheese.',\n",
       " 'returning',\n",
       " 'empty.',\n",
       " 'word',\n",
       " 'nothing.',\n",
       " '\"',\n",
       " 'mostly',\n",
       " 'seeing',\n",
       " 'ingredients',\n",
       " 'bouncer',\n",
       " 'nasty',\n",
       " 'pizza,',\n",
       " 'ruined',\n",
       " 'yes,',\n",
       " 'door.',\n",
       " 'lettuce',\n",
       " 'bag',\n",
       " 'actual',\n",
       " 'waitstaff',\n",
       " 'seats',\n",
       " 'oyster',\n",
       " 'return.',\n",
       " 'positive',\n",
       " 'authentic',\n",
       " 'potatoes',\n",
       " 'elsewhere.',\n",
       " 'okay,',\n",
       " 'missing',\n",
       " 'straight',\n",
       " 'indian',\n",
       " 'curry',\n",
       " 'cause',\n",
       " 'taste.',\n",
       " 'local',\n",
       " 'is.',\n",
       " 'for.',\n",
       " 'no,',\n",
       " 'priced',\n",
       " 'space',\n",
       " 'cool',\n",
       " 'gross',\n",
       " 'job',\n",
       " 'city',\n",
       " 'exactly',\n",
       " 'establishment.',\n",
       " '!',\n",
       " 'calling',\n",
       " 'third',\n",
       " 'company',\n",
       " 'mine',\n",
       " 'receive',\n",
       " 'experienced',\n",
       " 'was,',\n",
       " 'rudely',\n",
       " 'plastic',\n",
       " 'split',\n",
       " 'stale',\n",
       " 'tables.',\n",
       " 'deliver',\n",
       " 'stated',\n",
       " 'enjoyed',\n",
       " 'manager.',\n",
       " 'changed',\n",
       " 'bunch',\n",
       " 'eventually',\n",
       " 'vegetables',\n",
       " 'pm',\n",
       " 'patrons',\n",
       " 'instead.',\n",
       " 'review.',\n",
       " 'again!',\n",
       " 'yelling',\n",
       " 'mexican',\n",
       " 'whatever',\n",
       " 'explain',\n",
       " 'imagine',\n",
       " 'point,',\n",
       " 'experience,',\n",
       " 'sauce,',\n",
       " 'watch',\n",
       " 'tasty',\n",
       " 'water,',\n",
       " 'sandwiches',\n",
       " 'recently',\n",
       " 'deserve',\n",
       " 'available',\n",
       " 'correct',\n",
       " ...]"
      ]
     },
     "execution_count": 45,
     "metadata": {},
     "output_type": "execute_result"
    }
   ],
   "source": [
    "model.vocabulary"
   ]
  },
  {
   "cell_type": "code",
   "execution_count": 46,
   "metadata": {},
   "outputs": [],
   "source": [
    "vocab = model.vocabulary"
   ]
  },
  {
   "cell_type": "code",
   "execution_count": 47,
   "metadata": {
    "scrolled": true
   },
   "outputs": [
    {
     "name": "stdout",
     "output_type": "stream",
     "text": [
      "+--------------------+--------------------+--------------------+---+\n",
      "|                text|            filtered|            features| id|\n",
      "+--------------------+--------------------+--------------------+---+\n",
      "|Over the years, I...|[years,, burger, ...|(70685,[0,3,9,11,...|  0|\n",
      "|Wouldn't let some...|[let, someone, gr...|(70685,[119,125,2...|  1|\n",
      "|Review is for foo...|[review, food, on...|(70685,[0,1,2,6,9...|  2|\n",
      "|We ordered after ...|[ordered, seeing,...|(70685,[1,5,8,13,...|  3|\n",
      "|Rating take-out. ...|[rating, take-out...|(70685,[4,8,14,34...|  4|\n",
      "+--------------------+--------------------+--------------------+---+\n",
      "only showing top 5 rows\n",
      "\n"
     ]
    }
   ],
   "source": [
    "from pyspark.sql.functions import monotonically_increasing_id \n",
    "\n",
    "result = result.select(\"*\").withColumn(\"id\", monotonically_increasing_id())\n",
    "result.show(5)"
   ]
  },
  {
   "cell_type": "code",
   "execution_count": 48,
   "metadata": {},
   "outputs": [
    {
     "name": "stdout",
     "output_type": "stream",
     "text": [
      "+--------------------+---+\n",
      "|            features| id|\n",
      "+--------------------+---+\n",
      "|(70685,[0,3,9,11,...|  0|\n",
      "|(70685,[119,125,2...|  1|\n",
      "|(70685,[0,1,2,6,9...|  2|\n",
      "|(70685,[1,5,8,13,...|  3|\n",
      "|(70685,[4,8,14,34...|  4|\n",
      "+--------------------+---+\n",
      "only showing top 5 rows\n",
      "\n"
     ]
    }
   ],
   "source": [
    "result = result.drop(\"text\",\"filtered\")\n",
    "\n",
    "result.show(5)"
   ]
  },
  {
   "cell_type": "code",
   "execution_count": 49,
   "metadata": {},
   "outputs": [],
   "source": [
    "from pyspark.ml.clustering import LDA\n",
    "\n",
    "lda = LDA(k=10, seed=1, optimizer=\"em\")\n",
    "ldamodel = lda.fit(result)\n"
   ]
  },
  {
   "cell_type": "code",
   "execution_count": 50,
   "metadata": {},
   "outputs": [
    {
     "data": {
      "text/plain": [
       "False"
      ]
     },
     "execution_count": 50,
     "metadata": {},
     "output_type": "execute_result"
    }
   ],
   "source": [
    "ldaModel = ldamodel.toLocal()\n",
    "ldaModel.isDistributed()"
   ]
  },
  {
   "cell_type": "code",
   "execution_count": 51,
   "metadata": {
    "scrolled": true
   },
   "outputs": [
    {
     "data": {
      "text/plain": [
       "70685"
      ]
     },
     "execution_count": 51,
     "metadata": {},
     "output_type": "execute_result"
    }
   ],
   "source": [
    "ldamodel.vocabSize()"
   ]
  },
  {
   "cell_type": "code",
   "execution_count": 52,
   "metadata": {
    "scrolled": true
   },
   "outputs": [
    {
     "name": "stdout",
     "output_type": "stream",
     "text": [
      "+-----+--------------------+--------------------+\n",
      "|topic|         termIndices|         termWeights|\n",
      "+-----+--------------------+--------------------+\n",
      "|    0|[0, 1, 2, 3, 4, 5...|[0.05108257579102...|\n",
      "|    1|[0, 1, 3, 2, 4, 5...|[0.04870055714373...|\n",
      "|    2|[0, 1, 3, 2, 4, 5...|[0.04572837781564...|\n",
      "|    3|[0, 1, 3, 4, 2, 5...|[0.04120997490061...|\n",
      "|    4|[0, 1, 3, 4, 2, 5...|[0.04975630719597...|\n",
      "|    5|[0, 1, 2, 4, 3, 5...|[0.05489565127027...|\n",
      "|    6|[0, 1, 2, 4, 3, 5...|[0.05162144043425...|\n",
      "|    7|[0, 1, 2, 3, 4, 5...|[0.05924211820471...|\n",
      "|    8|[0, 1, 3, 2, 4, 5...|[0.04667651383880...|\n",
      "|    9|[0, 1, 2, 4, 5, 3...|[0.05610422621995...|\n",
      "+-----+--------------------+--------------------+\n",
      "\n"
     ]
    }
   ],
   "source": [
    "topics = ldamodel.describeTopics()\n",
    "topics.show()"
   ]
  },
  {
   "cell_type": "code",
   "execution_count": 53,
   "metadata": {
    "scrolled": false
   },
   "outputs": [
    {
     "name": "stdout",
     "output_type": "stream",
     "text": [
      "topic:  0\n",
      "----------\n",
      "\n",
      "----------\n",
      "food\n",
      "----------\n",
      "place\n",
      "----------\n",
      "us\n",
      "----------\n",
      "like\n",
      "----------\n",
      "one\n",
      "----------\n",
      "get\n",
      "----------\n",
      "ordered\n",
      "----------\n",
      "even\n",
      "----------\n",
      "never\n",
      "----------\n",
      "topic:  1\n",
      "----------\n",
      "\n",
      "----------\n",
      "food\n",
      "----------\n",
      "us\n",
      "----------\n",
      "place\n",
      "----------\n",
      "like\n",
      "----------\n",
      "one\n",
      "----------\n",
      "get\n",
      "----------\n",
      "even\n",
      "----------\n",
      "never\n",
      "----------\n",
      "ordered\n",
      "----------\n",
      "topic:  2\n",
      "----------\n",
      "\n",
      "----------\n",
      "food\n",
      "----------\n",
      "us\n",
      "----------\n",
      "place\n",
      "----------\n",
      "like\n",
      "----------\n",
      "one\n",
      "----------\n",
      "get\n",
      "----------\n",
      "even\n",
      "----------\n",
      "ordered\n",
      "----------\n",
      "service\n",
      "----------\n",
      "topic:  3\n",
      "----------\n",
      "\n",
      "----------\n",
      "food\n",
      "----------\n",
      "us\n",
      "----------\n",
      "like\n",
      "----------\n",
      "place\n",
      "----------\n",
      "one\n",
      "----------\n",
      "get\n",
      "----------\n",
      "even\n",
      "----------\n",
      "never\n",
      "----------\n",
      "ordered\n",
      "----------\n",
      "topic:  4\n",
      "----------\n",
      "\n",
      "----------\n",
      "food\n",
      "----------\n",
      "us\n",
      "----------\n",
      "like\n",
      "----------\n",
      "place\n",
      "----------\n",
      "one\n",
      "----------\n",
      "get\n",
      "----------\n",
      "ordered\n",
      "----------\n",
      "even\n",
      "----------\n",
      "never\n",
      "----------\n",
      "topic:  5\n",
      "----------\n",
      "\n",
      "----------\n",
      "food\n",
      "----------\n",
      "place\n",
      "----------\n",
      "like\n",
      "----------\n",
      "us\n",
      "----------\n",
      "one\n",
      "----------\n",
      "get\n",
      "----------\n",
      "even\n",
      "----------\n",
      "ordered\n",
      "----------\n",
      "service\n",
      "----------\n",
      "topic:  6\n",
      "----------\n",
      "\n",
      "----------\n",
      "food\n",
      "----------\n",
      "place\n",
      "----------\n",
      "like\n",
      "----------\n",
      "us\n",
      "----------\n",
      "one\n",
      "----------\n",
      "get\n",
      "----------\n",
      "even\n",
      "----------\n",
      "ordered\n",
      "----------\n",
      "never\n",
      "----------\n",
      "topic:  7\n",
      "----------\n",
      "\n",
      "----------\n",
      "food\n",
      "----------\n",
      "place\n",
      "----------\n",
      "us\n",
      "----------\n",
      "like\n",
      "----------\n",
      "one\n",
      "----------\n",
      "get\n",
      "----------\n",
      "even\n",
      "----------\n",
      "never\n",
      "----------\n",
      "service\n",
      "----------\n",
      "topic:  8\n",
      "----------\n",
      "\n",
      "----------\n",
      "food\n",
      "----------\n",
      "us\n",
      "----------\n",
      "place\n",
      "----------\n",
      "like\n",
      "----------\n",
      "one\n",
      "----------\n",
      "get\n",
      "----------\n",
      "even\n",
      "----------\n",
      "never\n",
      "----------\n",
      "ordered\n",
      "----------\n",
      "topic:  9\n",
      "----------\n",
      "\n",
      "----------\n",
      "food\n",
      "----------\n",
      "place\n",
      "----------\n",
      "like\n",
      "----------\n",
      "one\n",
      "----------\n",
      "us\n",
      "----------\n",
      "get\n",
      "----------\n",
      "ordered\n",
      "----------\n",
      "even\n",
      "----------\n",
      "never\n",
      "----------\n"
     ]
    }
   ],
   "source": [
    "topics_rdd = topics.rdd\n",
    "topics_words = topics_rdd\\\n",
    "       .map(lambda row: row['termIndices'])\\\n",
    "       .map(lambda idx_list: [vocab[idx] for idx in idx_list])\\\n",
    "       .collect()\n",
    "\n",
    "for idx, topic in enumerate(topics_words):\n",
    "    print(\"topic: \", idx)\n",
    "    print(\"----------\")\n",
    "\n",
    "    for word in topic:\n",
    "        print(word)\n",
    "        print(\"----------\")"
   ]
  },
  {
   "cell_type": "code",
   "execution_count": 54,
   "metadata": {},
   "outputs": [
    {
     "data": {
      "text/plain": [
       "[['', 'food', 'place', 'us', 'like', 'one', 'get', 'ordered', 'even', 'never'],\n",
       " ['', 'food', 'us', 'place', 'like', 'one', 'get', 'even', 'never', 'ordered'],\n",
       " ['',\n",
       "  'food',\n",
       "  'us',\n",
       "  'place',\n",
       "  'like',\n",
       "  'one',\n",
       "  'get',\n",
       "  'even',\n",
       "  'ordered',\n",
       "  'service'],\n",
       " ['', 'food', 'us', 'like', 'place', 'one', 'get', 'even', 'never', 'ordered'],\n",
       " ['', 'food', 'us', 'like', 'place', 'one', 'get', 'ordered', 'even', 'never'],\n",
       " ['',\n",
       "  'food',\n",
       "  'place',\n",
       "  'like',\n",
       "  'us',\n",
       "  'one',\n",
       "  'get',\n",
       "  'even',\n",
       "  'ordered',\n",
       "  'service'],\n",
       " ['', 'food', 'place', 'like', 'us', 'one', 'get', 'even', 'ordered', 'never'],\n",
       " ['', 'food', 'place', 'us', 'like', 'one', 'get', 'even', 'never', 'service'],\n",
       " ['', 'food', 'us', 'place', 'like', 'one', 'get', 'even', 'never', 'ordered'],\n",
       " ['', 'food', 'place', 'like', 'one', 'us', 'get', 'ordered', 'even', 'never']]"
      ]
     },
     "execution_count": 54,
     "metadata": {},
     "output_type": "execute_result"
    }
   ],
   "source": [
    "topics_words"
   ]
  },
  {
   "cell_type": "code",
   "execution_count": 55,
   "metadata": {},
   "outputs": [],
   "source": [
    "def flatten(t):\n",
    "    return [item for sublist in t for item in sublist]"
   ]
  },
  {
   "cell_type": "code",
   "execution_count": 56,
   "metadata": {},
   "outputs": [],
   "source": [
    "lst = flatten(topics_words)"
   ]
  },
  {
   "cell_type": "code",
   "execution_count": 57,
   "metadata": {},
   "outputs": [],
   "source": [
    "lst = [x for x in lst if len(x)>2]"
   ]
  },
  {
   "cell_type": "code",
   "execution_count": 58,
   "metadata": {},
   "outputs": [
    {
     "data": {
      "text/html": [
       "<div>\n",
       "<style scoped>\n",
       "    .dataframe tbody tr th:only-of-type {\n",
       "        vertical-align: middle;\n",
       "    }\n",
       "\n",
       "    .dataframe tbody tr th {\n",
       "        vertical-align: top;\n",
       "    }\n",
       "\n",
       "    .dataframe thead th {\n",
       "        text-align: right;\n",
       "    }\n",
       "</style>\n",
       "<table border=\"1\" class=\"dataframe\">\n",
       "  <thead>\n",
       "    <tr style=\"text-align: right;\">\n",
       "      <th></th>\n",
       "      <th>value</th>\n",
       "    </tr>\n",
       "  </thead>\n",
       "  <tbody>\n",
       "    <tr>\n",
       "      <th>0</th>\n",
       "      <td>food</td>\n",
       "    </tr>\n",
       "    <tr>\n",
       "      <th>1</th>\n",
       "      <td>place</td>\n",
       "    </tr>\n",
       "    <tr>\n",
       "      <th>2</th>\n",
       "      <td>like</td>\n",
       "    </tr>\n",
       "    <tr>\n",
       "      <th>3</th>\n",
       "      <td>one</td>\n",
       "    </tr>\n",
       "    <tr>\n",
       "      <th>4</th>\n",
       "      <td>get</td>\n",
       "    </tr>\n",
       "    <tr>\n",
       "      <th>5</th>\n",
       "      <td>ordered</td>\n",
       "    </tr>\n",
       "    <tr>\n",
       "      <th>6</th>\n",
       "      <td>even</td>\n",
       "    </tr>\n",
       "    <tr>\n",
       "      <th>7</th>\n",
       "      <td>never</td>\n",
       "    </tr>\n",
       "    <tr>\n",
       "      <th>8</th>\n",
       "      <td>food</td>\n",
       "    </tr>\n",
       "    <tr>\n",
       "      <th>9</th>\n",
       "      <td>place</td>\n",
       "    </tr>\n",
       "    <tr>\n",
       "      <th>10</th>\n",
       "      <td>like</td>\n",
       "    </tr>\n",
       "    <tr>\n",
       "      <th>11</th>\n",
       "      <td>one</td>\n",
       "    </tr>\n",
       "    <tr>\n",
       "      <th>12</th>\n",
       "      <td>get</td>\n",
       "    </tr>\n",
       "    <tr>\n",
       "      <th>13</th>\n",
       "      <td>even</td>\n",
       "    </tr>\n",
       "    <tr>\n",
       "      <th>14</th>\n",
       "      <td>never</td>\n",
       "    </tr>\n",
       "  </tbody>\n",
       "</table>\n",
       "</div>"
      ],
      "text/plain": [
       "      value\n",
       "0      food\n",
       "1     place\n",
       "2      like\n",
       "3       one\n",
       "4       get\n",
       "5   ordered\n",
       "6      even\n",
       "7     never\n",
       "8      food\n",
       "9     place\n",
       "10     like\n",
       "11      one\n",
       "12      get\n",
       "13     even\n",
       "14    never"
      ]
     },
     "execution_count": 58,
     "metadata": {},
     "output_type": "execute_result"
    }
   ],
   "source": [
    "from pyspark.sql.types import StructType, IntegerType, StringType\n",
    "\n",
    "df1 = spark.createDataFrame(lst, StringType())\n",
    "df1 = df1.toPandas()\n",
    "df1.head(15)"
   ]
  },
  {
   "cell_type": "code",
   "execution_count": 59,
   "metadata": {
    "scrolled": true
   },
   "outputs": [
    {
     "data": {
      "image/png": "[encoded data removed]",
      "text/plain": [
       "<Figure size 432x288 with 1 Axes>"
      ]
     },
     "metadata": {},
     "output_type": "display_data"
    }
   ],
   "source": [
    "import matplotlib.pyplot as plt\n",
    "from wordcloud import WordCloud, STOPWORDS\n",
    "\n",
    "fields = ['value']\n",
    "stopwords = set(STOPWORDS) \n",
    "\n",
    "\n",
    "text = ' '.join(df1['value'])\n",
    "wordcloud2 = WordCloud(stopwords = stopwords).generate(text)\n",
    "# Generate plot\n",
    "plt.imshow(wordcloud2)\n",
    "plt.axis(\"off\")\n",
    "plt.show()"
   ]
  },
  {
   "cell_type": "markdown",
   "metadata": {},
   "source": [
    "### Topic Modeling - positive reviews"
   ]
  },
  {
   "cell_type": "code",
   "execution_count": 60,
   "metadata": {},
   "outputs": [
    {
     "name": "stdout",
     "output_type": "stream",
     "text": [
      "+--------------------+--------------------+\n",
      "|                text|               words|\n",
      "+--------------------+--------------------+\n",
      "|Love this place! ...|[love, this, plac...|\n",
      "|To say that I am ...|[to, say, that, i...|\n",
      "|We went there for...|[we, went, there,...|\n",
      "|My husband is fro...|[my, husband, is,...|\n",
      "|Would I drive hou...|[would, i, drive,...|\n",
      "+--------------------+--------------------+\n",
      "only showing top 5 rows\n",
      "\n"
     ]
    }
   ],
   "source": [
    "from pyspark.ml.feature import Tokenizer\n",
    "\n",
    "#tokenize words\n",
    "tokenizer = Tokenizer(inputCol=\"text\", outputCol=\"words\")\n",
    "df_positive = tokenizer.transform(df_positive)\n",
    "\n",
    "#drop the redundant source column\n",
    "df_positive.show(5)"
   ]
  },
  {
   "cell_type": "code",
   "execution_count": 61,
   "metadata": {},
   "outputs": [
    {
     "name": "stdout",
     "output_type": "stream",
     "text": [
      "+--------------------+--------------------+\n",
      "|                text|            filtered|\n",
      "+--------------------+--------------------+\n",
      "|Love this place! ...|[love, place!, fo...|\n",
      "|To say that I am ...|[say, love, thait...|\n",
      "|We went there for...|[went, restaurant...|\n",
      "|My husband is fro...|[husband, bolivia...|\n",
      "|Would I drive hou...|[drive, hours, pi...|\n",
      "+--------------------+--------------------+\n",
      "only showing top 5 rows\n",
      "\n"
     ]
    }
   ],
   "source": [
    "from pyspark.ml.feature import StopWordsRemover\n",
    "\n",
    "#remove stop words\n",
    "remover = StopWordsRemover(inputCol=\"words\", outputCol=\"filtered\")\n",
    "df_positive = remover.transform(df_positive)\n",
    "\n",
    "#drop the redundant source column\n",
    "df_positive= df_positive.drop(\"words\")\n",
    "df_positive.show(5)"
   ]
  },
  {
   "cell_type": "code",
   "execution_count": 62,
   "metadata": {},
   "outputs": [
    {
     "name": "stdout",
     "output_type": "stream",
     "text": [
      "+--------------------+--------------------+--------------------+\n",
      "|                text|            filtered|            features|\n",
      "+--------------------+--------------------+--------------------+\n",
      "|Love this place! ...|[love, place!, fo...|(112644,[0,2,4,9,...|\n",
      "|To say that I am ...|[say, love, thait...|(112644,[0,1,2,3,...|\n",
      "|We went there for...|[went, restaurant...|(112644,[2,5,10,1...|\n",
      "|My husband is fro...|[husband, bolivia...|(112644,[0,2,3,4,...|\n",
      "|Would I drive hou...|[drive, hours, pi...|(112644,[1,3,4,6,...|\n",
      "+--------------------+--------------------+--------------------+\n",
      "only showing top 5 rows\n",
      "\n"
     ]
    }
   ],
   "source": [
    "from pyspark.ml.feature import CountVectorizer\n",
    "Vector = CountVectorizer(inputCol=\"filtered\", outputCol=\"features\")\n",
    "model = Vector.fit(df_positive)\n",
    "result = model.transform(df_positive)\n",
    "result.show(5)"
   ]
  },
  {
   "cell_type": "code",
   "execution_count": 63,
   "metadata": {},
   "outputs": [
    {
     "data": {
      "text/plain": [
       "['',\n",
       " 'great',\n",
       " 'food',\n",
       " 'place',\n",
       " 'good',\n",
       " 'best',\n",
       " 'one',\n",
       " 'like',\n",
       " 'get',\n",
       " 'really',\n",
       " 'also',\n",
       " '-',\n",
       " 'go',\n",
       " 'service',\n",
       " 'love',\n",
       " 'definitely',\n",
       " 'back',\n",
       " 'time',\n",
       " 'got',\n",
       " 'always',\n",
       " 'restaurant',\n",
       " 'boston',\n",
       " 'chicken',\n",
       " 'delicious',\n",
       " 'lobster',\n",
       " 'ordered',\n",
       " 'nice',\n",
       " 'even',\n",
       " 'try',\n",
       " 'us',\n",
       " 'come',\n",
       " 'came',\n",
       " 'little',\n",
       " 'everything',\n",
       " 'recommend',\n",
       " 'pizza',\n",
       " 'fresh',\n",
       " 'staff',\n",
       " 'it.',\n",
       " 'menu',\n",
       " 'went',\n",
       " 'amazing',\n",
       " 'made',\n",
       " 'order',\n",
       " 'first',\n",
       " 'favorite',\n",
       " 'ever',\n",
       " 'make',\n",
       " 'wait',\n",
       " 'every',\n",
       " 'friendly',\n",
       " 'well',\n",
       " 'never',\n",
       " 'much',\n",
       " 'delicious.',\n",
       " 'eat',\n",
       " 'good.',\n",
       " 'worth',\n",
       " 'perfect',\n",
       " 'dinner',\n",
       " 'people',\n",
       " 'super',\n",
       " 'boston.',\n",
       " 'lunch',\n",
       " 'right',\n",
       " 'bar',\n",
       " 'loved',\n",
       " 'two',\n",
       " 'food.',\n",
       " 'want',\n",
       " 'new',\n",
       " 'highly',\n",
       " 'small',\n",
       " 'pretty',\n",
       " 'sauce',\n",
       " 'next',\n",
       " 'tried',\n",
       " 'night',\n",
       " 'going',\n",
       " '&',\n",
       " 'take',\n",
       " 'many',\n",
       " 'know',\n",
       " 'place.',\n",
       " 'think',\n",
       " 'meal',\n",
       " 'fried',\n",
       " 'around',\n",
       " 'still',\n",
       " 'excellent',\n",
       " 'sure',\n",
       " 'cheese',\n",
       " 'say',\n",
       " 'hot',\n",
       " 'since',\n",
       " 'food,',\n",
       " 'amazing.',\n",
       " 'way',\n",
       " 'table',\n",
       " 'absolutely',\n",
       " 'experience',\n",
       " 'bit',\n",
       " 'better',\n",
       " 'spicy',\n",
       " 'here.',\n",
       " 'find',\n",
       " 'drinks',\n",
       " 'long',\n",
       " 'great.',\n",
       " 'bread',\n",
       " 'last',\n",
       " 'spot',\n",
       " 'end',\n",
       " 'dish',\n",
       " 'see',\n",
       " 'seafood',\n",
       " 'looking',\n",
       " 'salad',\n",
       " 'enough',\n",
       " 'atmosphere',\n",
       " 'wine',\n",
       " 'friend',\n",
       " 'feel',\n",
       " 'fish',\n",
       " 'cooked',\n",
       " 'places',\n",
       " 'sweet',\n",
       " 'something',\n",
       " 'awesome',\n",
       " 'times',\n",
       " 'north',\n",
       " 'well.',\n",
       " 'italian',\n",
       " 'friends',\n",
       " 'pork',\n",
       " '5',\n",
       " 'quality',\n",
       " 'pasta',\n",
       " 'meat',\n",
       " 'top',\n",
       " 'chocolate',\n",
       " 'rice',\n",
       " 'different',\n",
       " 'give',\n",
       " 'coming',\n",
       " 'dishes',\n",
       " 'lot',\n",
       " 'must',\n",
       " 'day',\n",
       " 'big',\n",
       " 'enjoyed',\n",
       " 'beef',\n",
       " 'thai',\n",
       " 'roll',\n",
       " 'taste',\n",
       " 'large',\n",
       " 'coffee',\n",
       " 'cream',\n",
       " 'service.',\n",
       " 'full',\n",
       " 'side',\n",
       " 'perfectly',\n",
       " 'soup',\n",
       " 'time.',\n",
       " 'steak',\n",
       " 'line',\n",
       " 'without',\n",
       " 'usually',\n",
       " 'too.',\n",
       " 'beer',\n",
       " 'thing',\n",
       " 'served',\n",
       " 'sandwich',\n",
       " '2',\n",
       " 'happy',\n",
       " 'restaurants',\n",
       " 'took',\n",
       " 'everyone',\n",
       " 'huge',\n",
       " 'wonderful',\n",
       " 'special',\n",
       " 'server',\n",
       " 'another',\n",
       " 'dining',\n",
       " 'ice',\n",
       " 'probably',\n",
       " 'location',\n",
       " 'prices',\n",
       " 'especially',\n",
       " 'visit',\n",
       " 'quite',\n",
       " 'had.',\n",
       " 'breakfast',\n",
       " 'clam',\n",
       " 'drink',\n",
       " 'things',\n",
       " 'found',\n",
       " 'quick',\n",
       " 'makes',\n",
       " 'area',\n",
       " 'need',\n",
       " 'though',\n",
       " 'selection',\n",
       " 'waiter',\n",
       " 'actually',\n",
       " 'shrimp',\n",
       " 'good,',\n",
       " 'crab',\n",
       " '3',\n",
       " 'eating',\n",
       " 'tasty',\n",
       " 'work',\n",
       " 'kind',\n",
       " 'street',\n",
       " 'flavor',\n",
       " 'open',\n",
       " 'wanted',\n",
       " 'family',\n",
       " 'free',\n",
       " 'stop',\n",
       " 'price',\n",
       " 'delicious!',\n",
       " 'fantastic',\n",
       " 'comes',\n",
       " 'chowder',\n",
       " 'red',\n",
       " 'enjoy',\n",
       " 'crispy',\n",
       " 'outside',\n",
       " 'authentic',\n",
       " 'experience.',\n",
       " 'dessert',\n",
       " 'half',\n",
       " 'it!',\n",
       " 'said',\n",
       " 'back.',\n",
       " 'restaurant.',\n",
       " 'service,',\n",
       " 'boston,',\n",
       " 'home',\n",
       " 'whole',\n",
       " 'fun',\n",
       " 'great,',\n",
       " 'ask',\n",
       " 'extremely',\n",
       " 'years',\n",
       " 'menu.',\n",
       " 'brunch',\n",
       " 'getting',\n",
       " 'waitress',\n",
       " 'sit',\n",
       " 'decided',\n",
       " 'chinese',\n",
       " 'almost',\n",
       " 'walk',\n",
       " 'attentive',\n",
       " 'couple',\n",
       " 'options',\n",
       " 'wish',\n",
       " 'delicious,',\n",
       " 'fast',\n",
       " 'portions',\n",
       " 'fries',\n",
       " 'anything',\n",
       " 'three',\n",
       " 'check',\n",
       " 'husband',\n",
       " 'room',\n",
       " 'amount',\n",
       " 'busy',\n",
       " 'far',\n",
       " 'thought',\n",
       " 'warm',\n",
       " 'old',\n",
       " 'let',\n",
       " 'seating',\n",
       " 'ate',\n",
       " 'able',\n",
       " 'thank',\n",
       " 'meal.',\n",
       " 'amazing!',\n",
       " 'tea',\n",
       " 'away',\n",
       " 'nothing',\n",
       " 'grilled',\n",
       " 'garlic',\n",
       " 'gave',\n",
       " 'look',\n",
       " '--',\n",
       " 'started',\n",
       " 'asked',\n",
       " 'put',\n",
       " 'tables',\n",
       " 'friendly.',\n",
       " 'house',\n",
       " 'tasted',\n",
       " 'seated',\n",
       " 'bad',\n",
       " 'bring',\n",
       " 'may',\n",
       " 'sat',\n",
       " 'burger',\n",
       " 'high',\n",
       " 'boyfriend',\n",
       " 'real',\n",
       " 'hard',\n",
       " 'brought',\n",
       " 'it,',\n",
       " 'extra',\n",
       " 'excellent.',\n",
       " 'white',\n",
       " 'place!',\n",
       " 'area.',\n",
       " 'minutes',\n",
       " 'cake',\n",
       " 'tell',\n",
       " 'night.',\n",
       " 'me.',\n",
       " 'inside',\n",
       " 'week',\n",
       " 'oysters',\n",
       " 'keep',\n",
       " 'out.',\n",
       " 'die',\n",
       " 'plate',\n",
       " 'live',\n",
       " 'again.',\n",
       " 'group',\n",
       " 'there.',\n",
       " 'trying',\n",
       " 'glad',\n",
       " 'close',\n",
       " 'modern',\n",
       " 'good!',\n",
       " 'stars',\n",
       " 'portion',\n",
       " 'ramen',\n",
       " 'sauce.',\n",
       " 'here,',\n",
       " ':)',\n",
       " 'second',\n",
       " 'maybe',\n",
       " 'south',\n",
       " 'beautiful',\n",
       " 'pot',\n",
       " 'lots',\n",
       " 'left',\n",
       " 'party',\n",
       " 'cool',\n",
       " 'bowl',\n",
       " 'used',\n",
       " 'might',\n",
       " 'least',\n",
       " 'appetizer',\n",
       " '4',\n",
       " 'calamari',\n",
       " 'making',\n",
       " 'local',\n",
       " 'broth',\n",
       " 'review',\n",
       " 'told',\n",
       " 'awesome.',\n",
       " 'looked',\n",
       " 'back!',\n",
       " 'late',\n",
       " 'dinner.',\n",
       " 'felt',\n",
       " 'style',\n",
       " 'green',\n",
       " 'cold',\n",
       " 'walked',\n",
       " 'wife',\n",
       " 'several',\n",
       " 'light',\n",
       " 'yet',\n",
       " 'although',\n",
       " 'part',\n",
       " 'fan',\n",
       " 'rolls',\n",
       " 'date',\n",
       " 'place,',\n",
       " 'variety',\n",
       " 'visiting',\n",
       " 'lamb',\n",
       " 'less',\n",
       " 'waiting',\n",
       " 'overall',\n",
       " 'noodles',\n",
       " 'sandwiches',\n",
       " 'saturday',\n",
       " 'regular',\n",
       " 'perfect.',\n",
       " 'else',\n",
       " 'pad',\n",
       " 'oh',\n",
       " 'french',\n",
       " 'fresh,',\n",
       " 'fantastic.',\n",
       " 'friendly,',\n",
       " 'across',\n",
       " 'homemade',\n",
       " 'boston!',\n",
       " 'chef',\n",
       " '.',\n",
       " 'trip',\n",
       " 'stopped',\n",
       " 'totally',\n",
       " 'hands',\n",
       " 'ordering',\n",
       " 'course',\n",
       " 'recommended',\n",
       " 'reviews',\n",
       " 'serve',\n",
       " 'flavors',\n",
       " 'reservation',\n",
       " '(i',\n",
       " 'duck',\n",
       " 'items',\n",
       " 'clean',\n",
       " 'liked',\n",
       " 'end.',\n",
       " 'great!',\n",
       " 'black',\n",
       " 'short',\n",
       " '(and',\n",
       " 'also,',\n",
       " 'tasty.',\n",
       " 'truly',\n",
       " 'pizza.',\n",
       " 'indian',\n",
       " 'space',\n",
       " 'main',\n",
       " 'decor',\n",
       " 'unique',\n",
       " 'list',\n",
       " 'name',\n",
       " 'owner',\n",
       " 'start',\n",
       " 'bite',\n",
       " 'plenty',\n",
       " 'customer',\n",
       " 'ended',\n",
       " 'soft',\n",
       " 'tacos',\n",
       " 'dumplings',\n",
       " 'reasonable',\n",
       " 'flavorful',\n",
       " 'gets',\n",
       " 'day.',\n",
       " 'entire',\n",
       " 'mac',\n",
       " 'size',\n",
       " 'add',\n",
       " 'choose',\n",
       " 'five',\n",
       " 'tender',\n",
       " 'care',\n",
       " '10',\n",
       " 'for.',\n",
       " 'stuffed',\n",
       " 'near',\n",
       " 'eaten',\n",
       " 'menu,',\n",
       " 'parking',\n",
       " 'ambiance',\n",
       " 'prepared',\n",
       " 'incredibly',\n",
       " 'town',\n",
       " 'bartender',\n",
       " 'helpful',\n",
       " 'birthday',\n",
       " 'often',\n",
       " 'egg',\n",
       " 'salmon',\n",
       " 'anyone',\n",
       " 'city',\n",
       " 'hour',\n",
       " 'cafe',\n",
       " 'vegetarian',\n",
       " 'expect',\n",
       " 'use',\n",
       " 'early',\n",
       " 'yummy',\n",
       " 'curry',\n",
       " 'sunday',\n",
       " 'grab',\n",
       " 'food!',\n",
       " 'however,',\n",
       " 'us.',\n",
       " 'along',\n",
       " 'easy',\n",
       " 'packed',\n",
       " 'cash',\n",
       " 'atmosphere.',\n",
       " 'filled',\n",
       " 'crust',\n",
       " 'mexican',\n",
       " 'butter',\n",
       " 'ingredients',\n",
       " 'time,',\n",
       " 'star',\n",
       " 'them.',\n",
       " 'fresh.',\n",
       " 'cocktails',\n",
       " 'cheap',\n",
       " 'done',\n",
       " 'walking',\n",
       " 'bar.',\n",
       " 'amazing,',\n",
       " 'pastry',\n",
       " 'pick',\n",
       " 'remember',\n",
       " 'saw',\n",
       " 'quickly',\n",
       " 'simple',\n",
       " 'bacon',\n",
       " 'knew',\n",
       " 'meals',\n",
       " 'someone',\n",
       " 'yelp',\n",
       " 'you.',\n",
       " 'sausage',\n",
       " 'believe',\n",
       " 'leave',\n",
       " 'shared',\n",
       " 'corn',\n",
       " 'tuna',\n",
       " 'point',\n",
       " 'split',\n",
       " 'lovely',\n",
       " 'hotel',\n",
       " 'plus',\n",
       " 'flavor.',\n",
       " 'manager',\n",
       " 'already',\n",
       " 'in.',\n",
       " 'water',\n",
       " 'wings',\n",
       " 'sauce,',\n",
       " 'eggs',\n",
       " 'cannoli',\n",
       " 'spot.',\n",
       " 'lunch.',\n",
       " 'simply',\n",
       " 'cozy',\n",
       " 'person',\n",
       " 'chicken,',\n",
       " 'incredible',\n",
       " 'front',\n",
       " 'kitchen',\n",
       " 'music',\n",
       " 'added',\n",
       " 'roasted',\n",
       " 'potato',\n",
       " 'cute',\n",
       " 'exactly',\n",
       " 'outdoor',\n",
       " 'ravioli',\n",
       " 'past',\n",
       " 'wait.',\n",
       " 'table.',\n",
       " 'wrong',\n",
       " 'staff.',\n",
       " 'filling',\n",
       " 'weekend',\n",
       " 'cocktail',\n",
       " 'pizza,',\n",
       " 'go.',\n",
       " 'friday',\n",
       " 'glass',\n",
       " 'well,',\n",
       " 'door',\n",
       " 'price.',\n",
       " 'vegan',\n",
       " 'too!',\n",
       " '!',\n",
       " 'lived',\n",
       " 'forward',\n",
       " 'plates',\n",
       " 'here!',\n",
       " 'nice.',\n",
       " 'return',\n",
       " 'choice',\n",
       " 'scallops',\n",
       " 'me,',\n",
       " 'disappointed.',\n",
       " 'delivery',\n",
       " 'share',\n",
       " 'tomato',\n",
       " 'creamy',\n",
       " 'hit',\n",
       " 'impressed',\n",
       " 'pay',\n",
       " 'neighborhood',\n",
       " 'sitting',\n",
       " 'finally',\n",
       " 'literally',\n",
       " 'generous',\n",
       " 'surprised',\n",
       " 'shabu',\n",
       " 'thanks',\n",
       " 'sometimes',\n",
       " 'all.',\n",
       " 'burrito',\n",
       " 'called',\n",
       " 'oyster',\n",
       " 'four',\n",
       " 'servers',\n",
       " 'offer',\n",
       " 'sushi',\n",
       " 'tastes',\n",
       " 'twice',\n",
       " 'hours',\n",
       " 'miss',\n",
       " 'traditional',\n",
       " 'expensive',\n",
       " 'there,',\n",
       " 'seemed',\n",
       " 'rest',\n",
       " 'gluten',\n",
       " 'shop',\n",
       " 'appetizers',\n",
       " 'seems',\n",
       " ',',\n",
       " 'restaurant,',\n",
       " 'evening',\n",
       " \"mike's\",\n",
       " 'cheese,',\n",
       " 'heard',\n",
       " 'either',\n",
       " 'upon',\n",
       " 'working',\n",
       " 'overall,',\n",
       " 'bbq',\n",
       " 'looks',\n",
       " 'year',\n",
       " 'arrived',\n",
       " 'call',\n",
       " 'yes,',\n",
       " 'decent',\n",
       " 'dish.',\n",
       " 'including',\n",
       " 'guys',\n",
       " 'spinach',\n",
       " 'baked',\n",
       " '(which',\n",
       " 'noodle',\n",
       " 'easily',\n",
       " 'located',\n",
       " 'reasonably',\n",
       " 'summer',\n",
       " 'recently',\n",
       " 'days',\n",
       " 'better.',\n",
       " 'soon',\n",
       " 'all,',\n",
       " 'reservations',\n",
       " 'casual',\n",
       " 'eggplant',\n",
       " 'guy',\n",
       " 'clams',\n",
       " '6',\n",
       " 'business',\n",
       " 'potatoes',\n",
       " 'atmosphere,',\n",
       " 'home.',\n",
       " 'needed',\n",
       " 'crowded',\n",
       " 'single',\n",
       " 'veggies',\n",
       " 'type',\n",
       " 'entrees',\n",
       " 'beyond',\n",
       " 'up.',\n",
       " 'rich',\n",
       " 'that.',\n",
       " 'slightly',\n",
       " 'finish',\n",
       " 'waited',\n",
       " 'squid',\n",
       " 'mixed',\n",
       " 'certainly',\n",
       " 'attentive.',\n",
       " 'brown',\n",
       " 'sea',\n",
       " 'veggie',\n",
       " 'hidden',\n",
       " 'cup',\n",
       " 'dishes.',\n",
       " 'given',\n",
       " 'stay',\n",
       " 'falafel',\n",
       " 'thinking',\n",
       " 'drinks.',\n",
       " 'combo',\n",
       " 'moved',\n",
       " 'option',\n",
       " 'ready',\n",
       " 'entree',\n",
       " 'beers',\n",
       " 'tofu',\n",
       " 'honestly',\n",
       " 'mind',\n",
       " 'instead',\n",
       " 'run',\n",
       " 'seat',\n",
       " 'asian',\n",
       " 'slice',\n",
       " 'priced',\n",
       " 'classic',\n",
       " 'greeted',\n",
       " 'drinks,',\n",
       " 'mix',\n",
       " 'options.',\n",
       " 'fact',\n",
       " 'chips',\n",
       " 'interesting',\n",
       " 'order.',\n",
       " '1',\n",
       " '(the',\n",
       " 'people.',\n",
       " 'salad,',\n",
       " 'visited',\n",
       " 'today',\n",
       " 'friends.',\n",
       " 'nice,',\n",
       " 'pleasant',\n",
       " 'view',\n",
       " 'seem',\n",
       " 'opened',\n",
       " 'juicy',\n",
       " 'hope',\n",
       " 'tiny',\n",
       " 'mushroom',\n",
       " 'city.',\n",
       " 'offered',\n",
       " 'patio',\n",
       " 'gem',\n",
       " 'craving',\n",
       " 'tasting',\n",
       " 'more.',\n",
       " 'again,',\n",
       " 'night,',\n",
       " 'taking',\n",
       " 'set',\n",
       " 'pizzas',\n",
       " 'mouth',\n",
       " 'roll.',\n",
       " 'market',\n",
       " 'again!',\n",
       " 'feeling',\n",
       " 'behind',\n",
       " 'truffle',\n",
       " 'bartenders',\n",
       " 'within',\n",
       " 'dessert.',\n",
       " 'stuff',\n",
       " 'rather',\n",
       " 'rice,',\n",
       " 'counter',\n",
       " 'lemon',\n",
       " 'despite',\n",
       " 'salad.',\n",
       " 'healthy',\n",
       " 'awesome!',\n",
       " 'dinner,',\n",
       " 'excited',\n",
       " 'gone',\n",
       " 'meal,',\n",
       " 'wonderful.',\n",
       " 'best.',\n",
       " 'staff,',\n",
       " 'immediately',\n",
       " 'knowledgeable',\n",
       " 'forget',\n",
       " 'whenever',\n",
       " 'please',\n",
       " 'serving',\n",
       " 'perfection.',\n",
       " 'addition',\n",
       " 'deal',\n",
       " 'reason',\n",
       " 'sides',\n",
       " 'vibe',\n",
       " 'fabulous',\n",
       " 'one.',\n",
       " 'corner',\n",
       " 'bottle',\n",
       " 'incredible.',\n",
       " 'job',\n",
       " 'finished',\n",
       " 'onion',\n",
       " 'desserts',\n",
       " 'pie',\n",
       " 'chinatown',\n",
       " 'completely',\n",
       " '20',\n",
       " 'ricotta',\n",
       " 'east',\n",
       " 'based',\n",
       " 'go-to',\n",
       " 'la',\n",
       " 'outstanding',\n",
       " 'watch',\n",
       " 'downtown',\n",
       " 'cut',\n",
       " 'spring',\n",
       " 'solid',\n",
       " 'de',\n",
       " 'others',\n",
       " 'morning',\n",
       " 'korean',\n",
       " 'favorites',\n",
       " 'comfortable',\n",
       " 'town.',\n",
       " 'daily',\n",
       " 'chicken.',\n",
       " 'eat.',\n",
       " 'toast',\n",
       " 'show',\n",
       " 'recommend.',\n",
       " 'choices',\n",
       " 'seasoned',\n",
       " 'thin',\n",
       " 'game',\n",
       " 'mention',\n",
       " 'cook',\n",
       " 'world',\n",
       " 'you,',\n",
       " 'topped',\n",
       " 'bay',\n",
       " 'disappointed',\n",
       " 'week.',\n",
       " 'typical',\n",
       " 'try.',\n",
       " 'flavorful.',\n",
       " 'coconut',\n",
       " 'away.',\n",
       " 'down.',\n",
       " 'oil',\n",
       " 'bar,',\n",
       " 'soy',\n",
       " 'service!',\n",
       " 'takes',\n",
       " 'vegetables',\n",
       " 'ones',\n",
       " 'ago',\n",
       " 'iced',\n",
       " 'to.',\n",
       " 'seriously',\n",
       " 'avocado',\n",
       " 'dark',\n",
       " 'times.',\n",
       " 'help',\n",
       " 'cheese.',\n",
       " 'diner',\n",
       " 'absolute',\n",
       " 'in,',\n",
       " 'together',\n",
       " 'small,',\n",
       " 'man',\n",
       " 'talk',\n",
       " '15',\n",
       " 'true',\n",
       " 'fruit',\n",
       " 'pricey',\n",
       " 'slices',\n",
       " 'pepper',\n",
       " 'fancy',\n",
       " 'chose',\n",
       " 'mango',\n",
       " 'head',\n",
       " 'latte',\n",
       " 'fine',\n",
       " 'sugar',\n",
       " 'kept',\n",
       " 'later',\n",
       " 'available',\n",
       " 'world.',\n",
       " 'personal',\n",
       " 'pieces',\n",
       " 'salads',\n",
       " 'kids',\n",
       " 'excellent,',\n",
       " 'fairly',\n",
       " 'street.',\n",
       " 'seen',\n",
       " 'atlantic',\n",
       " 'seats',\n",
       " 'read',\n",
       " 'plan',\n",
       " 'newbury',\n",
       " 'combination',\n",
       " 'hungry',\n",
       " 'level',\n",
       " '+',\n",
       " 'per',\n",
       " 'right.',\n",
       " 'thick',\n",
       " 'orders',\n",
       " 'girlfriend',\n",
       " 'accommodating',\n",
       " 'toppings',\n",
       " 'consistently',\n",
       " 'out,',\n",
       " 'pastries',\n",
       " 'end,',\n",
       " 'outstanding.',\n",
       " 'gnocchi',\n",
       " 'low',\n",
       " 'change',\n",
       " 'area,',\n",
       " 'blue',\n",
       " 'heart',\n",
       " 'sandwich.',\n",
       " 'location.',\n",
       " 'anywhere',\n",
       " 'chili',\n",
       " 'goes',\n",
       " 'japanese',\n",
       " 'years.',\n",
       " 'crazy',\n",
       " 'that,',\n",
       " 'due',\n",
       " 'taken',\n",
       " 'mom',\n",
       " 'matcha',\n",
       " 'ink',\n",
       " 'scallion',\n",
       " 'minute',\n",
       " 'spice',\n",
       " 'fast.',\n",
       " 'piece',\n",
       " 'rice.',\n",
       " 'dine',\n",
       " 'life',\n",
       " 'filet',\n",
       " 'original',\n",
       " 'attentive,',\n",
       " 'vanilla',\n",
       " 'middle',\n",
       " 'gotten',\n",
       " 'inside.',\n",
       " 'so,',\n",
       " 'goat',\n",
       " 'worked',\n",
       " 'day,',\n",
       " 'basically',\n",
       " 'bean',\n",
       " 'perfectly.',\n",
       " 'meatballs',\n",
       " 'number',\n",
       " 'customers',\n",
       " 'etc.',\n",
       " 'ever.',\n",
       " '(not',\n",
       " 'sauces',\n",
       " 'gyro',\n",
       " '8',\n",
       " 'tasty,',\n",
       " 'pan',\n",
       " 'bread.',\n",
       " 'favorite.',\n",
       " 'specials',\n",
       " 'roll,',\n",
       " 'hostess',\n",
       " 'treat',\n",
       " 'suggest',\n",
       " 'crowd',\n",
       " 'bunch',\n",
       " 'quickly.',\n",
       " 'mean',\n",
       " 'prices.',\n",
       " 'helpful.',\n",
       " 'affordable',\n",
       " 'milk',\n",
       " 'medium',\n",
       " 'included',\n",
       " 'wall',\n",
       " 'sticky',\n",
       " 'olive',\n",
       " 'life.',\n",
       " 'helped',\n",
       " 'romantic',\n",
       " 'basil',\n",
       " 'mussels',\n",
       " 'veal',\n",
       " 'greek',\n",
       " 'crunchy',\n",
       " 'buffet',\n",
       " 'taco',\n",
       " 'burgers',\n",
       " 'lucky',\n",
       " 'multiple',\n",
       " 'fries.',\n",
       " 'risotto',\n",
       " 'standard',\n",
       " 'texture',\n",
       " 'pancakes',\n",
       " 'prefer',\n",
       " ...]"
      ]
     },
     "execution_count": 63,
     "metadata": {},
     "output_type": "execute_result"
    }
   ],
   "source": [
    "model.vocabulary"
   ]
  },
  {
   "cell_type": "code",
   "execution_count": 64,
   "metadata": {},
   "outputs": [],
   "source": [
    "vocab = model.vocabulary"
   ]
  },
  {
   "cell_type": "code",
   "execution_count": 65,
   "metadata": {
    "scrolled": true
   },
   "outputs": [
    {
     "name": "stdout",
     "output_type": "stream",
     "text": [
      "+--------------------+--------------------+--------------------+---+\n",
      "|                text|            filtered|            features| id|\n",
      "+--------------------+--------------------+--------------------+---+\n",
      "|Love this place! ...|[love, place!, fo...|(112644,[0,2,4,9,...|  0|\n",
      "|To say that I am ...|[say, love, thait...|(112644,[0,1,2,3,...|  1|\n",
      "|We went there for...|[went, restaurant...|(112644,[2,5,10,1...|  2|\n",
      "|My husband is fro...|[husband, bolivia...|(112644,[0,2,3,4,...|  3|\n",
      "|Would I drive hou...|[drive, hours, pi...|(112644,[1,3,4,6,...|  4|\n",
      "+--------------------+--------------------+--------------------+---+\n",
      "only showing top 5 rows\n",
      "\n"
     ]
    }
   ],
   "source": [
    "from pyspark.sql.functions import monotonically_increasing_id \n",
    "\n",
    "result = result.select(\"*\").withColumn(\"id\", monotonically_increasing_id())\n",
    "result.show(5)"
   ]
  },
  {
   "cell_type": "code",
   "execution_count": 66,
   "metadata": {},
   "outputs": [
    {
     "name": "stdout",
     "output_type": "stream",
     "text": [
      "+--------------------+---+\n",
      "|            features| id|\n",
      "+--------------------+---+\n",
      "|(112644,[0,2,4,9,...|  0|\n",
      "|(112644,[0,1,2,3,...|  1|\n",
      "|(112644,[2,5,10,1...|  2|\n",
      "|(112644,[0,2,3,4,...|  3|\n",
      "|(112644,[1,3,4,6,...|  4|\n",
      "+--------------------+---+\n",
      "only showing top 5 rows\n",
      "\n"
     ]
    }
   ],
   "source": [
    "result = result.drop(\"text\",\"filtered\")\n",
    "\n",
    "result.show(5)"
   ]
  },
  {
   "cell_type": "code",
   "execution_count": 67,
   "metadata": {},
   "outputs": [],
   "source": [
    "from pyspark.ml.clustering import LDA\n",
    "\n",
    "lda = LDA(k=10, seed=1, optimizer=\"em\")\n",
    "ldamodel = lda.fit(result)\n"
   ]
  },
  {
   "cell_type": "code",
   "execution_count": 68,
   "metadata": {},
   "outputs": [
    {
     "data": {
      "text/plain": [
       "False"
      ]
     },
     "execution_count": 68,
     "metadata": {},
     "output_type": "execute_result"
    }
   ],
   "source": [
    "ldaModel = ldamodel.toLocal()\n",
    "ldaModel.isDistributed()"
   ]
  },
  {
   "cell_type": "code",
   "execution_count": 69,
   "metadata": {
    "scrolled": true
   },
   "outputs": [
    {
     "data": {
      "text/plain": [
       "112644"
      ]
     },
     "execution_count": 69,
     "metadata": {},
     "output_type": "execute_result"
    }
   ],
   "source": [
    "ldamodel.vocabSize()"
   ]
  },
  {
   "cell_type": "code",
   "execution_count": 70,
   "metadata": {
    "scrolled": true
   },
   "outputs": [
    {
     "name": "stdout",
     "output_type": "stream",
     "text": [
      "+-----+--------------------+--------------------+\n",
      "|topic|         termIndices|         termWeights|\n",
      "+-----+--------------------+--------------------+\n",
      "|    0|[0, 1, 2, 3, 4, 5...|[0.05555019868550...|\n",
      "|    1|[0, 1, 2, 3, 4, 5...|[0.05504755621239...|\n",
      "|    2|[0, 1, 2, 3, 4, 5...|[0.04728884631278...|\n",
      "|    3|[0, 1, 2, 3, 4, 5...|[0.06444600728077...|\n",
      "|    4|[0, 1, 2, 3, 4, 5...|[0.04639148789217...|\n",
      "|    5|[0, 1, 2, 3, 4, 5...|[0.04491704630617...|\n",
      "|    6|[0, 2, 1, 3, 4, 1...|[0.06653099136808...|\n",
      "|    7|[0, 1, 2, 3, 4, 5...|[0.04624851851433...|\n",
      "|    8|[0, 1, 2, 3, 4, 5...|[0.04226122570119...|\n",
      "|    9|[0, 1, 2, 3, 4, 5...|[0.05501752489920...|\n",
      "+-----+--------------------+--------------------+\n",
      "\n"
     ]
    }
   ],
   "source": [
    "topics = ldamodel.describeTopics()\n",
    "topics.show()"
   ]
  },
  {
   "cell_type": "code",
   "execution_count": 71,
   "metadata": {},
   "outputs": [
    {
     "name": "stdout",
     "output_type": "stream",
     "text": [
      "topic:  0\n",
      "----------\n",
      "\n",
      "----------\n",
      "great\n",
      "----------\n",
      "food\n",
      "----------\n",
      "place\n",
      "----------\n",
      "good\n",
      "----------\n",
      "best\n",
      "----------\n",
      "one\n",
      "----------\n",
      "like\n",
      "----------\n",
      "get\n",
      "----------\n",
      "also\n",
      "----------\n",
      "topic:  1\n",
      "----------\n",
      "\n",
      "----------\n",
      "great\n",
      "----------\n",
      "food\n",
      "----------\n",
      "place\n",
      "----------\n",
      "good\n",
      "----------\n",
      "best\n",
      "----------\n",
      "one\n",
      "----------\n",
      "get\n",
      "----------\n",
      "like\n",
      "----------\n",
      "also\n",
      "----------\n",
      "topic:  2\n",
      "----------\n",
      "\n",
      "----------\n",
      "great\n",
      "----------\n",
      "food\n",
      "----------\n",
      "place\n",
      "----------\n",
      "good\n",
      "----------\n",
      "best\n",
      "----------\n",
      "get\n",
      "----------\n",
      "one\n",
      "----------\n",
      "like\n",
      "----------\n",
      "really\n",
      "----------\n",
      "topic:  3\n",
      "----------\n",
      "\n",
      "----------\n",
      "great\n",
      "----------\n",
      "food\n",
      "----------\n",
      "place\n",
      "----------\n",
      "good\n",
      "----------\n",
      "best\n",
      "----------\n",
      "one\n",
      "----------\n",
      "-\n",
      "----------\n",
      "like\n",
      "----------\n",
      "get\n",
      "----------\n",
      "topic:  4\n",
      "----------\n",
      "\n",
      "----------\n",
      "great\n",
      "----------\n",
      "food\n",
      "----------\n",
      "place\n",
      "----------\n",
      "good\n",
      "----------\n",
      "best\n",
      "----------\n",
      "one\n",
      "----------\n",
      "get\n",
      "----------\n",
      "like\n",
      "----------\n",
      "also\n",
      "----------\n",
      "topic:  5\n",
      "----------\n",
      "\n",
      "----------\n",
      "great\n",
      "----------\n",
      "food\n",
      "----------\n",
      "place\n",
      "----------\n",
      "good\n",
      "----------\n",
      "best\n",
      "----------\n",
      "one\n",
      "----------\n",
      "get\n",
      "----------\n",
      "like\n",
      "----------\n",
      "-\n",
      "----------\n",
      "topic:  6\n",
      "----------\n",
      "\n",
      "----------\n",
      "food\n",
      "----------\n",
      "great\n",
      "----------\n",
      "place\n",
      "----------\n",
      "good\n",
      "----------\n",
      "-\n",
      "----------\n",
      "best\n",
      "----------\n",
      "like\n",
      "----------\n",
      "one\n",
      "----------\n",
      "get\n",
      "----------\n",
      "topic:  7\n",
      "----------\n",
      "\n",
      "----------\n",
      "great\n",
      "----------\n",
      "food\n",
      "----------\n",
      "place\n",
      "----------\n",
      "good\n",
      "----------\n",
      "best\n",
      "----------\n",
      "like\n",
      "----------\n",
      "one\n",
      "----------\n",
      "get\n",
      "----------\n",
      "really\n",
      "----------\n",
      "topic:  8\n",
      "----------\n",
      "\n",
      "----------\n",
      "great\n",
      "----------\n",
      "food\n",
      "----------\n",
      "place\n",
      "----------\n",
      "good\n",
      "----------\n",
      "best\n",
      "----------\n",
      "like\n",
      "----------\n",
      "get\n",
      "----------\n",
      "one\n",
      "----------\n",
      "also\n",
      "----------\n",
      "topic:  9\n",
      "----------\n",
      "\n",
      "----------\n",
      "great\n",
      "----------\n",
      "food\n",
      "----------\n",
      "place\n",
      "----------\n",
      "good\n",
      "----------\n",
      "best\n",
      "----------\n",
      "like\n",
      "----------\n",
      "one\n",
      "----------\n",
      "get\n",
      "----------\n",
      "also\n",
      "----------\n"
     ]
    }
   ],
   "source": [
    "topics_rdd = topics.rdd\n",
    "topics_words = topics_rdd\\\n",
    "       .map(lambda row: row['termIndices'])\\\n",
    "       .map(lambda idx_list: [vocab[idx] for idx in idx_list])\\\n",
    "       .collect()\n",
    "\n",
    "for idx, topic in enumerate(topics_words):\n",
    "    print(\"topic: \", idx)\n",
    "    print(\"----------\")\n",
    "\n",
    "    for word in topic:\n",
    "        print(word)\n",
    "        print(\"----------\")"
   ]
  },
  {
   "cell_type": "code",
   "execution_count": 72,
   "metadata": {},
   "outputs": [
    {
     "data": {
      "text/plain": [
       "[['', 'great', 'food', 'place', 'good', 'best', 'one', 'like', 'get', 'also'],\n",
       " ['', 'great', 'food', 'place', 'good', 'best', 'one', 'get', 'like', 'also'],\n",
       " ['',\n",
       "  'great',\n",
       "  'food',\n",
       "  'place',\n",
       "  'good',\n",
       "  'best',\n",
       "  'get',\n",
       "  'one',\n",
       "  'like',\n",
       "  'really'],\n",
       " ['', 'great', 'food', 'place', 'good', 'best', 'one', '-', 'like', 'get'],\n",
       " ['', 'great', 'food', 'place', 'good', 'best', 'one', 'get', 'like', 'also'],\n",
       " ['', 'great', 'food', 'place', 'good', 'best', 'one', 'get', 'like', '-'],\n",
       " ['', 'food', 'great', 'place', 'good', '-', 'best', 'like', 'one', 'get'],\n",
       " ['',\n",
       "  'great',\n",
       "  'food',\n",
       "  'place',\n",
       "  'good',\n",
       "  'best',\n",
       "  'like',\n",
       "  'one',\n",
       "  'get',\n",
       "  'really'],\n",
       " ['', 'great', 'food', 'place', 'good', 'best', 'like', 'get', 'one', 'also'],\n",
       " ['', 'great', 'food', 'place', 'good', 'best', 'like', 'one', 'get', 'also']]"
      ]
     },
     "execution_count": 72,
     "metadata": {},
     "output_type": "execute_result"
    }
   ],
   "source": [
    "topics_words"
   ]
  },
  {
   "cell_type": "code",
   "execution_count": 73,
   "metadata": {},
   "outputs": [],
   "source": [
    "def flatten(t):\n",
    "    return [item for sublist in t for item in sublist]"
   ]
  },
  {
   "cell_type": "code",
   "execution_count": 74,
   "metadata": {},
   "outputs": [],
   "source": [
    "lst = flatten(topics_words)"
   ]
  },
  {
   "cell_type": "code",
   "execution_count": 75,
   "metadata": {},
   "outputs": [],
   "source": [
    "lst = [x for x in lst if len(x)>2]"
   ]
  },
  {
   "cell_type": "code",
   "execution_count": 76,
   "metadata": {},
   "outputs": [
    {
     "data": {
      "text/html": [
       "<div>\n",
       "<style scoped>\n",
       "    .dataframe tbody tr th:only-of-type {\n",
       "        vertical-align: middle;\n",
       "    }\n",
       "\n",
       "    .dataframe tbody tr th {\n",
       "        vertical-align: top;\n",
       "    }\n",
       "\n",
       "    .dataframe thead th {\n",
       "        text-align: right;\n",
       "    }\n",
       "</style>\n",
       "<table border=\"1\" class=\"dataframe\">\n",
       "  <thead>\n",
       "    <tr style=\"text-align: right;\">\n",
       "      <th></th>\n",
       "      <th>value</th>\n",
       "    </tr>\n",
       "  </thead>\n",
       "  <tbody>\n",
       "    <tr>\n",
       "      <th>0</th>\n",
       "      <td>great</td>\n",
       "    </tr>\n",
       "    <tr>\n",
       "      <th>1</th>\n",
       "      <td>food</td>\n",
       "    </tr>\n",
       "    <tr>\n",
       "      <th>2</th>\n",
       "      <td>place</td>\n",
       "    </tr>\n",
       "    <tr>\n",
       "      <th>3</th>\n",
       "      <td>good</td>\n",
       "    </tr>\n",
       "    <tr>\n",
       "      <th>4</th>\n",
       "      <td>best</td>\n",
       "    </tr>\n",
       "    <tr>\n",
       "      <th>5</th>\n",
       "      <td>one</td>\n",
       "    </tr>\n",
       "    <tr>\n",
       "      <th>6</th>\n",
       "      <td>like</td>\n",
       "    </tr>\n",
       "    <tr>\n",
       "      <th>7</th>\n",
       "      <td>get</td>\n",
       "    </tr>\n",
       "    <tr>\n",
       "      <th>8</th>\n",
       "      <td>also</td>\n",
       "    </tr>\n",
       "    <tr>\n",
       "      <th>9</th>\n",
       "      <td>great</td>\n",
       "    </tr>\n",
       "    <tr>\n",
       "      <th>10</th>\n",
       "      <td>food</td>\n",
       "    </tr>\n",
       "    <tr>\n",
       "      <th>11</th>\n",
       "      <td>place</td>\n",
       "    </tr>\n",
       "    <tr>\n",
       "      <th>12</th>\n",
       "      <td>good</td>\n",
       "    </tr>\n",
       "    <tr>\n",
       "      <th>13</th>\n",
       "      <td>best</td>\n",
       "    </tr>\n",
       "    <tr>\n",
       "      <th>14</th>\n",
       "      <td>one</td>\n",
       "    </tr>\n",
       "  </tbody>\n",
       "</table>\n",
       "</div>"
      ],
      "text/plain": [
       "    value\n",
       "0   great\n",
       "1    food\n",
       "2   place\n",
       "3    good\n",
       "4    best\n",
       "5     one\n",
       "6    like\n",
       "7     get\n",
       "8    also\n",
       "9   great\n",
       "10   food\n",
       "11  place\n",
       "12   good\n",
       "13   best\n",
       "14    one"
      ]
     },
     "execution_count": 76,
     "metadata": {},
     "output_type": "execute_result"
    }
   ],
   "source": [
    "df1 = spark.createDataFrame(lst, StringType())\n",
    "df1 = df1.toPandas()\n",
    "df1.head(15)"
   ]
  },
  {
   "cell_type": "code",
   "execution_count": 77,
   "metadata": {
    "scrolled": true
   },
   "outputs": [
    {
     "data": {
      "image/png": "[encoded data removed]",
      "text/plain": [
       "<Figure size 432x288 with 1 Axes>"
      ]
     },
     "metadata": {},
     "output_type": "display_data"
    }
   ],
   "source": [
    "fields = ['value']\n",
    "stopwords = set(STOPWORDS) \n",
    "\n",
    "\n",
    "text = ' '.join(df1['value'])\n",
    "wordcloud2 = WordCloud(stopwords = stopwords).generate(text)\n",
    "# Generate plot\n",
    "plt.imshow(wordcloud2)\n",
    "plt.axis(\"off\")\n",
    "plt.show()"
   ]
  },
  {
   "cell_type": "code",
   "execution_count": 78,
   "metadata": {
    "scrolled": true
   },
   "outputs": [
    {
     "name": "stdout",
     "output_type": "stream",
     "text": [
      "+--------------------+--------------------+\n",
      "|                text|            filtered|\n",
      "+--------------------+--------------------+\n",
      "|Over the years, I...|[years,, burger, ...|\n",
      "|Wouldn't let some...|[let, someone, gr...|\n",
      "|Review is for foo...|[review, food, on...|\n",
      "|We ordered after ...|[ordered, seeing,...|\n",
      "|Rating take-out. ...|[rating, take-out...|\n",
      "|This was a really...|[really, disappoi...|\n",
      "|Go to Starbucks i...|[go, starbucks, w...|\n",
      "|Insofar as this i...|[insofar, terribl...|\n",
      "|I wish I had the ...|[wish, opportunit...|\n",
      "|This place should...|[place, update, a...|\n",
      "|Pizza/experience ...|[pizza/experience...|\n",
      "|We went for after...|[went, afternoon,...|\n",
      "|I just ordered on...|[ordered, online,...|\n",
      "|Had takeout last ...|[takeout, last, n...|\n",
      "|Overrated pizza. ...|[overrated, pizza...|\n",
      "|Was here this pas...|[past, weekend, s...|\n",
      "|I end up ordering...|[end, ordering, p...|\n",
      "|I went there last...|[went, last, nigh...|\n",
      "|My girlfriend and...|[girlfriend, went...|\n",
      "|This is the most ...|[discriminating, ...|\n",
      "+--------------------+--------------------+\n",
      "only showing top 20 rows\n",
      "\n"
     ]
    }
   ],
   "source": [
    "df_negative.show()"
   ]
  },
  {
   "cell_type": "code",
   "execution_count": null,
   "metadata": {},
   "outputs": [],
   "source": []
  }
 ],
 "metadata": {
  "kernelspec": {
   "display_name": "pySpark",
   "language": "python",
   "name": "pyspark"
  },
  "language_info": {
   "codemirror_mode": {
    "name": "ipython",
    "version": 3
   },
   "file_extension": ".py",
   "mimetype": "text/x-python",
   "name": "python",
   "nbconvert_exporter": "python",
   "pygments_lexer": "ipython3",
   "version": "3.6.8"
  }
 },
 "nbformat": 4,
 "nbformat_minor": 2
}
